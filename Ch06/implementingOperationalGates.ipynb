{
 "cells": [
  {
   "cell_type": "code",
   "execution_count": 1,
   "metadata": {
    "collapsed": false,
    "pycharm": {
     "name": "#%%\n"
    }
   },
   "outputs": [],
   "source": [
    "import tensorflow as tf"
   ]
  },
  {
   "cell_type": "code",
   "execution_count": 2,
   "metadata": {
    "collapsed": false,
    "pycharm": {
     "name": "#%%\n"
    }
   },
   "outputs": [],
   "source": [
    "a = tf.Variable(4.)\n",
    "x_data = tf.keras.Input(shape=(1,))\n",
    "x_val = 5."
   ]
  },
  {
   "cell_type": "code",
   "execution_count": 3,
   "metadata": {
    "collapsed": false,
    "pycharm": {
     "name": "#%%\n"
    }
   },
   "outputs": [
    {
     "name": "stdout",
     "output_type": "stream",
     "text": [
      "WARNING:tensorflow:\n",
      "The following Variables were used a Lambda layer's call (lambda), but\n",
      "are not present in its tracked objects:\n",
      "  <tf.Variable 'Variable:0' shape=() dtype=float32>\n",
      "It is possible that this is intended behavior, but it is more likely\n",
      "an omission. This is a strong indication that this layer should be\n",
      "formulated as a subclassed Layer rather than a Lambda layer.\n"
     ]
    }
   ],
   "source": [
    "multiply_layer = tf.keras.layers.Lambda(lambda x: tf.multiply(a, x))\n",
    "outputs = multiply_layer(x_data)\n",
    "model = tf.keras.Model(inputs=x_data, outputs=outputs, name=\"gate_1\")"
   ]
  },
  {
   "cell_type": "code",
   "execution_count": 4,
   "metadata": {
    "collapsed": false,
    "pycharm": {
     "name": "#%%\n"
    }
   },
   "outputs": [],
   "source": [
    "optimizer = tf.keras.optimizers.SGD(0.01)"
   ]
  },
  {
   "cell_type": "code",
   "execution_count": 5,
   "metadata": {
    "collapsed": false,
    "pycharm": {
     "name": "#%%\n"
    }
   },
   "outputs": [
    {
     "name": "stdout",
     "output_type": "stream",
     "text": [
      "WARNING:tensorflow:Model was constructed with shape (None, 1) for input Tensor(\"input_1:0\", shape=(None, 1), dtype=float32), but it was called on an input with incompatible shape ().\n",
      "7.0 * 5.0 = 35.0\n",
      "WARNING:tensorflow:Model was constructed with shape (None, 1) for input Tensor(\"input_1:0\", shape=(None, 1), dtype=float32), but it was called on an input with incompatible shape ().\n",
      "8.5 * 5.0 = 42.5\n",
      "WARNING:tensorflow:Model was constructed with shape (None, 1) for input Tensor(\"input_1:0\", shape=(None, 1), dtype=float32), but it was called on an input with incompatible shape ().\n",
      "9.25 * 5.0 = 46.25\n",
      "WARNING:tensorflow:Model was constructed with shape (None, 1) for input Tensor(\"input_1:0\", shape=(None, 1), dtype=float32), but it was called on an input with incompatible shape ().\n",
      "9.625 * 5.0 = 48.125\n",
      "WARNING:tensorflow:Model was constructed with shape (None, 1) for input Tensor(\"input_1:0\", shape=(None, 1), dtype=float32), but it was called on an input with incompatible shape ().\n",
      "9.8125 * 5.0 = 49.0625\n",
      "WARNING:tensorflow:Model was constructed with shape (None, 1) for input Tensor(\"input_1:0\", shape=(None, 1), dtype=float32), but it was called on an input with incompatible shape ().\n",
      "9.90625 * 5.0 = 49.53125\n",
      "WARNING:tensorflow:Model was constructed with shape (None, 1) for input Tensor(\"input_1:0\", shape=(None, 1), dtype=float32), but it was called on an input with incompatible shape ().\n",
      "9.953125 * 5.0 = 49.765625\n",
      "WARNING:tensorflow:Model was constructed with shape (None, 1) for input Tensor(\"input_1:0\", shape=(None, 1), dtype=float32), but it was called on an input with incompatible shape ().\n",
      "9.9765625 * 5.0 = 49.8828125\n",
      "WARNING:tensorflow:Model was constructed with shape (None, 1) for input Tensor(\"input_1:0\", shape=(None, 1), dtype=float32), but it was called on an input with incompatible shape ().\n",
      "9.98828125 * 5.0 = 49.94140625\n",
      "WARNING:tensorflow:Model was constructed with shape (None, 1) for input Tensor(\"input_1:0\", shape=(None, 1), dtype=float32), but it was called on an input with incompatible shape ().\n",
      "9.994140625 * 5.0 = 49.970703125\n"
     ]
    }
   ],
   "source": [
    "for i in range(10):\n",
    "    with tf.GradientTape() as tape:\n",
    "        mult_output = model(x_val)\n",
    "        loss_value = tf.square(tf.subtract(mult_output, 50.))\n",
    "\n",
    "    gradients = tape.gradient(loss_value, a)\n",
    "    optimizer.apply_gradients(zip([gradients], [a]))\n",
    "\n",
    "    print(\"{} * {} = {}\".format(a.numpy(), x_val, a.numpy() * x_val))"
   ]
  },
  {
   "cell_type": "code",
   "execution_count": 6,
   "metadata": {
    "collapsed": false,
    "pycharm": {
     "name": "#%%\n"
    }
   },
   "outputs": [
    {
     "name": "stdout",
     "output_type": "stream",
     "text": [
      "WARNING:tensorflow:\n",
      "The following Variables were used a Lambda layer's call (lambda_1), but\n",
      "are not present in its tracked objects:\n",
      "  <tf.Variable 'Variable:0' shape=() dtype=float32>\n",
      "It is possible that this is intended behavior, but it is more likely\n",
      "an omission. This is a strong indication that this layer should be\n",
      "formulated as a subclassed Layer rather than a Lambda layer.\n",
      "WARNING:tensorflow:\n",
      "The following Variables were used a Lambda layer's call (lambda_2), but\n",
      "are not present in its tracked objects:\n",
      "  <tf.Variable 'Variable:0' shape=() dtype=float32>\n",
      "It is possible that this is intended behavior, but it is more likely\n",
      "an omission. This is a strong indication that this layer should be\n",
      "formulated as a subclassed Layer rather than a Lambda layer.\n"
     ]
    }
   ],
   "source": [
    "# import tensorflow as tf\n",
    "\n",
    "x_data = tf.keras.Input(dtype=tf.float32, shape=(1,))\n",
    "x_val = 5.\n",
    "a = tf.Variable(1., dtype=tf.float32)\n",
    "b = tf.Variable(1., dtype=tf.float32)\n",
    "\n",
    "multiply_layer = tf.keras.layers.Lambda(lambda x: tf.multiply(a, x))\n",
    "\n",
    "add_layer = tf.keras.layers.Lambda(lambda x: tf.add(b, x))\n",
    "\n",
    "res = multiply_layer(x_data)\n",
    "outputs = add_layer(res)\n",
    "\n",
    "model = tf.keras.Model(inputs=x_data, outputs=outputs, name=\"gate_2\")\n",
    "\n",
    "optimizer = tf.keras.optimizers.SGD(0.01)"
   ]
  },
  {
   "cell_type": "code",
   "execution_count": 8,
   "metadata": {
    "collapsed": false,
    "pycharm": {
     "name": "#%%\n"
    }
   },
   "outputs": [
    {
     "name": "stdout",
     "output_type": "stream",
     "text": [
      "Optimizing two gate output to 50.\n",
      "WARNING:tensorflow:Model was constructed with shape (None, 1) for input Tensor(\"input_2:0\", shape=(None, 1), dtype=float32), but it was called on an input with incompatible shape ().\n",
      "Step: 0 ==> 7.51200008392334 * 5.0 + 2.3024001121520996 = 39.8624005317688\n",
      "WARNING:tensorflow:Model was constructed with shape (None, 1) for input Tensor(\"input_2:0\", shape=(None, 1), dtype=float32), but it was called on an input with incompatible shape ().\n",
      "Step: 1 ==> 8.52575969696045 * 5.0 + 2.5051522254943848 = 45.13395071029663\n",
      "WARNING:tensorflow:Model was constructed with shape (None, 1) for input Tensor(\"input_2:0\", shape=(None, 1), dtype=float32), but it was called on an input with incompatible shape ().\n",
      "Step: 2 ==> 9.012364387512207 * 5.0 + 2.602473258972168 = 47.6642951965332\n",
      "WARNING:tensorflow:Model was constructed with shape (None, 1) for input Tensor(\"input_2:0\", shape=(None, 1), dtype=float32), but it was called on an input with incompatible shape ().\n",
      "Step: 3 ==> 9.24593448638916 * 5.0 + 2.6491873264312744 = 48.878859758377075\n",
      "WARNING:tensorflow:Model was constructed with shape (None, 1) for input Tensor(\"input_2:0\", shape=(None, 1), dtype=float32), but it was called on an input with incompatible shape ().\n",
      "Step: 4 ==> 9.358048439025879 * 5.0 + 2.671610116958618 = 49.46185231208801\n",
      "WARNING:tensorflow:Model was constructed with shape (None, 1) for input Tensor(\"input_2:0\", shape=(None, 1), dtype=float32), but it was called on an input with incompatible shape ().\n",
      "Step: 5 ==> 9.411863327026367 * 5.0 + 2.682373046875 = 49.741689682006836\n",
      "WARNING:tensorflow:Model was constructed with shape (None, 1) for input Tensor(\"input_2:0\", shape=(None, 1), dtype=float32), but it was called on an input with incompatible shape ().\n",
      "Step: 6 ==> 9.437694549560547 * 5.0 + 2.6875391006469727 = 49.87601184844971\n",
      "WARNING:tensorflow:Model was constructed with shape (None, 1) for input Tensor(\"input_2:0\", shape=(None, 1), dtype=float32), but it was called on an input with incompatible shape ().\n",
      "Step: 7 ==> 9.450093269348145 * 5.0 + 2.690018892288208 = 49.94048523902893\n",
      "WARNING:tensorflow:Model was constructed with shape (None, 1) for input Tensor(\"input_2:0\", shape=(None, 1), dtype=float32), but it was called on an input with incompatible shape ().\n",
      "Step: 8 ==> 9.456045150756836 * 5.0 + 2.691209316253662 = 49.97143507003784\n",
      "WARNING:tensorflow:Model was constructed with shape (None, 1) for input Tensor(\"input_2:0\", shape=(None, 1), dtype=float32), but it was called on an input with incompatible shape ().\n",
      "Step: 9 ==> 9.458901405334473 * 5.0 + 2.6917805671691895 = 49.98628759384155\n"
     ]
    }
   ],
   "source": [
    "print('Optimizing two gate output to 50.')\n",
    "for i in range(10):\n",
    "    # open a gradientTape\n",
    "    with tf.GradientTape(persistent=True) as tape:\n",
    "        two_gate_output = model(x_val)\n",
    "        loss_value = tf.square(tf.subtract(two_gate_output, 50.))\n",
    "    gradients_a = tape.gradient(loss_value, a)\n",
    "    gradients_b = tape.gradient(loss_value, b)\n",
    "    optimizer.apply_gradients(zip([gradients_a, gradients_b], [a, b]))\n",
    "    print(\"Step: {} ==> {} * {} + {} = {}\".format(i, a.numpy(), x_val, b.numpy(), a.numpy()*x_val+b.numpy()))"
   ]
  },
  {
   "cell_type": "code",
   "execution_count": null,
   "metadata": {
    "collapsed": false,
    "pycharm": {
     "name": "#%%\n"
    }
   },
   "outputs": [],
   "source": []
  }
 ],
 "metadata": {
  "kernelspec": {
   "display_name": "Python 3",
   "language": "python",
   "name": "python3"
  },
  "language_info": {
   "codemirror_mode": {
    "name": "ipython",
    "version": 2
   },
   "file_extension": ".py",
   "mimetype": "text/x-python",
   "name": "python",
   "nbconvert_exporter": "python",
   "pygments_lexer": "ipython2",
   "version": "2.7.6"
  }
 },
 "nbformat": 4,
 "nbformat_minor": 0
}
