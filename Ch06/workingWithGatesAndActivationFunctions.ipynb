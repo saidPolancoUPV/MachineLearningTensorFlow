{
 "cells": [
  {
   "cell_type": "code",
   "execution_count": 1,
   "metadata": {
    "collapsed": false,
    "pycharm": {
     "name": "#%%\n"
    }
   },
   "outputs": [],
   "source": [
    "import tensorflow as tf\n",
    "import numpy as np\n",
    "import matplotlib.pyplot as plt"
   ]
  },
  {
   "cell_type": "code",
   "execution_count": 2,
   "metadata": {
    "collapsed": false,
    "pycharm": {
     "name": "#%%\n"
    }
   },
   "outputs": [],
   "source": [
    "tf.random.set_seed(5)\n",
    "np.random.seed(42)"
   ]
  },
  {
   "cell_type": "code",
   "execution_count": 3,
   "metadata": {
    "collapsed": false,
    "pycharm": {
     "name": "#%%\n"
    }
   },
   "outputs": [],
   "source": [
    "batch_size = 50\n",
    "x = np.random.normal(2, 0.1, 500)\n",
    "x_data = tf.keras.Input(shape=(1, ))\n",
    "\n",
    "a1 = tf.Variable(tf.random.normal(shape=[1, 1], seed=5))\n",
    "b1 = tf.Variable(tf.random.uniform(shape=[1, 1], seed=5))\n",
    "a2 = tf.Variable(tf.random.normal(shape=[1, 1], seed=5))\n",
    "b2 = tf.Variable(tf.random.uniform(shape=[1, 1], seed=5))"
   ]
  },
  {
   "cell_type": "code",
   "execution_count": 4,
   "metadata": {
    "collapsed": false,
    "pycharm": {
     "name": "#%%\n"
    }
   },
   "outputs": [],
   "source": [
    "class MyCustomGrateSigmoid(tf.keras.layers.Layer):\n",
    "    def __init__(self, units, a1, b1):\n",
    "        super(MyCustomGrateSigmoid, self).__init__()\n",
    "        self.units = units\n",
    "        self.a1 = a1\n",
    "        self.b1 = b1\n",
    "\n",
    "    def call(self, inputs):\n",
    "        \"\"\" Compute f(x) = sigmoid(a1 * x + b1) \"\"\"\n",
    "        return tf.math.sigmoid(inputs * self.a1 + self.b1)\n"
   ]
  },
  {
   "cell_type": "code",
   "execution_count": 11,
   "metadata": {
    "collapsed": false,
    "pycharm": {
     "name": "#%%\n"
    }
   },
   "outputs": [],
   "source": [
    "# add a layer which computes f(x) = sigmoid(a1 * x + b1)\n",
    "my_custom_gate_sigmoid = MyCustomGrateSigmoid(units=1, a1=a1, b1=b1)\n",
    "outputs_sigmoid = my_custom_gate_sigmoid(x_data)"
   ]
  },
  {
   "cell_type": "code",
   "execution_count": 6,
   "metadata": {
    "collapsed": false,
    "pycharm": {
     "name": "#%%\n"
    }
   },
   "outputs": [],
   "source": [
    "# build the model\n",
    "model_sigmoid = tf.keras.Model(inputs=x_data, outputs=output_sigmoid, name=\"gate_sigmoid\")"
   ]
  },
  {
   "cell_type": "code",
   "execution_count": 7,
   "metadata": {
    "collapsed": false,
    "pycharm": {
     "name": "#%%\n"
    }
   },
   "outputs": [],
   "source": [
    "class MyCustomGateRelu(tf.keras.layers.Layer):\n",
    "    def __init__(self, units, a2, b2):\n",
    "        super(MyCustomGateRelu, self).__init__()\n",
    "        self.units = units\n",
    "        self.a2 = a2\n",
    "        self.b2 = b2\n",
    "\n",
    "    def call(self, inputs):\n",
    "        \"\"\" Compute f(x) = relu(a2 * x + b2) \"\"\"\n",
    "        return tf.nn.relu(inputs * self.a2 + self.b2)"
   ]
  },
  {
   "cell_type": "code",
   "execution_count": 8,
   "metadata": {
    "collapsed": false,
    "pycharm": {
     "name": "#%%\n"
    }
   },
   "outputs": [],
   "source": [
    "my_custom_gate_relu = MyCustomGateRelu(units=1, a2=a2, b2=b2)\n",
    "outputs_relu = my_custom_gate_relu(x_data)"
   ]
  },
  {
   "cell_type": "code",
   "execution_count": 9,
   "metadata": {
    "collapsed": false,
    "pycharm": {
     "name": "#%%\n"
    }
   },
   "outputs": [],
   "source": [
    "model_relu = tf.keras.Model(inputs=x_data, outputs=outputs_relu, name=\"gate_relu\")"
   ]
  },
  {
   "cell_type": "code",
   "execution_count": 10,
   "metadata": {
    "collapsed": false,
    "pycharm": {
     "name": "#%%\n"
    }
   },
   "outputs": [],
   "source": [
    "optimizer = tf.keras.optimizers.SGD(0.01)"
   ]
  },
  {
   "cell_type": "code",
   "execution_count": 12,
   "metadata": {
    "collapsed": false,
    "pycharm": {
     "name": "#%%\n"
    }
   },
   "outputs": [
    {
     "name": "stdout",
     "output_type": "stream",
     "text": [
      "\n",
      " Optimizing Sigmoid AND Relu Output to 0.75\n",
      "sigmoid = 0.053502936relu = 0.41717994\n",
      "sigmoid = 0.06592579relu = 0.74954367\n",
      "sigmoid = 0.07885077relu = 0.7502562\n",
      "sigmoid = 0.10079076relu = 0.75001615\n",
      "sigmoid = 0.13066593relu = 0.74857485\n",
      "sigmoid = 0.18301637relu = 0.7482997\n",
      "sigmoid = 0.26148313relu = 0.7496901\n",
      "sigmoid = 0.36430547relu = 0.75106066\n",
      "sigmoid = 0.46104252relu = 0.74935675\n",
      "sigmoid = 0.53752536relu = 0.7483227\n"
     ]
    }
   ],
   "source": [
    "# run loop across gate\n",
    "print('\\n Optimizing Sigmoid AND Relu Output to 0.75')\n",
    "loss_vec_sigmoid = []\n",
    "loss_vec_relu = []\n",
    "\n",
    "activation_sigmoid = []\n",
    "activation_relu = []\n",
    "\n",
    "for i in range(500):\n",
    "    rand_indices = np.random.choice(len(x), size=batch_size)\n",
    "    x_vals = np.transpose([x[rand_indices]])\n",
    "\n",
    "    # open a GRadient tape\n",
    "    with tf.GradientTape(persistent=True) as tape:\n",
    "        output_sigmoid = model_sigmoid(x_vals)\n",
    "        output_relu = model_relu(x_vals)\n",
    "\n",
    "        loss_sigmoid = tf.reduce_mean(tf.square(tf.subtract(output_sigmoid, 0.75)))\n",
    "        loss_vec_sigmoid.append(loss_sigmoid)\n",
    "\n",
    "        loss_relu = tf.reduce_mean(tf.square(tf.subtract(output_relu, 0.75)))\n",
    "        loss_vec_relu.append(loss_relu)\n",
    "\n",
    "    gradients_a1 = tape.gradient(loss_sigmoid, my_custom_gate_sigmoid.a1)\n",
    "    gradients_b1 = tape.gradient(loss_sigmoid, my_custom_gate_sigmoid.b1)\n",
    "\n",
    "    gradients_a2 = tape.gradient(loss_relu, my_custom_gate_relu.a2)\n",
    "    gradients_b2 = tape.gradient(loss_relu, my_custom_gate_relu.b2)\n",
    "\n",
    "    optimizer.apply_gradients(zip([gradients_a1, gradients_b1], [my_custom_gate_sigmoid.a1, my_custom_gate_sigmoid.b1]))\n",
    "    optimizer.apply_gradients(zip([gradients_a2, gradients_b2], [my_custom_gate_relu.a2, my_custom_gate_relu.b2]))\n",
    "\n",
    "    output_sigmoid = model_sigmoid(x_vals)\n",
    "    output_relu = model_relu(x_vals)\n",
    "\n",
    "    activation_sigmoid.append(np.mean(output_sigmoid))\n",
    "    activation_relu.append(np.mean(output_relu))\n",
    "\n",
    "    if i%50==0:\n",
    "        print('sigmoid = ' + str(np.mean(output_sigmoid)) + 'relu = ' + str(np.mean(output_relu)))"
   ]
  },
  {
   "cell_type": "code",
   "execution_count": 13,
   "metadata": {
    "collapsed": false,
    "pycharm": {
     "name": "#%%\n"
    }
   },
   "outputs": [
    {
     "data": {
      "image/png": "[encoded data removed]",
      "text/plain": [
       "<Figure size 432x288 with 1 Axes>"
      ]
     },
     "metadata": {
      "needs_background": "light"
     },
     "output_type": "display_data"
    },
    {
     "data": {
      "image/png": "[encoded data removed]",
      "text/plain": [
       "<Figure size 432x288 with 1 Axes>"
      ]
     },
     "metadata": {
      "needs_background": "light"
     },
     "output_type": "display_data"
    }
   ],
   "source": [
    "plt.plot(activation_sigmoid, 'k-', label='Sigmoid Activation')\n",
    "plt.plot(activation_relu, 'r--', label='Relu Activation')\n",
    "plt.ylim([0, 1.0])\n",
    "plt.title('Activation Outputs')\n",
    "plt.xlabel('Generation')\n",
    "plt.ylabel('Outputs')\n",
    "plt.legend(loc='upper right')\n",
    "plt.show()\n",
    "plt.plot(loss_vec_sigmoid, 'k-', label='Sigmoid Loss')\n",
    "plt.plot(loss_vec_relu, 'r--', label='Relu Loss')\n",
    "plt.ylim([0, 1.0])\n",
    "plt.title('Loss per Generation')\n",
    "plt.xlabel('Generation')\n",
    "plt.ylabel('Loss')\n",
    "plt.legend(loc='upper right')\n",
    "plt.show()"
   ]
  },
  {
   "cell_type": "code",
   "execution_count": null,
   "metadata": {
    "collapsed": false,
    "pycharm": {
     "name": "#%%\n"
    }
   },
   "outputs": [],
   "source": []
  }
 ],
 "metadata": {
  "kernelspec": {
   "display_name": "Python 3",
   "language": "python",
   "name": "python3"
  },
  "language_info": {
   "codemirror_mode": {
    "name": "ipython",
    "version": 2
   },
   "file_extension": ".py",
   "mimetype": "text/x-python",
   "name": "python",
   "nbconvert_exporter": "python",
   "pygments_lexer": "ipython2",
   "version": "2.7.6"
  }
 },
 "nbformat": 4,
 "nbformat_minor": 0
}
