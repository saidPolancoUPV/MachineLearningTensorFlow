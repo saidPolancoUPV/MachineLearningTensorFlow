{
 "cells": [
  {
   "cell_type": "code",
   "execution_count": 1,
   "metadata": {},
   "outputs": [],
   "source": [
    "import tensorflow as tf\n",
    "from tensorflow import keras\n",
    "import numpy as np\n",
    "from tensorflow.keras.preprocessing.sequence import TimeseriesGenerator, pad_sequences, skipgrams, make_sampling_table\n",
    "from tensorflow.keras.preprocessing.text import text_to_word_sequence, one_hot, hashing_trick, Tokenizer\n",
    "from tensorflow.keras.models import Sequential\n",
    "from tensorflow.keras.layers import Dense"
   ]
  },
  {
   "cell_type": "code",
   "execution_count": 2,
   "metadata": {},
   "outputs": [
    {
     "name": "stdout",
     "output_type": "stream",
     "text": [
      "[0 1 2 3 4 5 6 7 8 9]\n"
     ]
    }
   ],
   "source": [
    "series = np.array([i for i in range(10)])\n",
    "print(series)"
   ]
  },
  {
   "cell_type": "code",
   "execution_count": 3,
   "metadata": {},
   "outputs": [],
   "source": [
    "generator = TimeseriesGenerator(data=series,\n",
    "                               targets=series,\n",
    "                               length=5,\n",
    "                               batch_size=1,\n",
    "                               shuffle=False,\n",
    "                               reverse=False)"
   ]
  },
  {
   "cell_type": "code",
   "execution_count": 4,
   "metadata": {},
   "outputs": [
    {
     "name": "stdout",
     "output_type": "stream",
     "text": [
      "Samples: 5\n"
     ]
    }
   ],
   "source": [
    "print('Samples: %d' % len(generator))"
   ]
  },
  {
   "cell_type": "code",
   "execution_count": 5,
   "metadata": {},
   "outputs": [
    {
     "name": "stdout",
     "output_type": "stream",
     "text": [
      "[[0 1 2 3 4]] => [5]\n",
      "[[1 2 3 4 5]] => [6]\n",
      "[[2 3 4 5 6]] => [7]\n",
      "[[3 4 5 6 7]] => [8]\n",
      "[[4 5 6 7 8]] => [9]\n"
     ]
    }
   ],
   "source": [
    "for i in range(len(generator)):\n",
    "    x, y = generator[i]\n",
    "    print('%s => %s' % (x, y))"
   ]
  },
  {
   "cell_type": "code",
   "execution_count": 6,
   "metadata": {},
   "outputs": [],
   "source": [
    "model = Sequential()\n",
    "model.add(Dense(10, activation='relu', input_dim=5))\n",
    "model.add(Dense(1))\n",
    "model.compile(optimizer='adam', loss='mse')"
   ]
  },
  {
   "cell_type": "code",
   "execution_count": 7,
   "metadata": {},
   "outputs": [
    {
     "name": "stdout",
     "output_type": "stream",
     "text": [
      "Epoch 1/10\n",
      "5/5 [==============================] - 0s 2ms/step - loss: 49.3681\n",
      "Epoch 2/10\n",
      "5/5 [==============================] - 0s 1ms/step - loss: 46.8617\n",
      "Epoch 3/10\n",
      "5/5 [==============================] - 0s 1ms/step - loss: 44.3252\n",
      "Epoch 4/10\n",
      "5/5 [==============================] - 0s 2ms/step - loss: 42.0204\n",
      "Epoch 5/10\n",
      "5/5 [==============================] - 0s 2ms/step - loss: 39.8709\n",
      "Epoch 6/10\n",
      "5/5 [==============================] - 0s 2ms/step - loss: 37.7990\n",
      "Epoch 7/10\n",
      "5/5 [==============================] - 0s 2ms/step - loss: 35.2688\n",
      "Epoch 8/10\n",
      "5/5 [==============================] - 0s 2ms/step - loss: 33.1168\n",
      "Epoch 9/10\n",
      "5/5 [==============================] - 0s 2ms/step - loss: 31.1715\n",
      "Epoch 10/10\n",
      "5/5 [==============================] - 0s 2ms/step - loss: 29.2932\n"
     ]
    },
    {
     "data": {
      "text/plain": [
       "<tensorflow.python.keras.callbacks.History at 0x7f7f85640ba8>"
      ]
     },
     "execution_count": 7,
     "metadata": {},
     "output_type": "execute_result"
    }
   ],
   "source": [
    "model.fit(generator, epochs=10)"
   ]
  },
  {
   "cell_type": "markdown",
   "metadata": {},
   "source": [
    "## Padding sequences"
   ]
  },
  {
   "cell_type": "code",
   "execution_count": 8,
   "metadata": {},
   "outputs": [],
   "source": [
    "sentences = [[\"What\", \"do\", \"you\", \"like\", \"?\"],\n",
    "             [\"I\", \"like\", \"basket-ball\", \"!\"],\n",
    "             [\"And\", \"you\", \"?\"],\n",
    "             [\"I\", \"like\", \"coconut\", \"and\", \"apple\"]]"
   ]
  },
  {
   "cell_type": "code",
   "execution_count": 9,
   "metadata": {},
   "outputs": [],
   "source": [
    "text_set = set(np.concatenate(sentences))\n",
    "vocab_to_int = dict(zip(text_set, range(len(text_set))))\n",
    "int_to_vocab = {vocab_to_int[word]:word for word in vocab_to_int.keys()}"
   ]
  },
  {
   "cell_type": "code",
   "execution_count": 10,
   "metadata": {},
   "outputs": [
    {
     "data": {
      "text/plain": [
       "[[9, 0, 10, 2, 5], [1, 2, 8, 11], [6, 10, 5], [1, 2, 7, 3, 4]]"
      ]
     },
     "execution_count": 10,
     "metadata": {},
     "output_type": "execute_result"
    }
   ],
   "source": [
    "encoded_sentences = []\n",
    "for sentence in sentences:\n",
    "    encoded_sentence = [vocab_to_int[word] for word in sentence]\n",
    "    encoded_sentences.append(encoded_sentence)\n",
    "encoded_sentences"
   ]
  },
  {
   "cell_type": "code",
   "execution_count": 11,
   "metadata": {},
   "outputs": [
    {
     "data": {
      "text/plain": [
       "array([[ 9,  0, 10,  2,  5],\n",
       "       [ 0,  1,  2,  8, 11],\n",
       "       [ 0,  0,  6, 10,  5],\n",
       "       [ 1,  2,  7,  3,  4]], dtype=int32)"
      ]
     },
     "execution_count": 11,
     "metadata": {},
     "output_type": "execute_result"
    }
   ],
   "source": [
    "pad_sequences(encoded_sentences)"
   ]
  },
  {
   "cell_type": "code",
   "execution_count": 12,
   "metadata": {},
   "outputs": [
    {
     "data": {
      "text/plain": [
       "array([[ 0,  0,  9,  0, 10,  2,  5],\n",
       "       [ 0,  0,  0,  1,  2,  8, 11],\n",
       "       [ 0,  0,  0,  0,  6, 10,  5],\n",
       "       [ 0,  0,  1,  2,  7,  3,  4]], dtype=int32)"
      ]
     },
     "execution_count": 12,
     "metadata": {},
     "output_type": "execute_result"
    }
   ],
   "source": [
    "pad_sequences(encoded_sentences, maxlen=7)"
   ]
  },
  {
   "cell_type": "code",
   "execution_count": 13,
   "metadata": {},
   "outputs": [
    {
     "data": {
      "text/plain": [
       "array([[10,  2,  5],\n",
       "       [ 2,  8, 11],\n",
       "       [ 6, 10,  5],\n",
       "       [ 7,  3,  4]], dtype=int32)"
      ]
     },
     "execution_count": 13,
     "metadata": {},
     "output_type": "execute_result"
    }
   ],
   "source": [
    "pad_sequences(encoded_sentences, maxlen=3)"
   ]
  },
  {
   "cell_type": "code",
   "execution_count": 14,
   "metadata": {},
   "outputs": [
    {
     "data": {
      "text/plain": [
       "array([[ 9,  0, 10],\n",
       "       [ 1,  2,  8],\n",
       "       [ 6, 10,  5],\n",
       "       [ 1,  2,  7]], dtype=int32)"
      ]
     },
     "execution_count": 14,
     "metadata": {},
     "output_type": "execute_result"
    }
   ],
   "source": [
    "pad_sequences(encoded_sentences, maxlen=3, truncating='post')"
   ]
  },
  {
   "cell_type": "markdown",
   "metadata": {},
   "source": [
    "## Skip-grams"
   ]
  },
  {
   "cell_type": "code",
   "execution_count": 15,
   "metadata": {},
   "outputs": [],
   "source": [
    "sentence = \"I like coconut and apple\"\n",
    "encoded_sentence = [vocab_to_int[word] for word in sentence.split()]\n",
    "vocabulary_size = len(encoded_sentence)\n",
    "pairs, labels = skipgrams(encoded_sentence, \n",
    "                          vocabulary_size, \n",
    "                          window_size=1,\n",
    "                          negative_samples=0)"
   ]
  },
  {
   "cell_type": "code",
   "execution_count": 16,
   "metadata": {},
   "outputs": [
    {
     "name": "stdout",
     "output_type": "stream",
     "text": [
      "(and , apple ) -> 1\n",
      "(I , like ) -> 1\n",
      "(like , coconut ) -> 1\n",
      "(coconut , and ) -> 1\n",
      "(coconut , like ) -> 1\n",
      "(and , coconut ) -> 1\n",
      "(apple , and ) -> 1\n",
      "(like , I ) -> 1\n"
     ]
    }
   ],
   "source": [
    "for i in range(len(pairs)):\n",
    "    print(\"({:s} , {:s} ) -> {:d}\".format(\n",
    "          int_to_vocab[pairs[i][0]], \n",
    "          int_to_vocab[pairs[i][1]], \n",
    "          labels[i]))"
   ]
  },
  {
   "cell_type": "markdown",
   "metadata": {},
   "source": [
    "## Text preprocessing"
   ]
  },
  {
   "cell_type": "code",
   "execution_count": 17,
   "metadata": {},
   "outputs": [
    {
     "data": {
      "text/plain": [
       "['I', 'like', 'coconut', 'I', 'like', 'apple']"
      ]
     },
     "execution_count": 17,
     "metadata": {},
     "output_type": "execute_result"
    }
   ],
   "source": [
    "sentence = \"I like coconut , I like apple\"\n",
    "text_to_word_sequence(sentence, lower=False)"
   ]
  },
  {
   "cell_type": "code",
   "execution_count": 18,
   "metadata": {},
   "outputs": [
    {
     "data": {
      "text/plain": [
       "['i', 'like', 'coconut', ',', 'i', 'like', 'apple']"
      ]
     },
     "execution_count": 18,
     "metadata": {},
     "output_type": "execute_result"
    }
   ],
   "source": [
    "text_to_word_sequence(sentence, lower=True, filters=[])"
   ]
  },
  {
   "cell_type": "markdown",
   "metadata": {},
   "source": [
    "### Tokenizer"
   ]
  },
  {
   "cell_type": "code",
   "execution_count": 19,
   "metadata": {},
   "outputs": [],
   "source": [
    "sentences = [[\"What\", \"do\", \"you\", \"like\", \"?\"],\n",
    "            [\"I\", \"like\", \"basket-ball\", \"!\"],\n",
    "            [\"And\", \"you\", \"?\"],\n",
    "            [\"I\", \"like\", \"coconut\", \"and\", \"apple\"]]"
   ]
  },
  {
   "cell_type": "code",
   "execution_count": 20,
   "metadata": {},
   "outputs": [],
   "source": [
    "t = Tokenizer()\n",
    "\n",
    "t.fit_on_texts(sentences)"
   ]
  },
  {
   "cell_type": "code",
   "execution_count": 21,
   "metadata": {},
   "outputs": [
    {
     "name": "stdout",
     "output_type": "stream",
     "text": [
      "OrderedDict([('what', 1), ('do', 1), ('you', 2), ('like', 3), ('?', 2), ('i', 2), ('basket-ball', 1), ('!', 1), ('and', 2), ('coconut', 1), ('apple', 1)])\n"
     ]
    }
   ],
   "source": [
    "print(t.word_counts)"
   ]
  },
  {
   "cell_type": "code",
   "execution_count": 22,
   "metadata": {},
   "outputs": [
    {
     "name": "stdout",
     "output_type": "stream",
     "text": [
      "4\n"
     ]
    }
   ],
   "source": [
    "print(t.document_count)"
   ]
  },
  {
   "cell_type": "code",
   "execution_count": 23,
   "metadata": {},
   "outputs": [
    {
     "name": "stdout",
     "output_type": "stream",
     "text": [
      "{'like': 1, 'you': 2, '?': 3, 'i': 4, 'and': 5, 'what': 6, 'do': 7, 'basket-ball': 8, '!': 9, 'coconut': 10, 'apple': 11}\n"
     ]
    }
   ],
   "source": [
    "print(t.word_index)"
   ]
  },
  {
   "cell_type": "code",
   "execution_count": 24,
   "metadata": {},
   "outputs": [
    {
     "name": "stdout",
     "output_type": "stream",
     "text": [
      "defaultdict(<class 'int'>, {'do': 1, 'what': 1, 'like': 3, '?': 2, 'you': 2, 'i': 2, '!': 1, 'basket-ball': 1, 'and': 2, 'apple': 1, 'coconut': 1})\n"
     ]
    }
   ],
   "source": [
    "print(t.word_docs)"
   ]
  },
  {
   "cell_type": "code",
   "execution_count": 25,
   "metadata": {},
   "outputs": [
    {
     "data": {
      "text/plain": [
       "array([[0., 1., 1., 1., 0., 0., 1., 1., 0., 0., 0., 0.],\n",
       "       [0., 1., 0., 0., 1., 0., 0., 0., 1., 1., 0., 0.],\n",
       "       [0., 0., 1., 1., 0., 1., 0., 0., 0., 0., 0., 0.],\n",
       "       [0., 1., 0., 0., 1., 1., 0., 0., 0., 0., 1., 1.]])"
      ]
     },
     "execution_count": 25,
     "metadata": {},
     "output_type": "execute_result"
    }
   ],
   "source": [
    "t.texts_to_matrix(sentences, mode='binary')"
   ]
  },
  {
   "cell_type": "code",
   "execution_count": 26,
   "metadata": {},
   "outputs": [
    {
     "data": {
      "text/plain": [
       "array([[0., 1., 1., 1., 0., 0., 1., 1., 0., 0., 0., 0.],\n",
       "       [0., 1., 0., 0., 1., 0., 0., 0., 1., 1., 0., 0.],\n",
       "       [0., 0., 1., 1., 0., 1., 0., 0., 0., 0., 0., 0.],\n",
       "       [0., 1., 0., 0., 1., 1., 0., 0., 0., 0., 1., 1.]])"
      ]
     },
     "execution_count": 26,
     "metadata": {},
     "output_type": "execute_result"
    }
   ],
   "source": [
    "t.texts_to_matrix(sentences, mode='count')"
   ]
  },
  {
   "cell_type": "markdown",
   "metadata": {},
   "source": [
    "### Image preprocessing"
   ]
  },
  {
   "cell_type": "code",
   "execution_count": 27,
   "metadata": {},
   "outputs": [],
   "source": [
    "# load CIFAR10 Dataset\n",
    "(x_cifar10_train, y_cifar10_train), (x_cifar10_test, y_cifar10_test) = tf.keras.datasets.cifar10.load_data()"
   ]
  },
  {
   "cell_type": "code",
   "execution_count": 28,
   "metadata": {},
   "outputs": [],
   "source": [
    "datagen = tf.keras.preprocessing.image.ImageDataGenerator(rotation_range=15,\n",
    "                                                         width_shift_range=3,\n",
    "                                                         height_shift_range=3,\n",
    "                                                         horizontal_flip=True)"
   ]
  },
  {
   "cell_type": "code",
   "execution_count": 29,
   "metadata": {},
   "outputs": [],
   "source": [
    "it = datagen.flow(x_cifar10_train, y_cifar10_train, batch_size=32)"
   ]
  },
  {
   "cell_type": "code",
   "execution_count": 30,
   "metadata": {},
   "outputs": [],
   "source": [
    "model = tf.keras.models.Sequential([tf.keras.layers.Conv2D(filters=32, kernel_size=3, padding=\"same\", activation=\"relu\",\n",
    "                                                          input_shape=[32, 32, 3]),\n",
    "                                   tf.keras.layers.Conv2D(filters=32, kernel_size=3, padding=\"same\", activation=\"relu\"),\n",
    "                                   tf.keras.layers.MaxPool2D(pool_size=2),\n",
    "                                   tf.keras.layers.Conv2D(filters=64, kernel_size=3, padding=\"same\", activation=\"relu\"),\n",
    "                                   tf.keras.layers.Conv2D(filters=64, kernel_size=3, padding=\"same\", activation=\"relu\"),\n",
    "                                   tf.keras.layers.MaxPool2D(pool_size=2),\n",
    "                                   tf.keras.layers.Flatten(),\n",
    "                                   tf.keras.layers.Dense(128, activation=\"relu\"),\n",
    "                                   tf.keras.layers.Dense(10, activation=\"softmax\")])"
   ]
  },
  {
   "cell_type": "code",
   "execution_count": 31,
   "metadata": {},
   "outputs": [],
   "source": [
    "model.compile(loss=\"sparse_categorical_crossentropy\", optimizer=tf.keras.optimizers.SGD(lr=0.01),\n",
    "             metrics=[\"accuracy\"])"
   ]
  },
  {
   "cell_type": "code",
   "execution_count": 32,
   "metadata": {},
   "outputs": [
    {
     "name": "stdout",
     "output_type": "stream",
     "text": [
      "Requirement already satisfied: SciPy in /usr/local/lib/python3.6/dist-packages (1.5.4)\n",
      "Requirement already satisfied: numpy>=1.14.5 in /usr/local/lib/python3.6/dist-packages (from SciPy) (1.18.5)\n",
      "\u001b[33mWARNING: You are using pip version 20.2.4; however, version 21.3.1 is available.\n",
      "You should consider upgrading via the '/usr/bin/python3 -m pip install --upgrade pip' command.\u001b[0m\n"
     ]
    }
   ],
   "source": [
    "!pip install SciPy"
   ]
  },
  {
   "cell_type": "code",
   "execution_count": 33,
   "metadata": {},
   "outputs": [
    {
     "name": "stdout",
     "output_type": "stream",
     "text": [
      "Epoch 1/10\n",
      "1563/1562 [==============================] - 40s 26ms/step - loss: nan - accuracy: 0.9985 - val_loss: nan - val_accuracy: 1.0000\n",
      "Epoch 2/10\n",
      "1563/1562 [==============================] - 40s 26ms/step - loss: nan - accuracy: 1.0000 - val_loss: nan - val_accuracy: 1.0000\n",
      "Epoch 3/10\n",
      "1563/1562 [==============================] - 42s 27ms/step - loss: nan - accuracy: 1.0000 - val_loss: nan - val_accuracy: 1.0000\n",
      "Epoch 4/10\n",
      "1563/1562 [==============================] - 41s 26ms/step - loss: nan - accuracy: 1.0000 - val_loss: nan - val_accuracy: 1.0000\n",
      "Epoch 5/10\n",
      "1563/1562 [==============================] - 42s 27ms/step - loss: nan - accuracy: 1.0000 - val_loss: nan - val_accuracy: 1.0000\n",
      "Epoch 6/10\n",
      "1563/1562 [==============================] - 41s 26ms/step - loss: nan - accuracy: 1.0000 - val_loss: nan - val_accuracy: 1.0000\n",
      "Epoch 7/10\n",
      "1563/1562 [==============================] - 41s 26ms/step - loss: nan - accuracy: 1.0000 - val_loss: nan - val_accuracy: 1.0000\n",
      "Epoch 8/10\n",
      "1563/1562 [==============================] - 40s 26ms/step - loss: nan - accuracy: 1.0000 - val_loss: nan - val_accuracy: 1.0000\n",
      "Epoch 9/10\n",
      "1563/1562 [==============================] - 41s 26ms/step - loss: nan - accuracy: 1.0000 - val_loss: nan - val_accuracy: 1.0000\n",
      "Epoch 10/10\n",
      "1563/1562 [==============================] - 41s 26ms/step - loss: nan - accuracy: 1.0000 - val_loss: nan - val_accuracy: 1.0000\n"
     ]
    }
   ],
   "source": [
    "history = model.fit(it, epochs=10,\n",
    "                   steps_per_epoch=len(x_cifar10_train)/32,\n",
    "                   validation_data=(x_cifar10_test, y_cifar10_test))"
   ]
  },
  {
   "cell_type": "code",
   "execution_count": null,
   "metadata": {},
   "outputs": [],
   "source": []
  }
 ],
 "metadata": {
  "kernelspec": {
   "display_name": "Python 3",
   "language": "python",
   "name": "python3"
  },
  "language_info": {
   "codemirror_mode": {
    "name": "ipython",
    "version": 3
   },
   "file_extension": ".py",
   "mimetype": "text/x-python",
   "name": "python",
   "nbconvert_exporter": "python",
   "pygments_lexer": "ipython3",
   "version": "3.6.9"
  }
 },
 "nbformat": 4,
 "nbformat_minor": 2
}
