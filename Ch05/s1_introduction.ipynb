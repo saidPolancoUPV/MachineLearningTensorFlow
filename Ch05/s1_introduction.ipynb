{
 "cells": [
  {
   "cell_type": "code",
   "execution_count": 1,
   "metadata": {
    "collapsed": false,
    "pycharm": {
     "name": "#%%\n"
    }
   },
   "outputs": [
    {
     "ename": "ModuleNotFoundError",
     "evalue": "No module named 'sklearn'",
     "output_type": "error",
     "traceback": [
      "\u001b[0;31m---------------------------------------------------------------------------\u001b[0m",
      "\u001b[0;31mModuleNotFoundError\u001b[0m                       Traceback (most recent call last)",
      "\u001b[0;32m<ipython-input-1-52a27b908db5>\u001b[0m in \u001b[0;36m<module>\u001b[0;34m\u001b[0m\n\u001b[1;32m      9\u001b[0m \u001b[0;32mfrom\u001b[0m \u001b[0mscipy\u001b[0m\u001b[0;34m.\u001b[0m\u001b[0minterpolate\u001b[0m \u001b[0;32mimport\u001b[0m \u001b[0mgriddata\u001b[0m\u001b[0;34m\u001b[0m\u001b[0;34m\u001b[0m\u001b[0m\n\u001b[1;32m     10\u001b[0m \u001b[0;32mfrom\u001b[0m \u001b[0mmatplotlib\u001b[0m\u001b[0;34m.\u001b[0m\u001b[0mfont_manager\u001b[0m \u001b[0;32mimport\u001b[0m \u001b[0mFontProperties\u001b[0m\u001b[0;34m\u001b[0m\u001b[0;34m\u001b[0m\u001b[0m\n\u001b[0;32m---> 11\u001b[0;31m \u001b[0;32mfrom\u001b[0m \u001b[0msklearn\u001b[0m\u001b[0;34m.\u001b[0m\u001b[0mmetrics\u001b[0m \u001b[0;32mimport\u001b[0m \u001b[0mroc_curve\u001b[0m\u001b[0;34m\u001b[0m\u001b[0;34m\u001b[0m\u001b[0m\n\u001b[0m",
      "\u001b[0;31mModuleNotFoundError\u001b[0m: No module named 'sklearn'"
     ]
    }
   ],
   "source": [
    "import tensorflow as tf\n",
    "import numpy as np\n",
    "import pandas as pd\n",
    "\n",
    "from IPython.display import clear_output\n",
    "import matplotlib.pyplot as plt\n",
    "import seaborn as sns\n",
    "from numpy.random import uniform, seed\n",
    "from scipy.interpolate import griddata\n",
    "from matplotlib.font_manager import FontProperties"
   ]
  },
  {
   "cell_type": "code",
   "execution_count": 2,
   "metadata": {
    "collapsed": false,
    "pycharm": {
     "name": "#%%\n"
    }
   },
   "outputs": [],
   "source": [
    "sns_colors = sns.color_palette('colorblind')"
   ]
  },
  {
   "cell_type": "code",
   "execution_count": 3,
   "metadata": {
    "collapsed": false,
    "pycharm": {
     "name": "#%%\n"
    }
   },
   "outputs": [],
   "source": [
    "def one_hot_cat_column(feature_name, vocab):\n",
    "    return tf.feature_column.indicator_column(tf.feature_column.categorical_column_with_vocabulary_list(feature_name, vocab))"
   ]
  },
  {
   "cell_type": "code",
   "execution_count": 5,
   "metadata": {
    "collapsed": false,
    "pycharm": {
     "name": "#%%\n"
    }
   },
   "outputs": [
    {
     "data": {
      "text/html": [
       "<div>\n",
       "<style scoped>\n",
       "    .dataframe tbody tr th:only-of-type {\n",
       "        vertical-align: middle;\n",
       "    }\n",
       "\n",
       "    .dataframe tbody tr th {\n",
       "        vertical-align: top;\n",
       "    }\n",
       "\n",
       "    .dataframe thead th {\n",
       "        text-align: right;\n",
       "    }\n",
       "</style>\n",
       "<table border=\"1\" class=\"dataframe\">\n",
       "  <thead>\n",
       "    <tr style=\"text-align: right;\">\n",
       "      <th></th>\n",
       "      <th>hotel</th>\n",
       "      <th>is_canceled</th>\n",
       "      <th>lead_time</th>\n",
       "      <th>arrival_date_year</th>\n",
       "      <th>arrival_date_month</th>\n",
       "      <th>arrival_date_week_number</th>\n",
       "      <th>arrival_date_day_of_month</th>\n",
       "      <th>stays_in_weekend_nights</th>\n",
       "      <th>stays_in_week_nights</th>\n",
       "      <th>adults</th>\n",
       "      <th>...</th>\n",
       "      <th>deposit_type</th>\n",
       "      <th>agent</th>\n",
       "      <th>company</th>\n",
       "      <th>days_in_waiting_list</th>\n",
       "      <th>customer_type</th>\n",
       "      <th>adr</th>\n",
       "      <th>required_car_parking_spaces</th>\n",
       "      <th>total_of_special_requests</th>\n",
       "      <th>reservation_status</th>\n",
       "      <th>reservation_status_date</th>\n",
       "    </tr>\n",
       "  </thead>\n",
       "  <tbody>\n",
       "    <tr>\n",
       "      <th>0</th>\n",
       "      <td>Resort Hotel</td>\n",
       "      <td>0</td>\n",
       "      <td>342</td>\n",
       "      <td>2015</td>\n",
       "      <td>July</td>\n",
       "      <td>27</td>\n",
       "      <td>1</td>\n",
       "      <td>0</td>\n",
       "      <td>0</td>\n",
       "      <td>2</td>\n",
       "      <td>...</td>\n",
       "      <td>No Deposit</td>\n",
       "      <td>NaN</td>\n",
       "      <td>NaN</td>\n",
       "      <td>0</td>\n",
       "      <td>Transient</td>\n",
       "      <td>0.0</td>\n",
       "      <td>0</td>\n",
       "      <td>0</td>\n",
       "      <td>Check-Out</td>\n",
       "      <td>2015-07-01</td>\n",
       "    </tr>\n",
       "    <tr>\n",
       "      <th>1</th>\n",
       "      <td>Resort Hotel</td>\n",
       "      <td>0</td>\n",
       "      <td>737</td>\n",
       "      <td>2015</td>\n",
       "      <td>July</td>\n",
       "      <td>27</td>\n",
       "      <td>1</td>\n",
       "      <td>0</td>\n",
       "      <td>0</td>\n",
       "      <td>2</td>\n",
       "      <td>...</td>\n",
       "      <td>No Deposit</td>\n",
       "      <td>NaN</td>\n",
       "      <td>NaN</td>\n",
       "      <td>0</td>\n",
       "      <td>Transient</td>\n",
       "      <td>0.0</td>\n",
       "      <td>0</td>\n",
       "      <td>0</td>\n",
       "      <td>Check-Out</td>\n",
       "      <td>2015-07-01</td>\n",
       "    </tr>\n",
       "    <tr>\n",
       "      <th>2</th>\n",
       "      <td>Resort Hotel</td>\n",
       "      <td>0</td>\n",
       "      <td>7</td>\n",
       "      <td>2015</td>\n",
       "      <td>July</td>\n",
       "      <td>27</td>\n",
       "      <td>1</td>\n",
       "      <td>0</td>\n",
       "      <td>1</td>\n",
       "      <td>1</td>\n",
       "      <td>...</td>\n",
       "      <td>No Deposit</td>\n",
       "      <td>NaN</td>\n",
       "      <td>NaN</td>\n",
       "      <td>0</td>\n",
       "      <td>Transient</td>\n",
       "      <td>75.0</td>\n",
       "      <td>0</td>\n",
       "      <td>0</td>\n",
       "      <td>Check-Out</td>\n",
       "      <td>2015-07-02</td>\n",
       "    </tr>\n",
       "  </tbody>\n",
       "</table>\n",
       "<p>3 rows × 32 columns</p>\n",
       "</div>"
      ],
      "text/plain": [
       "          hotel  is_canceled  lead_time  arrival_date_year arrival_date_month  \\\n",
       "0  Resort Hotel            0        342               2015               July   \n",
       "1  Resort Hotel            0        737               2015               July   \n",
       "2  Resort Hotel            0          7               2015               July   \n",
       "\n",
       "   arrival_date_week_number  arrival_date_day_of_month  \\\n",
       "0                        27                          1   \n",
       "1                        27                          1   \n",
       "2                        27                          1   \n",
       "\n",
       "   stays_in_weekend_nights  stays_in_week_nights  adults  ...  deposit_type  \\\n",
       "0                        0                     0       2  ...    No Deposit   \n",
       "1                        0                     0       2  ...    No Deposit   \n",
       "2                        0                     1       1  ...    No Deposit   \n",
       "\n",
       "   agent company days_in_waiting_list customer_type   adr  \\\n",
       "0    NaN     NaN                    0     Transient   0.0   \n",
       "1    NaN     NaN                    0     Transient   0.0   \n",
       "2    NaN     NaN                    0     Transient  75.0   \n",
       "\n",
       "   required_car_parking_spaces  total_of_special_requests  reservation_status  \\\n",
       "0                            0                          0           Check-Out   \n",
       "1                            0                          0           Check-Out   \n",
       "2                            0                          0           Check-Out   \n",
       "\n",
       "  reservation_status_date  \n",
       "0              2015-07-01  \n",
       "1              2015-07-01  \n",
       "2              2015-07-02  \n",
       "\n",
       "[3 rows x 32 columns]"
      ]
     },
     "execution_count": 5,
     "metadata": {},
     "output_type": "execute_result"
    }
   ],
   "source": [
    "xtrain = pd.read_csv('dataset/hotel_bookings.csv')\n",
    "xtrain.head(3)"
   ]
  },
  {
   "cell_type": "code",
   "execution_count": 6,
   "metadata": {
    "collapsed": false,
    "pycharm": {
     "name": "#%%\n"
    }
   },
   "outputs": [
    {
     "name": "stdout",
     "output_type": "stream",
     "text": [
      "<class 'pandas.core.frame.DataFrame'>\n",
      "Int64Index: 3810 entries, 13153 to 119389\n",
      "Data columns (total 32 columns):\n",
      " #   Column                          Non-Null Count  Dtype  \n",
      "---  ------                          --------------  -----  \n",
      " 0   hotel                           3810 non-null   object \n",
      " 1   is_canceled                     3810 non-null   int64  \n",
      " 2   lead_time                       3810 non-null   int64  \n",
      " 3   arrival_date_year               3810 non-null   int64  \n",
      " 4   arrival_date_month              3810 non-null   object \n",
      " 5   arrival_date_week_number        3810 non-null   int64  \n",
      " 6   arrival_date_day_of_month       3810 non-null   int64  \n",
      " 7   stays_in_weekend_nights         3810 non-null   int64  \n",
      " 8   stays_in_week_nights            3810 non-null   int64  \n",
      " 9   adults                          3810 non-null   int64  \n",
      " 10  children                        3810 non-null   float64\n",
      " 11  babies                          3810 non-null   int64  \n",
      " 12  meal                            3810 non-null   object \n",
      " 13  country                         3810 non-null   object \n",
      " 14  market_segment                  3810 non-null   object \n",
      " 15  distribution_channel            3810 non-null   object \n",
      " 16  is_repeated_guest               3810 non-null   int64  \n",
      " 17  previous_cancellations          3810 non-null   int64  \n",
      " 18  previous_bookings_not_canceled  3810 non-null   int64  \n",
      " 19  reserved_room_type              3810 non-null   object \n",
      " 20  assigned_room_type              3810 non-null   object \n",
      " 21  booking_changes                 3810 non-null   int64  \n",
      " 22  deposit_type                    3810 non-null   object \n",
      " 23  agent                           3533 non-null   float64\n",
      " 24  company                         79 non-null     float64\n",
      " 25  days_in_waiting_list            3810 non-null   int64  \n",
      " 26  customer_type                   3810 non-null   object \n",
      " 27  adr                             3810 non-null   float64\n",
      " 28  required_car_parking_spaces     3810 non-null   int64  \n",
      " 29  total_of_special_requests       3810 non-null   int64  \n",
      " 30  reservation_status              3810 non-null   object \n",
      " 31  reservation_status_date         3810 non-null   object \n",
      "dtypes: float64(4), int64(16), object(12)\n",
      "memory usage: 982.3+ KB\n",
      "----------------------------------------\n",
      "<class 'pandas.core.frame.DataFrame'>\n",
      "Int64Index: 115580 entries, 0 to 117212\n",
      "Data columns (total 32 columns):\n",
      " #   Column                          Non-Null Count   Dtype  \n",
      "---  ------                          --------------   -----  \n",
      " 0   hotel                           115580 non-null  object \n",
      " 1   is_canceled                     115580 non-null  int64  \n",
      " 2   lead_time                       115580 non-null  int64  \n",
      " 3   arrival_date_year               115580 non-null  int64  \n",
      " 4   arrival_date_month              115580 non-null  object \n",
      " 5   arrival_date_week_number        115580 non-null  int64  \n",
      " 6   arrival_date_day_of_month       115580 non-null  int64  \n",
      " 7   stays_in_weekend_nights         115580 non-null  int64  \n",
      " 8   stays_in_week_nights            115580 non-null  int64  \n",
      " 9   adults                          115580 non-null  int64  \n",
      " 10  children                        115576 non-null  float64\n",
      " 11  babies                          115580 non-null  int64  \n",
      " 12  meal                            115580 non-null  object \n",
      " 13  country                         115092 non-null  object \n",
      " 14  market_segment                  115580 non-null  object \n",
      " 15  distribution_channel            115580 non-null  object \n",
      " 16  is_repeated_guest               115580 non-null  int64  \n",
      " 17  previous_cancellations          115580 non-null  int64  \n",
      " 18  previous_bookings_not_canceled  115580 non-null  int64  \n",
      " 19  reserved_room_type              115580 non-null  object \n",
      " 20  assigned_room_type              115580 non-null  object \n",
      " 21  booking_changes                 115580 non-null  int64  \n",
      " 22  deposit_type                    115580 non-null  object \n",
      " 23  agent                           99517 non-null   float64\n",
      " 24  company                         6718 non-null    float64\n",
      " 25  days_in_waiting_list            115580 non-null  int64  \n",
      " 26  customer_type                   115580 non-null  object \n",
      " 27  adr                             115580 non-null  float64\n",
      " 28  required_car_parking_spaces     115580 non-null  int64  \n",
      " 29  total_of_special_requests       115580 non-null  int64  \n",
      " 30  reservation_status              115580 non-null  object \n",
      " 31  reservation_status_date         115580 non-null  object \n",
      "dtypes: float64(4), int64(16), object(12)\n",
      "memory usage: 29.1+ MB\n"
     ]
    }
   ],
   "source": [
    "xvalid = xtrain.loc[xtrain['reservation_status_date'] >= '2017-08-01']\n",
    "xtrain = xtrain.loc[xtrain['reservation_status_date'] < '2017-08-01']\n",
    "\n",
    "xvalid.info()\n",
    "print(\"-\"*40)\n",
    "xtrain.info()"
   ]
  },
  {
   "cell_type": "code",
   "execution_count": 7,
   "metadata": {
    "collapsed": false,
    "pycharm": {
     "name": "#%%\n"
    }
   },
   "outputs": [],
   "source": [
    "ytrain, yvalid = xtrain['is_canceled'], xvalid['is_canceled']\n",
    "xtrain.drop('is_canceled', axis=1, inplace=True)\n",
    "xvalid.drop('is_canceled', axis=1, inplace=True)"
   ]
  },
  {
   "cell_type": "code",
   "execution_count": 8,
   "metadata": {
    "collapsed": false,
    "pycharm": {
     "name": "#%%\n"
    }
   },
   "outputs": [],
   "source": [
    "xtrain.drop(['arrival_date_year', 'assigned_room_type', 'booking_changes', 'reservation_status', 'country', 'days_in_waiting_list'], axis=1, inplace=True)"
   ]
  },
  {
   "cell_type": "code",
   "execution_count": 9,
   "metadata": {
    "collapsed": false,
    "pycharm": {
     "name": "#%%\n"
    }
   },
   "outputs": [],
   "source": [
    "num_features = [\"lead_time\", \"arrival_date_week_number\", \"arrival_date_day_of_month\", \"stays_in_weekend_nights\", \"stays_in_week_nights\", \"adults\", \"children\", \"babies\",\"is_repeated_guest\", \"previous_cancellations\", \"previous_bookings_not_canceled\", \"agent\", \"company\", \"required_car_parking_spaces\", \"total_of_special_requests\", \"adr\"]\n",
    "cat_features = [\"hotel\", \"arrival_date_month\", \"meal\", \"market_segment\", \"distribution_channel\",\"reserved_room_type\",\"deposit_type\",\"customer_type\"]"
   ]
  },
  {
   "cell_type": "code",
   "execution_count": 10,
   "metadata": {
    "collapsed": false,
    "pycharm": {
     "name": "#%%\n"
    }
   },
   "outputs": [],
   "source": [
    "feature_columns = []\n",
    "for feature_name in cat_features:\n",
    "    vocabulary = xtrain[feature_name].unique()\n",
    "    feature_columns.append(one_hot_cat_column(feature_name, vocabulary))\n",
    "\n",
    "for feature_name in num_features:\n",
    "    feature_columns.append(tf.feature_column.numeric_column(feature_name, dtype=tf.float32))"
   ]
  },
  {
   "cell_type": "code",
   "execution_count": 11,
   "metadata": {
    "collapsed": false,
    "pycharm": {
     "name": "#%%\n"
    }
   },
   "outputs": [],
   "source": [
    "NUM_EXAMPLES = len(ytrain)\n",
    "\n",
    "def make_input_fn(X, y, n_epochs=None, shuffle=True):\n",
    "    def input_fn():\n",
    "        dataset = tf.data.Dataset.from_tensor_slices((dict(X), y))\n",
    "\n",
    "        if shuffle:\n",
    "            dataset = dataset.shuffle(NUM_EXAMPLES)\n",
    "        # for training, cycle thru dataset as many times as need (n_epochs=None)\n",
    "        dataset = dataset.repeat(n_epochs)\n",
    "        dataset = dataset.batch(NUM_EXAMPLES)\n",
    "        return dataset\n",
    "    return input_fn"
   ]
  },
  {
   "cell_type": "code",
   "execution_count": 12,
   "metadata": {
    "collapsed": false,
    "pycharm": {
     "name": "#%%\n"
    }
   },
   "outputs": [],
   "source": [
    "train_input_fn = make_input_fn(xtrain, ytrain)\n",
    "eval_input_fn = make_input_fn(xvalid, yvalid, shuffle=False, n_epochs=1)"
   ]
  },
  {
   "cell_type": "code",
   "execution_count": 13,
   "metadata": {
    "collapsed": false,
    "pycharm": {
     "name": "#%%\n"
    }
   },
   "outputs": [
    {
     "name": "stdout",
     "output_type": "stream",
     "text": [
      "INFO:tensorflow:Using default config.\n",
      "WARNING:tensorflow:Using temporary folder as model directory: /tmp/tmpmpg0936_\n",
      "INFO:tensorflow:Using config: {'_model_dir': '/tmp/tmpmpg0936_', '_tf_random_seed': None, '_save_summary_steps': 100, '_save_checkpoints_steps': None, '_save_checkpoints_secs': 600, '_session_config': allow_soft_placement: true\n",
      "graph_options {\n",
      "  rewrite_options {\n",
      "    meta_optimizer_iterations: ONE\n",
      "  }\n",
      "}\n",
      ", '_keep_checkpoint_max': 5, '_keep_checkpoint_every_n_hours': 10000, '_log_step_count_steps': 100, '_train_distribute': None, '_device_fn': None, '_protocol': None, '_eval_distribute': None, '_experimental_distribute': None, '_experimental_max_worker_delay_secs': None, '_session_creation_timeout_secs': 7200, '_service': None, '_cluster_spec': ClusterSpec({}), '_task_type': 'worker', '_task_id': 0, '_global_id_in_cluster': 0, '_master': '', '_evaluation_master': '', '_is_chief': True, '_num_ps_replicas': 0, '_num_worker_replicas': 1}\n",
      "WARNING:tensorflow:From /usr/local/lib/python3.6/dist-packages/tensorflow_estimator/python/estimator/canned/boosted_trees.py:398: VocabularyListCategoricalColumn._num_buckets (from tensorflow.python.feature_column.feature_column_v2) is deprecated and will be removed in a future version.\n",
      "Instructions for updating:\n",
      "The old _FeatureColumn APIs are being deprecated. Please use the new FeatureColumn APIs instead.\n"
     ]
    }
   ],
   "source": [
    "params = {\n",
    "    'n_trees': 125,\n",
    "    'max_depth': 5,\n",
    "    'n_batches_per_layer': 1,\n",
    "    'center_bias': True\n",
    "}\n",
    "\n",
    "est = tf.estimator.BoostedTreesClassifier(feature_columns, **params)"
   ]
  },
  {
   "cell_type": "code",
   "execution_count": 14,
   "metadata": {
    "collapsed": false,
    "pycharm": {
     "name": "#%%\n"
    }
   },
   "outputs": [
    {
     "name": "stdout",
     "output_type": "stream",
     "text": [
      "WARNING:tensorflow:From /usr/local/lib/python3.6/dist-packages/tensorflow/python/ops/resource_variable_ops.py:1666: calling BaseResourceVariable.__init__ (from tensorflow.python.ops.resource_variable_ops) with constraint is deprecated and will be removed in a future version.\n",
      "Instructions for updating:\n",
      "If using Keras pass *_constraint arguments to layers.\n",
      "WARNING:tensorflow:From /usr/local/lib/python3.6/dist-packages/tensorflow/python/training/training_util.py:236: Variable.initialized_value (from tensorflow.python.ops.variables) is deprecated and will be removed in a future version.\n",
      "Instructions for updating:\n",
      "Use Variable.read_value. Variables in 2.X are initialized automatically both in eager and graph (inside tf.defun) contexts.\n",
      "INFO:tensorflow:Calling model_fn.\n",
      "INFO:tensorflow:Done calling model_fn.\n",
      "INFO:tensorflow:Create CheckpointSaverHook.\n",
      "WARNING:tensorflow:Issue encountered when serializing resources.\n",
      "Type is unsupported, or the types of the items don't match field type in CollectionDef. Note this is a warning and probably safe to ignore.\n",
      "'_Resource' object has no attribute 'name'\n",
      "INFO:tensorflow:Graph was finalized.\n",
      "INFO:tensorflow:Running local_init_op.\n",
      "INFO:tensorflow:Done running local_init_op.\n",
      "WARNING:tensorflow:Issue encountered when serializing resources.\n",
      "Type is unsupported, or the types of the items don't match field type in CollectionDef. Note this is a warning and probably safe to ignore.\n",
      "'_Resource' object has no attribute 'name'\n",
      "INFO:tensorflow:Calling checkpoint listeners before saving checkpoint 0...\n",
      "INFO:tensorflow:Saving checkpoints for 0 into /tmp/tmpmpg0936_/model.ckpt.\n",
      "WARNING:tensorflow:Issue encountered when serializing resources.\n",
      "Type is unsupported, or the types of the items don't match field type in CollectionDef. Note this is a warning and probably safe to ignore.\n",
      "'_Resource' object has no attribute 'name'\n",
      "INFO:tensorflow:Calling checkpoint listeners after saving checkpoint 0...\n",
      "INFO:tensorflow:loss = 0.6931514, step = 0\n",
      "WARNING:tensorflow:It seems that global step (tf.train.get_global_step) has not been increased. Current value (could be stable): 0 vs previous value: 0. You could increase the global step by passing tf.train.get_global_step() to Optimizer.apply_gradients or Optimizer.minimize.\n",
      "INFO:tensorflow:Calling checkpoint listeners before saving checkpoint 64...\n",
      "INFO:tensorflow:Saving checkpoints for 64 into /tmp/tmpmpg0936_/model.ckpt.\n",
      "WARNING:tensorflow:Issue encountered when serializing resources.\n",
      "Type is unsupported, or the types of the items don't match field type in CollectionDef. Note this is a warning and probably safe to ignore.\n",
      "'_Resource' object has no attribute 'name'\n",
      "INFO:tensorflow:Calling checkpoint listeners after saving checkpoint 64...\n",
      "INFO:tensorflow:global_step/sec: 0.100507\n",
      "INFO:tensorflow:loss = 0.389667, step = 99 (994.961 sec)\n",
      "INFO:tensorflow:Calling checkpoint listeners before saving checkpoint 100...\n",
      "INFO:tensorflow:Saving checkpoints for 100 into /tmp/tmpmpg0936_/model.ckpt.\n",
      "WARNING:tensorflow:Issue encountered when serializing resources.\n",
      "Type is unsupported, or the types of the items don't match field type in CollectionDef. Note this is a warning and probably safe to ignore.\n",
      "'_Resource' object has no attribute 'name'\n",
      "INFO:tensorflow:Calling checkpoint listeners after saving checkpoint 100...\n",
      "INFO:tensorflow:Loss for final step: 0.389667.\n"
     ]
    },
    {
     "data": {
      "text/plain": [
       "<tensorflow_estimator.python.estimator.canned.boosted_trees.BoostedTreesClassifier at 0x7fcc20647550>"
      ]
     },
     "execution_count": 14,
     "metadata": {},
     "output_type": "execute_result"
    }
   ],
   "source": [
    "est.train(train_input_fn, max_steps=100)"
   ]
  },
  {
   "cell_type": "code",
   "execution_count": 15,
   "metadata": {
    "collapsed": false,
    "pycharm": {
     "name": "#%%\n"
    }
   },
   "outputs": [
    {
     "name": "stdout",
     "output_type": "stream",
     "text": [
      "INFO:tensorflow:Calling model_fn.\n",
      "WARNING:tensorflow:From /usr/local/lib/python3.6/dist-packages/tensorflow_estimator/python/estimator/canned/head.py:642: auc (from tensorflow.python.ops.metrics_impl) is deprecated and will be removed in a future version.\n",
      "Instructions for updating:\n",
      "The value of AUC returned by this may race with the update so this is deprecated. Please use tf.keras.metrics.AUC instead.\n",
      "WARNING:tensorflow:Trapezoidal rule is known to produce incorrect PR-AUCs; please switch to \"careful_interpolation\" instead.\n",
      "WARNING:tensorflow:Trapezoidal rule is known to produce incorrect PR-AUCs; please switch to \"careful_interpolation\" instead.\n",
      "INFO:tensorflow:Done calling model_fn.\n",
      "INFO:tensorflow:Starting evaluation at 2022-07-09T16:02:35Z\n",
      "INFO:tensorflow:Graph was finalized.\n",
      "INFO:tensorflow:Restoring parameters from /tmp/tmpmpg0936_/model.ckpt-100\n",
      "INFO:tensorflow:Running local_init_op.\n",
      "INFO:tensorflow:Done running local_init_op.\n",
      "INFO:tensorflow:Inference Time : 2.18770s\n",
      "INFO:tensorflow:Finished evaluation at 2022-07-09-16:02:37\n",
      "INFO:tensorflow:Saving dict for global step 100: accuracy = 0.73175853, accuracy_baseline = 0.9160105, auc = 0.63211495, auc_precision_recall = 0.18967871, average_loss = 0.53381085, global_step = 100, label/mean = 0.0839895, loss = 0.53381085, precision = 0.12095033, prediction/mean = 0.35387632, recall = 0.35\n",
      "WARNING:tensorflow:Issue encountered when serializing resources.\n",
      "Type is unsupported, or the types of the items don't match field type in CollectionDef. Note this is a warning and probably safe to ignore.\n",
      "'_Resource' object has no attribute 'name'\n",
      "INFO:tensorflow:Saving 'checkpoint_path' summary for global step 100: /tmp/tmpmpg0936_/model.ckpt-100\n"
     ]
    },
    {
     "data": {
      "text/html": [
       "<div>\n",
       "<style scoped>\n",
       "    .dataframe tbody tr th:only-of-type {\n",
       "        vertical-align: middle;\n",
       "    }\n",
       "\n",
       "    .dataframe tbody tr th {\n",
       "        vertical-align: top;\n",
       "    }\n",
       "\n",
       "    .dataframe thead th {\n",
       "        text-align: right;\n",
       "    }\n",
       "</style>\n",
       "<table border=\"1\" class=\"dataframe\">\n",
       "  <thead>\n",
       "    <tr style=\"text-align: right;\">\n",
       "      <th></th>\n",
       "      <th>0</th>\n",
       "    </tr>\n",
       "  </thead>\n",
       "  <tbody>\n",
       "    <tr>\n",
       "      <th>accuracy</th>\n",
       "      <td>0.731759</td>\n",
       "    </tr>\n",
       "    <tr>\n",
       "      <th>accuracy_baseline</th>\n",
       "      <td>0.916010</td>\n",
       "    </tr>\n",
       "    <tr>\n",
       "      <th>auc</th>\n",
       "      <td>0.632115</td>\n",
       "    </tr>\n",
       "    <tr>\n",
       "      <th>auc_precision_recall</th>\n",
       "      <td>0.189679</td>\n",
       "    </tr>\n",
       "    <tr>\n",
       "      <th>average_loss</th>\n",
       "      <td>0.533811</td>\n",
       "    </tr>\n",
       "    <tr>\n",
       "      <th>label/mean</th>\n",
       "      <td>0.083990</td>\n",
       "    </tr>\n",
       "    <tr>\n",
       "      <th>loss</th>\n",
       "      <td>0.533811</td>\n",
       "    </tr>\n",
       "    <tr>\n",
       "      <th>precision</th>\n",
       "      <td>0.120950</td>\n",
       "    </tr>\n",
       "    <tr>\n",
       "      <th>prediction/mean</th>\n",
       "      <td>0.353876</td>\n",
       "    </tr>\n",
       "    <tr>\n",
       "      <th>recall</th>\n",
       "      <td>0.350000</td>\n",
       "    </tr>\n",
       "    <tr>\n",
       "      <th>global_step</th>\n",
       "      <td>100.000000</td>\n",
       "    </tr>\n",
       "  </tbody>\n",
       "</table>\n",
       "</div>"
      ],
      "text/plain": [
       "                               0\n",
       "accuracy                0.731759\n",
       "accuracy_baseline       0.916010\n",
       "auc                     0.632115\n",
       "auc_precision_recall    0.189679\n",
       "average_loss            0.533811\n",
       "label/mean              0.083990\n",
       "loss                    0.533811\n",
       "precision               0.120950\n",
       "prediction/mean         0.353876\n",
       "recall                  0.350000\n",
       "global_step           100.000000"
      ]
     },
     "execution_count": 15,
     "metadata": {},
     "output_type": "execute_result"
    }
   ],
   "source": [
    "# evaluation\n",
    "result = est.evaluate(eval_input_fn)\n",
    "pd.Series(result).to_frame()"
   ]
  },
  {
   "cell_type": "code",
   "execution_count": 16,
   "metadata": {
    "collapsed": false,
    "pycharm": {
     "name": "#%%\n"
    }
   },
   "outputs": [
    {
     "name": "stdout",
     "output_type": "stream",
     "text": [
      "INFO:tensorflow:Calling model_fn.\n",
      "INFO:tensorflow:Done calling model_fn.\n",
      "INFO:tensorflow:Graph was finalized.\n",
      "INFO:tensorflow:Restoring parameters from /tmp/tmpmpg0936_/model.ckpt-100\n",
      "INFO:tensorflow:Running local_init_op.\n",
      "INFO:tensorflow:Done running local_init_op.\n"
     ]
    }
   ],
   "source": [
    "pred_dicts = list(est.predict(eval_input_fn))\n",
    "probs = pd.Series([pred['probabilities'][1] for pred in pred_dicts])"
   ]
  },
  {
   "cell_type": "code",
   "execution_count": 21,
   "metadata": {
    "collapsed": false,
    "pycharm": {
     "name": "#%%\n"
    }
   },
   "outputs": [
    {
     "name": "stdout",
     "output_type": "stream",
     "text": [
      "Collecting sklearn\r\n",
      "  Downloading sklearn-0.0.tar.gz (1.1 kB)\r\n",
      "Collecting scikit-learn\r\n",
      "  Downloading scikit_learn-0.24.2-cp36-cp36m-manylinux2010_x86_64.whl (22.2 MB)\r\n",
      "\u001b[K     |████████████████████████████████| 22.2 MB 6.9 MB/s eta 0:00:01    |█████████                       | 6.3 MB 3.0 MB/s eta 0:00:06     |██████████████████████████████  | 20.8 MB 6.9 MB/s eta 0:00:01     |███████████████████████████████▌| 21.9 MB 6.9 MB/s eta 0:00:01     |████████████████████████████████| 22.2 MB 6.9 MB/s eta 0:00:01\r\n",
      "\u001b[?25hRequirement already satisfied: scipy>=0.19.1 in /usr/local/lib/python3.6/dist-packages (from scikit-learn->sklearn) (1.4.1)\r\n",
      "Collecting threadpoolctl>=2.0.0\r\n",
      "  Downloading threadpoolctl-3.1.0-py3-none-any.whl (14 kB)\r\n",
      "Collecting joblib>=0.11\r\n",
      "  Downloading joblib-1.1.0-py2.py3-none-any.whl (306 kB)\r\n",
      "\u001b[K     |████████████████████████████████| 306 kB 5.1 MB/s eta 0:00:01\r\n",
      "\u001b[?25hRequirement already satisfied: numpy>=1.13.3 in /usr/local/lib/python3.6/dist-packages (from scikit-learn->sklearn) (1.18.4)\r\n",
      "Building wheels for collected packages: sklearn\r\n",
      "  Building wheel for sklearn (setup.py) ... \u001b[?25ldone\r\n",
      "\u001b[?25h  Created wheel for sklearn: filename=sklearn-0.0-py2.py3-none-any.whl size=2397 sha256=d1aec134224d7d31c563ad4faf814356461f8a4880291facf4955cd94d451361\r\n",
      "  Stored in directory: /root/.cache/pip/wheels/23/9d/42/5ec745cbbb17517000a53cecc49d6a865450d1f5cb16dc8a9c\r\n",
      "Successfully built sklearn\r\n",
      "Installing collected packages: threadpoolctl, joblib, scikit-learn, sklearn\r\n",
      "Successfully installed joblib-1.1.0 scikit-learn-0.24.2 sklearn-0.0 threadpoolctl-3.1.0\r\n",
      "\u001b[33mWARNING: You are using pip version 20.1; however, version 21.3.1 is available.\r\n",
      "You should consider upgrading via the '/usr/bin/python3 -m pip install --upgrade pip' command.\u001b[0m\r\n"
     ]
    }
   ],
   "source": [
    "!pip install sklearn"
   ]
  },
  {
   "cell_type": "code",
   "execution_count": 22,
   "metadata": {
    "collapsed": false,
    "pycharm": {
     "name": "#%%\n"
    }
   },
   "outputs": [
    {
     "data": {
      "image/png": "[encoded data removed]",
      "text/plain": [
       "<Figure size 432x288 with 1 Axes>"
      ]
     },
     "metadata": {},
     "output_type": "display_data"
    }
   ],
   "source": [
    "import sklearn\n",
    "from sklearn.metrics import roc_curve\n",
    "\n",
    "fpr, tpr, _ = roc_curve(yvalid, probs)\n",
    "plt.plot(fpr, tpr)\n",
    "\n",
    "plt.title('ROC curve')\n",
    "plt.xlabel('false positive rate')\n",
    "plt.ylabel('true positive rate')\n",
    "plt.xlim(0,)\n",
    "plt.ylim(0,)\n",
    "plt.show()"
   ]
  },
  {
   "cell_type": "code",
   "execution_count": 23,
   "metadata": {
    "collapsed": false,
    "pycharm": {
     "name": "#%%\n"
    }
   },
   "outputs": [
    {
     "name": "stdout",
     "output_type": "stream",
     "text": [
      "INFO:tensorflow:Using config: {'_model_dir': '/tmp/tmpmpg0936_', '_tf_random_seed': None, '_save_summary_steps': 100, '_save_checkpoints_steps': None, '_save_checkpoints_secs': 600, '_session_config': allow_soft_placement: true\n",
      "graph_options {\n",
      "  rewrite_options {\n",
      "    meta_optimizer_iterations: ONE\n",
      "  }\n",
      "}\n",
      ", '_keep_checkpoint_max': 5, '_keep_checkpoint_every_n_hours': 10000, '_log_step_count_steps': 100, '_train_distribute': None, '_device_fn': None, '_protocol': None, '_eval_distribute': None, '_experimental_distribute': None, '_experimental_max_worker_delay_secs': None, '_session_creation_timeout_secs': 7200, '_service': None, '_cluster_spec': ClusterSpec({}), '_task_type': 'worker', '_task_id': 0, '_global_id_in_cluster': 0, '_master': '', '_evaluation_master': '', '_is_chief': True, '_num_ps_replicas': 0, '_num_worker_replicas': 1}\n",
      "INFO:tensorflow:Calling model_fn.\n",
      "INFO:tensorflow:Done calling model_fn.\n",
      "INFO:tensorflow:Graph was finalized.\n",
      "INFO:tensorflow:Restoring parameters from /tmp/tmpmpg0936_/model.ckpt-100\n",
      "INFO:tensorflow:Running local_init_op.\n",
      "INFO:tensorflow:Done running local_init_op.\n"
     ]
    },
    {
     "data": {
      "text/html": [
       "<div>\n",
       "<style scoped>\n",
       "    .dataframe tbody tr th:only-of-type {\n",
       "        vertical-align: middle;\n",
       "    }\n",
       "\n",
       "    .dataframe tbody tr th {\n",
       "        vertical-align: top;\n",
       "    }\n",
       "\n",
       "    .dataframe thead th {\n",
       "        text-align: right;\n",
       "    }\n",
       "</style>\n",
       "<table border=\"1\" class=\"dataframe\">\n",
       "  <thead>\n",
       "    <tr style=\"text-align: right;\">\n",
       "      <th></th>\n",
       "      <th>count</th>\n",
       "      <th>mean</th>\n",
       "      <th>std</th>\n",
       "      <th>min</th>\n",
       "      <th>25%</th>\n",
       "      <th>50%</th>\n",
       "      <th>75%</th>\n",
       "      <th>max</th>\n",
       "    </tr>\n",
       "  </thead>\n",
       "  <tbody>\n",
       "    <tr>\n",
       "      <th>arrival_date_day_of_month</th>\n",
       "      <td>3810.0</td>\n",
       "      <td>0.012899</td>\n",
       "      <td>0.024758</td>\n",
       "      <td>-0.009692</td>\n",
       "      <td>0.002193</td>\n",
       "      <td>0.003364</td>\n",
       "      <td>0.003898</td>\n",
       "      <td>0.094936</td>\n",
       "    </tr>\n",
       "    <tr>\n",
       "      <th>lead_time</th>\n",
       "      <td>3810.0</td>\n",
       "      <td>0.001731</td>\n",
       "      <td>0.065319</td>\n",
       "      <td>-0.219577</td>\n",
       "      <td>-0.026463</td>\n",
       "      <td>0.010521</td>\n",
       "      <td>0.041794</td>\n",
       "      <td>0.173277</td>\n",
       "    </tr>\n",
       "    <tr>\n",
       "      <th>arrival_date_week_number</th>\n",
       "      <td>3810.0</td>\n",
       "      <td>0.017920</td>\n",
       "      <td>0.021589</td>\n",
       "      <td>-0.032336</td>\n",
       "      <td>0.004783</td>\n",
       "      <td>0.012268</td>\n",
       "      <td>0.022143</td>\n",
       "      <td>0.130656</td>\n",
       "    </tr>\n",
       "    <tr>\n",
       "      <th>arrival_date_month</th>\n",
       "      <td>3810.0</td>\n",
       "      <td>0.019899</td>\n",
       "      <td>0.017779</td>\n",
       "      <td>-0.031339</td>\n",
       "      <td>0.006899</td>\n",
       "      <td>0.015169</td>\n",
       "      <td>0.030995</td>\n",
       "      <td>0.079928</td>\n",
       "    </tr>\n",
       "    <tr>\n",
       "      <th>adr</th>\n",
       "      <td>3810.0</td>\n",
       "      <td>0.015373</td>\n",
       "      <td>0.018547</td>\n",
       "      <td>-0.033255</td>\n",
       "      <td>0.000972</td>\n",
       "      <td>0.009192</td>\n",
       "      <td>0.026763</td>\n",
       "      <td>0.139819</td>\n",
       "    </tr>\n",
       "    <tr>\n",
       "      <th>previous_cancellations</th>\n",
       "      <td>3810.0</td>\n",
       "      <td>-0.022484</td>\n",
       "      <td>0.020113</td>\n",
       "      <td>-0.071294</td>\n",
       "      <td>-0.032794</td>\n",
       "      <td>-0.027811</td>\n",
       "      <td>-0.006534</td>\n",
       "      <td>0.267488</td>\n",
       "    </tr>\n",
       "    <tr>\n",
       "      <th>deposit_type</th>\n",
       "      <td>3810.0</td>\n",
       "      <td>-0.022288</td>\n",
       "      <td>0.013814</td>\n",
       "      <td>-0.088723</td>\n",
       "      <td>-0.023530</td>\n",
       "      <td>-0.022477</td>\n",
       "      <td>-0.020884</td>\n",
       "      <td>0.152275</td>\n",
       "    </tr>\n",
       "    <tr>\n",
       "      <th>agent</th>\n",
       "      <td>3810.0</td>\n",
       "      <td>0.003220</td>\n",
       "      <td>0.018369</td>\n",
       "      <td>-0.092485</td>\n",
       "      <td>-0.004625</td>\n",
       "      <td>0.000419</td>\n",
       "      <td>0.009331</td>\n",
       "      <td>0.092367</td>\n",
       "    </tr>\n",
       "    <tr>\n",
       "      <th>market_segment</th>\n",
       "      <td>3810.0</td>\n",
       "      <td>-0.007976</td>\n",
       "      <td>0.042616</td>\n",
       "      <td>-0.193202</td>\n",
       "      <td>-0.046233</td>\n",
       "      <td>0.001139</td>\n",
       "      <td>0.021092</td>\n",
       "      <td>0.084854</td>\n",
       "    </tr>\n",
       "    <tr>\n",
       "      <th>hotel</th>\n",
       "      <td>3810.0</td>\n",
       "      <td>0.000672</td>\n",
       "      <td>0.004336</td>\n",
       "      <td>-0.014450</td>\n",
       "      <td>0.000000</td>\n",
       "      <td>0.000000</td>\n",
       "      <td>0.000000</td>\n",
       "      <td>0.036013</td>\n",
       "    </tr>\n",
       "    <tr>\n",
       "      <th>customer_type</th>\n",
       "      <td>3810.0</td>\n",
       "      <td>-0.000513</td>\n",
       "      <td>0.034450</td>\n",
       "      <td>-0.115543</td>\n",
       "      <td>-0.010681</td>\n",
       "      <td>0.006629</td>\n",
       "      <td>0.020308</td>\n",
       "      <td>0.135713</td>\n",
       "    </tr>\n",
       "    <tr>\n",
       "      <th>required_car_parking_spaces</th>\n",
       "      <td>3810.0</td>\n",
       "      <td>-0.016432</td>\n",
       "      <td>0.037337</td>\n",
       "      <td>-0.156786</td>\n",
       "      <td>-0.016209</td>\n",
       "      <td>-0.007633</td>\n",
       "      <td>-0.003476</td>\n",
       "      <td>0.035064</td>\n",
       "    </tr>\n",
       "    <tr>\n",
       "      <th>distribution_channel</th>\n",
       "      <td>3810.0</td>\n",
       "      <td>-0.003003</td>\n",
       "      <td>0.006450</td>\n",
       "      <td>-0.045566</td>\n",
       "      <td>-0.003801</td>\n",
       "      <td>0.000000</td>\n",
       "      <td>0.000000</td>\n",
       "      <td>0.048720</td>\n",
       "    </tr>\n",
       "    <tr>\n",
       "      <th>adults</th>\n",
       "      <td>3810.0</td>\n",
       "      <td>-0.000139</td>\n",
       "      <td>0.003160</td>\n",
       "      <td>-0.028354</td>\n",
       "      <td>-0.000783</td>\n",
       "      <td>0.000000</td>\n",
       "      <td>0.001021</td>\n",
       "      <td>0.061278</td>\n",
       "    </tr>\n",
       "    <tr>\n",
       "      <th>total_of_special_requests</th>\n",
       "      <td>3810.0</td>\n",
       "      <td>-0.021631</td>\n",
       "      <td>0.049335</td>\n",
       "      <td>-0.091049</td>\n",
       "      <td>-0.054158</td>\n",
       "      <td>-0.030472</td>\n",
       "      <td>-0.007641</td>\n",
       "      <td>0.128152</td>\n",
       "    </tr>\n",
       "    <tr>\n",
       "      <th>meal</th>\n",
       "      <td>3810.0</td>\n",
       "      <td>-0.000709</td>\n",
       "      <td>0.003784</td>\n",
       "      <td>-0.024150</td>\n",
       "      <td>-0.002534</td>\n",
       "      <td>-0.000824</td>\n",
       "      <td>-0.000348</td>\n",
       "      <td>0.047425</td>\n",
       "    </tr>\n",
       "    <tr>\n",
       "      <th>previous_bookings_not_canceled</th>\n",
       "      <td>3810.0</td>\n",
       "      <td>-0.000649</td>\n",
       "      <td>0.008216</td>\n",
       "      <td>-0.126517</td>\n",
       "      <td>-0.000802</td>\n",
       "      <td>0.000086</td>\n",
       "      <td>0.000191</td>\n",
       "      <td>0.139334</td>\n",
       "    </tr>\n",
       "    <tr>\n",
       "      <th>stays_in_week_nights</th>\n",
       "      <td>3810.0</td>\n",
       "      <td>-0.000564</td>\n",
       "      <td>0.002998</td>\n",
       "      <td>-0.013662</td>\n",
       "      <td>0.000001</td>\n",
       "      <td>0.000002</td>\n",
       "      <td>0.000002</td>\n",
       "      <td>0.109496</td>\n",
       "    </tr>\n",
       "    <tr>\n",
       "      <th>babies</th>\n",
       "      <td>3810.0</td>\n",
       "      <td>0.000000</td>\n",
       "      <td>0.000000</td>\n",
       "      <td>0.000000</td>\n",
       "      <td>0.000000</td>\n",
       "      <td>0.000000</td>\n",
       "      <td>0.000000</td>\n",
       "      <td>0.000000</td>\n",
       "    </tr>\n",
       "    <tr>\n",
       "      <th>children</th>\n",
       "      <td>3810.0</td>\n",
       "      <td>-0.000803</td>\n",
       "      <td>0.002660</td>\n",
       "      <td>-0.014049</td>\n",
       "      <td>0.000000</td>\n",
       "      <td>0.000000</td>\n",
       "      <td>0.000000</td>\n",
       "      <td>0.003864</td>\n",
       "    </tr>\n",
       "    <tr>\n",
       "      <th>company</th>\n",
       "      <td>3810.0</td>\n",
       "      <td>0.000000</td>\n",
       "      <td>0.000000</td>\n",
       "      <td>0.000000</td>\n",
       "      <td>0.000000</td>\n",
       "      <td>0.000000</td>\n",
       "      <td>0.000000</td>\n",
       "      <td>0.000000</td>\n",
       "    </tr>\n",
       "    <tr>\n",
       "      <th>is_repeated_guest</th>\n",
       "      <td>3810.0</td>\n",
       "      <td>-0.000102</td>\n",
       "      <td>0.000813</td>\n",
       "      <td>-0.015481</td>\n",
       "      <td>0.000000</td>\n",
       "      <td>0.000000</td>\n",
       "      <td>0.000000</td>\n",
       "      <td>0.000000</td>\n",
       "    </tr>\n",
       "    <tr>\n",
       "      <th>reserved_room_type</th>\n",
       "      <td>3810.0</td>\n",
       "      <td>-0.001130</td>\n",
       "      <td>0.003852</td>\n",
       "      <td>-0.018423</td>\n",
       "      <td>0.000000</td>\n",
       "      <td>0.000000</td>\n",
       "      <td>0.000000</td>\n",
       "      <td>0.088687</td>\n",
       "    </tr>\n",
       "    <tr>\n",
       "      <th>stays_in_weekend_nights</th>\n",
       "      <td>3810.0</td>\n",
       "      <td>0.000728</td>\n",
       "      <td>0.005186</td>\n",
       "      <td>-0.009556</td>\n",
       "      <td>0.000000</td>\n",
       "      <td>0.000000</td>\n",
       "      <td>0.000000</td>\n",
       "      <td>0.042465</td>\n",
       "    </tr>\n",
       "  </tbody>\n",
       "</table>\n",
       "</div>"
      ],
      "text/plain": [
       "                                 count      mean       std       min  \\\n",
       "arrival_date_day_of_month       3810.0  0.012899  0.024758 -0.009692   \n",
       "lead_time                       3810.0  0.001731  0.065319 -0.219577   \n",
       "arrival_date_week_number        3810.0  0.017920  0.021589 -0.032336   \n",
       "arrival_date_month              3810.0  0.019899  0.017779 -0.031339   \n",
       "adr                             3810.0  0.015373  0.018547 -0.033255   \n",
       "previous_cancellations          3810.0 -0.022484  0.020113 -0.071294   \n",
       "deposit_type                    3810.0 -0.022288  0.013814 -0.088723   \n",
       "agent                           3810.0  0.003220  0.018369 -0.092485   \n",
       "market_segment                  3810.0 -0.007976  0.042616 -0.193202   \n",
       "hotel                           3810.0  0.000672  0.004336 -0.014450   \n",
       "customer_type                   3810.0 -0.000513  0.034450 -0.115543   \n",
       "required_car_parking_spaces     3810.0 -0.016432  0.037337 -0.156786   \n",
       "distribution_channel            3810.0 -0.003003  0.006450 -0.045566   \n",
       "adults                          3810.0 -0.000139  0.003160 -0.028354   \n",
       "total_of_special_requests       3810.0 -0.021631  0.049335 -0.091049   \n",
       "meal                            3810.0 -0.000709  0.003784 -0.024150   \n",
       "previous_bookings_not_canceled  3810.0 -0.000649  0.008216 -0.126517   \n",
       "stays_in_week_nights            3810.0 -0.000564  0.002998 -0.013662   \n",
       "babies                          3810.0  0.000000  0.000000  0.000000   \n",
       "children                        3810.0 -0.000803  0.002660 -0.014049   \n",
       "company                         3810.0  0.000000  0.000000  0.000000   \n",
       "is_repeated_guest               3810.0 -0.000102  0.000813 -0.015481   \n",
       "reserved_room_type              3810.0 -0.001130  0.003852 -0.018423   \n",
       "stays_in_weekend_nights         3810.0  0.000728  0.005186 -0.009556   \n",
       "\n",
       "                                     25%       50%       75%       max  \n",
       "arrival_date_day_of_month       0.002193  0.003364  0.003898  0.094936  \n",
       "lead_time                      -0.026463  0.010521  0.041794  0.173277  \n",
       "arrival_date_week_number        0.004783  0.012268  0.022143  0.130656  \n",
       "arrival_date_month              0.006899  0.015169  0.030995  0.079928  \n",
       "adr                             0.000972  0.009192  0.026763  0.139819  \n",
       "previous_cancellations         -0.032794 -0.027811 -0.006534  0.267488  \n",
       "deposit_type                   -0.023530 -0.022477 -0.020884  0.152275  \n",
       "agent                          -0.004625  0.000419  0.009331  0.092367  \n",
       "market_segment                 -0.046233  0.001139  0.021092  0.084854  \n",
       "hotel                           0.000000  0.000000  0.000000  0.036013  \n",
       "customer_type                  -0.010681  0.006629  0.020308  0.135713  \n",
       "required_car_parking_spaces    -0.016209 -0.007633 -0.003476  0.035064  \n",
       "distribution_channel           -0.003801  0.000000  0.000000  0.048720  \n",
       "adults                         -0.000783  0.000000  0.001021  0.061278  \n",
       "total_of_special_requests      -0.054158 -0.030472 -0.007641  0.128152  \n",
       "meal                           -0.002534 -0.000824 -0.000348  0.047425  \n",
       "previous_bookings_not_canceled -0.000802  0.000086  0.000191  0.139334  \n",
       "stays_in_week_nights            0.000001  0.000002  0.000002  0.109496  \n",
       "babies                          0.000000  0.000000  0.000000  0.000000  \n",
       "children                        0.000000  0.000000  0.000000  0.003864  \n",
       "company                         0.000000  0.000000  0.000000  0.000000  \n",
       "is_repeated_guest               0.000000  0.000000  0.000000  0.000000  \n",
       "reserved_room_type              0.000000  0.000000  0.000000  0.088687  \n",
       "stays_in_weekend_nights         0.000000  0.000000  0.000000  0.042465  "
      ]
     },
     "execution_count": 23,
     "metadata": {},
     "output_type": "execute_result"
    }
   ],
   "source": [
    "pred_dicts = list(est.experimental_predict_with_explanations(eval_input_fn))\n",
    "\n",
    "# create DFC pandas dataframe\n",
    "labels = yvalid.values\n",
    "probs = pd.Series([pred['probabilities'][1] for pred in pred_dicts])\n",
    "df_dfc = pd.DataFrame([pred['dfc'] for pred in pred_dicts])\n",
    "df_dfc.describe().T"
   ]
  },
  {
   "cell_type": "code",
   "execution_count": 24,
   "metadata": {
    "collapsed": false,
    "pycharm": {
     "name": "#%%\n"
    }
   },
   "outputs": [],
   "source": [
    "def _get_color(value):\n",
    "    \"\"\"\n",
    "    To make positive DFCs plot green, negative DFCs plot red.\n",
    "    :param value:\n",
    "    :return:\n",
    "    \"\"\"\n",
    "    green, red = sns.color_palette()[2:4]\n",
    "    return green if value >= 0 else red"
   ]
  },
  {
   "cell_type": "code",
   "execution_count": 25,
   "metadata": {
    "collapsed": false,
    "pycharm": {
     "name": "#%%\n"
    }
   },
   "outputs": [],
   "source": [
    "from matplotlib.font_manager import FontProperties\n",
    "\n",
    "def _add_feature_value(feature_values, ax):\n",
    "    \"\"\"\n",
    "    display feature's values on left of plot\n",
    "    :param feature_values:\n",
    "    :param ax:\n",
    "    :return:\n",
    "    \"\"\"\n",
    "    x_coord = ax.get_xlim()[0]\n",
    "    OFFSET = 0.15\n",
    "    for y_coord, (feat_name, feat_val) in enumerate(feature_values.items()):\n",
    "        t = plt.text(x_coord, y_coord - OFFSET, '{}'.format(feat_val), size=12)\n",
    "        t.set_bbox(dict(facecolor='white', alpha=0.5))\n",
    "        font = FontProperties()\n",
    "        font.set_weight('bold')\n",
    "        t = plt.text(x_coord, y_coord + 1 - OFFSET, 'feature\\nvalue', fontproperties=font, size=12)"
   ]
  },
  {
   "cell_type": "code",
   "execution_count": null,
   "metadata": {
    "collapsed": false,
    "pycharm": {
     "name": "#%%\n"
    }
   },
   "outputs": [],
   "source": []
  }
 ],
 "metadata": {
  "kernelspec": {
   "display_name": "Python 3",
   "language": "python",
   "name": "python3"
  },
  "language_info": {
   "codemirror_mode": {
    "name": "ipython",
    "version": 2
   },
   "file_extension": ".py",
   "mimetype": "text/x-python",
   "name": "python",
   "nbconvert_exporter": "python",
   "pygments_lexer": "ipython2",
   "version": "2.7.6"
  }
 },
 "nbformat": 4,
 "nbformat_minor": 0
}
