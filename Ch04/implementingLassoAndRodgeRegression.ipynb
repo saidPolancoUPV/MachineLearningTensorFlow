{
 "cells": [
  {
   "cell_type": "code",
   "execution_count": 2,
   "metadata": {
    "collapsed": false,
    "pycharm": {
     "name": "#%%\n"
    }
   },
   "outputs": [],
   "source": [
    "import tensorflow as tf\n",
    "import tensorflow.keras as keras\n",
    "import numpy as np\n",
    "import pandas as pd\n",
    "import tensorflow_datasets as tfds\n",
    "\n",
    "tfds.disable_progress_bar()"
   ]
  },
  {
   "cell_type": "code",
   "execution_count": 3,
   "metadata": {
    "collapsed": false,
    "pycharm": {
     "name": "#%%\n"
    }
   },
   "outputs": [
    {
     "name": "stdout",
     "output_type": "stream",
     "text": [
      "Downloading data from http://archive.ics.uci.edu/ml/machine-learning-databases/housing/housing.data\n",
      "49152/49082 [==============================] - 0s 2us/step\n"
     ]
    }
   ],
   "source": [
    "housing_url = 'http://archive.ics.uci.edu/ml/machine-learning-databases/housing/housing.data'\n",
    "path = tf.keras.utils.get_file(housing_url.split(\"/\")[-1], housing_url)\n",
    "\n",
    "columns = ['CRIM', 'ZN', 'INDUS', 'CHAS', 'NOX', 'RM', 'AGE',\n",
    "           'DIS', 'RAD', 'TAX', 'PTRATIO', 'B', 'LSTAT', 'MEDV']\n",
    "data = pd.read_table(path, delim_whitespace=True, header=None, names=columns)"
   ]
  },
  {
   "cell_type": "code",
   "execution_count": 5,
   "metadata": {
    "collapsed": false,
    "pycharm": {
     "name": "#%%\n"
    }
   },
   "outputs": [],
   "source": [
    "def define_feature_columns_layers(data_df, categorical_cols, numeric_cols):\n",
    "    feature_columns = []\n",
    "    feature_layer_inputs = {}\n",
    "\n",
    "    for feature_name in numeric_cols:\n",
    "        feature_columns.append(tf.feature_column.numeric_column(feature_name, dtype=tf.float32))\n",
    "        feature_layer_inputs[feature_name] = tf.keras.Input(shape=(1,), name=feature_name)\n",
    "\n",
    "    for feature_name in categorical_cols:\n",
    "        vocabulary = data_df[feature_name].unique()\n",
    "        cat = tf.feature_column.categorical_column_with_vocabulary_list(feature_name, vocabulary)\n",
    "        cat_one_hot = tf.feature_column.indicator_column(cat)\n",
    "        feature_columns.append(cat_one_hot)\n",
    "        feature_layer_inputs[feature_name] = tf.keras.Input(shape=(1,), name=feature_name, dtype=tf.int32)\n",
    "\n",
    "    return feature_columns, feature_layer_inputs\n",
    "\n",
    "learning_rate = 0.5\n",
    "def make_input_fn(data_df, label_df, num_epochs=10, shuffle=True, batch_size=256):\n",
    "    def input_function():\n",
    "        ds = tf.data.Dataset.from_tensor_slices((dict(data_df), label_df))\n",
    "        if shuffle:\n",
    "            ds = ds.shuffle(1000)\n",
    "        ds = ds.batch(batch_size).repeat(num_epochs)\n",
    "        return ds\n",
    "    return input_function\n",
    "\n",
    "def create_interactions(interactions_list, buckets=5):\n",
    "    feature_columns = []\n",
    "\n",
    "    for (a, b) in interactions_list:\n",
    "        crossed_feature = tf.feature_column.crossed_column([a, b], hash_bucket_size=buckets)\n",
    "        crossed_feature_one_hot = tf.feature_column.indicator_column(crossed_feature)\n",
    "        feature_columns.append(crossed_feature_one_hot)\n",
    "\n",
    "    return feature_columns"
   ]
  },
  {
   "cell_type": "code",
   "execution_count": 6,
   "metadata": {
    "collapsed": false,
    "pycharm": {
     "name": "#%%\n"
    }
   },
   "outputs": [],
   "source": [
    "categorical_cols = ['CHAS', 'RAD']\n",
    "numeric_cols = ['CRIM', 'ZN', 'INDUS', 'NOX', 'RM', 'AGE', 'DIS', 'TAX', 'PTRATIO', 'B', 'LSTAT']\n",
    "feature_columns, feature_layer_inputs = define_feature_columns_layers(data, categorical_cols, numeric_cols)\n",
    "interactions_columns = create_interactions([['RM', 'LSTAT']])\n",
    "\n",
    "feature_columns += interactions_columns"
   ]
  },
  {
   "cell_type": "code",
   "execution_count": 19,
   "metadata": {
    "collapsed": false,
    "pycharm": {
     "name": "#%%\n"
    }
   },
   "outputs": [],
   "source": [
    "def create_ridge_linreg(feature_columns, feature_layer_inputs, optimizer,\n",
    "                       loss='mean_squared_error', metrics=['mean_absolute_error'],\n",
    "                       l2=0.01):\n",
    "    regularizer = keras.regularizers.l2(l2)\n",
    "\n",
    "    feature_layer = keras.layers.DenseFeatures(feature_columns)\n",
    "    feature_layer_outputs = feature_layer(feature_layer_inputs)\n",
    "    norm = keras.layers.BatchNormalization()(feature_layer_outputs)\n",
    "    outputs = keras.layers.Dense(1, kernel_initializer='normal', kernel_regularizer=regularizer, activation='linear')(norm)\n",
    "\n",
    "    m = keras.Model(inputs=[v for v in feature_layer_inputs.values()], outputs=outputs)\n",
    "    m.compile(optimizer=optimizer, loss=loss, metrics=metrics)\n",
    "    return m"
   ]
  },
  {
   "cell_type": "code",
   "execution_count": 20,
   "metadata": {
    "collapsed": false,
    "pycharm": {
     "name": "#%%\n"
    }
   },
   "outputs": [],
   "source": [
    "import tempfile\n",
    "def canned_keras(model):\n",
    "    model_dir = tempfile.mkdtemp()\n",
    "    keras_estimator = tf.keras.estimator.model_to_estimator(keras_model=model, model_dir=model_dir)\n",
    "    return keras_estimator"
   ]
  },
  {
   "cell_type": "code",
   "execution_count": 21,
   "metadata": {
    "collapsed": false,
    "pycharm": {
     "name": "#%%\n"
    }
   },
   "outputs": [
    {
     "name": "stdout",
     "output_type": "stream",
     "text": [
      "INFO:tensorflow:Using default config.\n",
      "INFO:tensorflow:Using the Keras model provided.\n",
      "WARNING:tensorflow:From /usr/local/lib/python3.6/dist-packages/tensorflow/python/ops/resource_variable_ops.py:1666: calling BaseResourceVariable.__init__ (from tensorflow.python.ops.resource_variable_ops) with constraint is deprecated and will be removed in a future version.\n",
      "Instructions for updating:\n",
      "If using Keras pass *_constraint arguments to layers.\n",
      "WARNING:tensorflow:From /usr/local/lib/python3.6/dist-packages/tensorflow/python/keras/optimizer_v2/ftrl.py:144: calling Constant.__init__ (from tensorflow.python.ops.init_ops) with dtype is deprecated and will be removed in a future version.\n",
      "Instructions for updating:\n",
      "Call initializer instance with the dtype argument instead of passing it to the constructor\n",
      "INFO:tensorflow:Using config: {'_model_dir': '/tmp/tmpl8o4lyi0', '_tf_random_seed': None, '_save_summary_steps': 100, '_save_checkpoints_steps': None, '_save_checkpoints_secs': 600, '_session_config': allow_soft_placement: true\n",
      "graph_options {\n",
      "  rewrite_options {\n",
      "    meta_optimizer_iterations: ONE\n",
      "  }\n",
      "}\n",
      ", '_keep_checkpoint_max': 5, '_keep_checkpoint_every_n_hours': 10000, '_log_step_count_steps': 100, '_train_distribute': None, '_device_fn': None, '_protocol': None, '_eval_distribute': None, '_experimental_distribute': None, '_experimental_max_worker_delay_secs': None, '_session_creation_timeout_secs': 7200, '_service': None, '_cluster_spec': ClusterSpec({}), '_task_type': 'worker', '_task_id': 0, '_global_id_in_cluster': 0, '_master': '', '_evaluation_master': '', '_is_chief': True, '_num_ps_replicas': 0, '_num_worker_replicas': 1}\n"
     ]
    }
   ],
   "source": [
    "optimizer = keras.optimizers.Ftrl(learning_rate=0.02)\n",
    "model = create_ridge_linreg(feature_columns, feature_layer_inputs, optimizer, loss='mean_squared_error', metrics=['mean_absolute_error', 'mean_squared_error'], l2=0.01)\n",
    "\n",
    "estimator = canned_keras(model)"
   ]
  },
  {
   "cell_type": "code",
   "execution_count": 22,
   "metadata": {
    "collapsed": false,
    "pycharm": {
     "name": "#%%\n"
    }
   },
   "outputs": [],
   "source": [
    "np.random.seed(1)\n",
    "train = data.sample(frac=0.8).copy()\n",
    "y_train = train['MEDV']\n",
    "train.drop('MEDV', axis=1, inplace=True)\n",
    "\n",
    "test = data.loc[~data.index.isin(train.index)].copy()\n",
    "y_test = test['MEDV']\n",
    "test.drop('MEDV', axis=1, inplace=True)"
   ]
  },
  {
   "cell_type": "code",
   "execution_count": 23,
   "metadata": {
    "collapsed": false,
    "pycharm": {
     "name": "#%%\n"
    }
   },
   "outputs": [],
   "source": [
    "train_input_fn = make_input_fn(train, y_train, num_epochs=1400)\n",
    "test_input_fn = make_input_fn(test, y_test, num_epochs=1, shuffle=False)"
   ]
  },
  {
   "cell_type": "code",
   "execution_count": 24,
   "metadata": {
    "collapsed": false,
    "pycharm": {
     "name": "#%%\n"
    }
   },
   "outputs": [
    {
     "name": "stdout",
     "output_type": "stream",
     "text": [
      "WARNING:tensorflow:From /usr/local/lib/python3.6/dist-packages/tensorflow/python/training/training_util.py:236: Variable.initialized_value (from tensorflow.python.ops.variables) is deprecated and will be removed in a future version.\n",
      "Instructions for updating:\n",
      "Use Variable.read_value. Variables in 2.X are initialized automatically both in eager and graph (inside tf.defun) contexts.\n",
      "INFO:tensorflow:Calling model_fn.\n",
      "INFO:tensorflow:Done calling model_fn.\n",
      "INFO:tensorflow:Warm-starting with WarmStartSettings: WarmStartSettings(ckpt_to_initialize_from='/tmp/tmpl8o4lyi0/keras/keras_model.ckpt', vars_to_warm_start='.*', var_name_to_vocab_info={}, var_name_to_prev_var_name={})\n",
      "INFO:tensorflow:Warm-starting from: /tmp/tmpl8o4lyi0/keras/keras_model.ckpt\n",
      "INFO:tensorflow:Warm-starting variables only in TRAINABLE_VARIABLES.\n",
      "INFO:tensorflow:Warm-started 4 variables.\n",
      "INFO:tensorflow:Create CheckpointSaverHook.\n",
      "INFO:tensorflow:Graph was finalized.\n",
      "INFO:tensorflow:Running local_init_op.\n",
      "INFO:tensorflow:Done running local_init_op.\n",
      "INFO:tensorflow:Calling checkpoint listeners before saving checkpoint 0...\n",
      "INFO:tensorflow:Saving checkpoints for 0 into /tmp/tmpl8o4lyi0/model.ckpt.\n",
      "INFO:tensorflow:Calling checkpoint listeners after saving checkpoint 0...\n",
      "INFO:tensorflow:loss = 604.1702, step = 0\n",
      "INFO:tensorflow:global_step/sec: 154.694\n",
      "INFO:tensorflow:loss = 269.72418, step = 100 (0.649 sec)\n",
      "INFO:tensorflow:global_step/sec: 164.407\n",
      "INFO:tensorflow:loss = 136.73505, step = 200 (0.608 sec)\n",
      "INFO:tensorflow:global_step/sec: 148.889\n",
      "INFO:tensorflow:loss = 69.1792, step = 300 (0.672 sec)\n",
      "INFO:tensorflow:global_step/sec: 152.406\n",
      "INFO:tensorflow:loss = 45.88781, step = 400 (0.656 sec)\n",
      "INFO:tensorflow:global_step/sec: 151.256\n",
      "INFO:tensorflow:loss = 41.78771, step = 500 (0.661 sec)\n",
      "INFO:tensorflow:global_step/sec: 149.267\n",
      "INFO:tensorflow:loss = 36.336, step = 600 (0.670 sec)\n",
      "INFO:tensorflow:global_step/sec: 146.285\n",
      "INFO:tensorflow:loss = 38.255516, step = 700 (0.684 sec)\n",
      "INFO:tensorflow:global_step/sec: 148.274\n",
      "INFO:tensorflow:loss = 35.51462, step = 800 (0.673 sec)\n",
      "INFO:tensorflow:global_step/sec: 177.785\n",
      "INFO:tensorflow:loss = 29.27493, step = 900 (0.562 sec)\n",
      "INFO:tensorflow:global_step/sec: 166.347\n",
      "INFO:tensorflow:loss = 24.793234, step = 1000 (0.602 sec)\n",
      "INFO:tensorflow:global_step/sec: 149.729\n",
      "INFO:tensorflow:loss = 28.957924, step = 1100 (0.668 sec)\n",
      "INFO:tensorflow:global_step/sec: 149.192\n",
      "INFO:tensorflow:loss = 30.434448, step = 1200 (0.670 sec)\n",
      "INFO:tensorflow:global_step/sec: 150.128\n",
      "INFO:tensorflow:loss = 26.583572, step = 1300 (0.666 sec)\n",
      "INFO:tensorflow:global_step/sec: 159.932\n",
      "INFO:tensorflow:loss = 27.609512, step = 1400 (0.625 sec)\n",
      "INFO:tensorflow:global_step/sec: 150.665\n",
      "INFO:tensorflow:loss = 26.922585, step = 1500 (0.664 sec)\n",
      "INFO:tensorflow:global_step/sec: 148.347\n",
      "INFO:tensorflow:loss = 24.966543, step = 1600 (0.674 sec)\n",
      "INFO:tensorflow:global_step/sec: 156.579\n",
      "INFO:tensorflow:loss = 24.08862, step = 1700 (0.638 sec)\n",
      "INFO:tensorflow:global_step/sec: 158.713\n",
      "INFO:tensorflow:loss = 24.849401, step = 1800 (0.630 sec)\n",
      "INFO:tensorflow:global_step/sec: 147.413\n",
      "INFO:tensorflow:loss = 24.117426, step = 1900 (0.678 sec)\n",
      "INFO:tensorflow:global_step/sec: 153.299\n",
      "INFO:tensorflow:loss = 24.357224, step = 2000 (0.652 sec)\n",
      "INFO:tensorflow:global_step/sec: 149.224\n",
      "INFO:tensorflow:loss = 27.688747, step = 2100 (0.670 sec)\n",
      "INFO:tensorflow:global_step/sec: 148.929\n",
      "INFO:tensorflow:loss = 21.866093, step = 2200 (0.671 sec)\n",
      "INFO:tensorflow:global_step/sec: 150.793\n",
      "INFO:tensorflow:loss = 23.09697, step = 2300 (0.663 sec)\n",
      "INFO:tensorflow:global_step/sec: 148.413\n",
      "INFO:tensorflow:loss = 15.471186, step = 2400 (0.674 sec)\n",
      "INFO:tensorflow:global_step/sec: 153.684\n",
      "INFO:tensorflow:loss = 21.818157, step = 2500 (0.650 sec)\n",
      "INFO:tensorflow:global_step/sec: 161.117\n",
      "INFO:tensorflow:loss = 24.015776, step = 2600 (0.621 sec)\n",
      "INFO:tensorflow:global_step/sec: 148.217\n",
      "INFO:tensorflow:loss = 24.509512, step = 2700 (0.676 sec)\n",
      "INFO:tensorflow:Calling checkpoint listeners before saving checkpoint 2800...\n",
      "INFO:tensorflow:Saving checkpoints for 2800 into /tmp/tmpl8o4lyi0/model.ckpt.\n",
      "INFO:tensorflow:Calling checkpoint listeners after saving checkpoint 2800...\n",
      "INFO:tensorflow:Loss for final step: 30.25.\n",
      "INFO:tensorflow:Calling model_fn.\n",
      "INFO:tensorflow:Done calling model_fn.\n",
      "INFO:tensorflow:Starting evaluation at 2022-07-05T15:57:23Z\n",
      "INFO:tensorflow:Graph was finalized.\n",
      "INFO:tensorflow:Restoring parameters from /tmp/tmpl8o4lyi0/model.ckpt-2800\n",
      "INFO:tensorflow:Running local_init_op.\n",
      "INFO:tensorflow:Done running local_init_op.\n",
      "INFO:tensorflow:Inference Time : 0.20379s\n",
      "INFO:tensorflow:Finished evaluation at 2022-07-05-15:57:23\n",
      "INFO:tensorflow:Saving dict for global step 2800: global_step = 2800, loss = 25.231033, mean_absolute_error = 3.224673, mean_squared_error = 25.001328\n",
      "INFO:tensorflow:Saving 'checkpoint_path' summary for global step 2800: /tmp/tmpl8o4lyi0/model.ckpt-2800\n"
     ]
    }
   ],
   "source": [
    "estimator.train(train_input_fn)\n",
    "result = estimator.evaluate(test_input_fn)"
   ]
  },
  {
   "cell_type": "code",
   "execution_count": 25,
   "metadata": {
    "collapsed": false,
    "pycharm": {
     "name": "#%%\n"
    }
   },
   "outputs": [
    {
     "name": "stdout",
     "output_type": "stream",
     "text": [
      "{'loss': 25.231033, 'mean_absolute_error': 3.224673, 'mean_squared_error': 25.001328, 'global_step': 2800}\n"
     ]
    }
   ],
   "source": [
    "print(result)"
   ]
  },
  {
   "cell_type": "code",
   "execution_count": 26,
   "metadata": {
    "collapsed": false,
    "pycharm": {
     "name": "#%%\n"
    }
   },
   "outputs": [],
   "source": [
    "def create_lasso_linreg(feature_columns, feature_layer_inputs, optimizer, loss='mean_squared_error', metrics=['mean_absolute_error'], l1=0.001):\n",
    "    regularizer = keras.regularizers.l1(l1)\n",
    "\n",
    "    feature_layer = keras.layers.DenseFeatures(feature_columns)\n",
    "    feature_layer_outputs = feature_layer(feature_layer_inputs)\n",
    "    norm = keras.layers.BatchNormalization()(feature_layer_outputs)\n",
    "    outputs = keras.layers.Dense(1, kernel_initializer='normal', kernel_regularizer=regularizer, activation='linear')(norm)\n",
    "\n",
    "    model = keras.Model(inputs=[v for v in feature_layer_inputs.values()], outputs=outputs)\n",
    "    model.compile(optimizer=optimizer, loss=loss, metrics=metrics)\n",
    "    return model"
   ]
  },
  {
   "cell_type": "code",
   "execution_count": 27,
   "metadata": {
    "collapsed": false,
    "pycharm": {
     "name": "#%%\n"
    }
   },
   "outputs": [
    {
     "name": "stdout",
     "output_type": "stream",
     "text": [
      "INFO:tensorflow:Using default config.\n",
      "INFO:tensorflow:Using the Keras model provided.\n",
      "INFO:tensorflow:Using config: {'_model_dir': '/tmp/tmpmw2c8cv4', '_tf_random_seed': None, '_save_summary_steps': 100, '_save_checkpoints_steps': None, '_save_checkpoints_secs': 600, '_session_config': allow_soft_placement: true\n",
      "graph_options {\n",
      "  rewrite_options {\n",
      "    meta_optimizer_iterations: ONE\n",
      "  }\n",
      "}\n",
      ", '_keep_checkpoint_max': 5, '_keep_checkpoint_every_n_hours': 10000, '_log_step_count_steps': 100, '_train_distribute': None, '_device_fn': None, '_protocol': None, '_eval_distribute': None, '_experimental_distribute': None, '_experimental_max_worker_delay_secs': None, '_session_creation_timeout_secs': 7200, '_service': None, '_cluster_spec': ClusterSpec({}), '_task_type': 'worker', '_task_id': 0, '_global_id_in_cluster': 0, '_master': '', '_evaluation_master': '', '_is_chief': True, '_num_ps_replicas': 0, '_num_worker_replicas': 1}\n"
     ]
    }
   ],
   "source": [
    "optimizer = keras.optimizers.Ftrl(learning_rate=0.02)\n",
    "model = create_lasso_linreg(feature_columns, feature_layer_inputs, optimizer, loss='mean_squared_error', metrics=['mean_absolute_error', 'mean_squared_error'], l1=0.001)\n",
    "estimator = canned_keras(model)"
   ]
  },
  {
   "cell_type": "code",
   "execution_count": 28,
   "metadata": {
    "collapsed": false,
    "pycharm": {
     "name": "#%%\n"
    }
   },
   "outputs": [
    {
     "name": "stdout",
     "output_type": "stream",
     "text": [
      "INFO:tensorflow:Calling model_fn.\n",
      "INFO:tensorflow:Done calling model_fn.\n",
      "INFO:tensorflow:Warm-starting with WarmStartSettings: WarmStartSettings(ckpt_to_initialize_from='/tmp/tmpmw2c8cv4/keras/keras_model.ckpt', vars_to_warm_start='.*', var_name_to_vocab_info={}, var_name_to_prev_var_name={})\n",
      "INFO:tensorflow:Warm-starting from: /tmp/tmpmw2c8cv4/keras/keras_model.ckpt\n",
      "INFO:tensorflow:Warm-starting variables only in TRAINABLE_VARIABLES.\n",
      "INFO:tensorflow:Warm-started 4 variables.\n",
      "INFO:tensorflow:Create CheckpointSaverHook.\n",
      "INFO:tensorflow:Graph was finalized.\n",
      "INFO:tensorflow:Running local_init_op.\n",
      "INFO:tensorflow:Done running local_init_op.\n",
      "INFO:tensorflow:Calling checkpoint listeners before saving checkpoint 0...\n",
      "INFO:tensorflow:Saving checkpoints for 0 into /tmp/tmpmw2c8cv4/model.ckpt.\n",
      "INFO:tensorflow:Calling checkpoint listeners after saving checkpoint 0...\n",
      "INFO:tensorflow:loss = 641.12335, step = 0\n",
      "INFO:tensorflow:global_step/sec: 146.625\n",
      "INFO:tensorflow:loss = 322.80933, step = 100 (0.685 sec)\n",
      "INFO:tensorflow:global_step/sec: 146.986\n",
      "INFO:tensorflow:loss = 145.9284, step = 200 (0.680 sec)\n",
      "INFO:tensorflow:global_step/sec: 158.547\n",
      "INFO:tensorflow:loss = 66.33239, step = 300 (0.630 sec)\n",
      "INFO:tensorflow:global_step/sec: 152.222\n",
      "INFO:tensorflow:loss = 45.381123, step = 400 (0.657 sec)\n",
      "INFO:tensorflow:global_step/sec: 151.455\n",
      "INFO:tensorflow:loss = 31.281199, step = 500 (0.661 sec)\n",
      "INFO:tensorflow:global_step/sec: 149.625\n",
      "INFO:tensorflow:loss = 34.39042, step = 600 (0.668 sec)\n",
      "INFO:tensorflow:global_step/sec: 148.042\n",
      "INFO:tensorflow:loss = 28.850286, step = 700 (0.676 sec)\n",
      "INFO:tensorflow:global_step/sec: 149.275\n",
      "INFO:tensorflow:loss = 30.184958, step = 800 (0.670 sec)\n",
      "INFO:tensorflow:global_step/sec: 147.532\n",
      "INFO:tensorflow:loss = 33.358227, step = 900 (0.678 sec)\n",
      "INFO:tensorflow:global_step/sec: 160.299\n",
      "INFO:tensorflow:loss = 28.716993, step = 1000 (0.624 sec)\n",
      "INFO:tensorflow:global_step/sec: 155.918\n",
      "INFO:tensorflow:loss = 30.327612, step = 1100 (0.640 sec)\n",
      "INFO:tensorflow:global_step/sec: 156.071\n",
      "INFO:tensorflow:loss = 26.477125, step = 1200 (0.642 sec)\n",
      "INFO:tensorflow:global_step/sec: 152.162\n",
      "INFO:tensorflow:loss = 27.065628, step = 1300 (0.657 sec)\n",
      "INFO:tensorflow:global_step/sec: 151.6\n",
      "INFO:tensorflow:loss = 29.209759, step = 1400 (0.659 sec)\n",
      "INFO:tensorflow:global_step/sec: 150.143\n",
      "INFO:tensorflow:loss = 22.034693, step = 1500 (0.666 sec)\n",
      "INFO:tensorflow:global_step/sec: 150.272\n",
      "INFO:tensorflow:loss = 28.446634, step = 1600 (0.665 sec)\n",
      "INFO:tensorflow:global_step/sec: 149.435\n",
      "INFO:tensorflow:loss = 22.785954, step = 1700 (0.669 sec)\n",
      "INFO:tensorflow:global_step/sec: 155.471\n",
      "INFO:tensorflow:loss = 21.982601, step = 1800 (0.643 sec)\n",
      "INFO:tensorflow:global_step/sec: 169.94\n",
      "INFO:tensorflow:loss = 23.760733, step = 1900 (0.588 sec)\n",
      "INFO:tensorflow:global_step/sec: 160.936\n",
      "INFO:tensorflow:loss = 21.165226, step = 2000 (0.622 sec)\n",
      "INFO:tensorflow:global_step/sec: 146.935\n",
      "INFO:tensorflow:loss = 25.352917, step = 2100 (0.681 sec)\n",
      "INFO:tensorflow:global_step/sec: 170.747\n",
      "INFO:tensorflow:loss = 21.93834, step = 2200 (0.584 sec)\n",
      "INFO:tensorflow:global_step/sec: 172.326\n",
      "INFO:tensorflow:loss = 18.866169, step = 2300 (0.582 sec)\n",
      "INFO:tensorflow:global_step/sec: 149.061\n",
      "INFO:tensorflow:loss = 24.674223, step = 2400 (0.670 sec)\n",
      "INFO:tensorflow:global_step/sec: 149.386\n",
      "INFO:tensorflow:loss = 23.255352, step = 2500 (0.670 sec)\n",
      "INFO:tensorflow:global_step/sec: 147.224\n",
      "INFO:tensorflow:loss = 23.031464, step = 2600 (0.679 sec)\n",
      "INFO:tensorflow:global_step/sec: 147.676\n",
      "INFO:tensorflow:loss = 20.861015, step = 2700 (0.677 sec)\n",
      "INFO:tensorflow:Calling checkpoint listeners before saving checkpoint 2800...\n",
      "INFO:tensorflow:Saving checkpoints for 2800 into /tmp/tmpmw2c8cv4/model.ckpt.\n",
      "INFO:tensorflow:Calling checkpoint listeners after saving checkpoint 2800...\n",
      "INFO:tensorflow:Loss for final step: 22.300642.\n",
      "INFO:tensorflow:Calling model_fn.\n",
      "INFO:tensorflow:Done calling model_fn.\n",
      "INFO:tensorflow:Starting evaluation at 2022-07-05T16:38:43Z\n",
      "INFO:tensorflow:Graph was finalized.\n",
      "INFO:tensorflow:Restoring parameters from /tmp/tmpmw2c8cv4/model.ckpt-2800\n",
      "INFO:tensorflow:Running local_init_op.\n",
      "INFO:tensorflow:Done running local_init_op.\n",
      "INFO:tensorflow:Inference Time : 0.17671s\n",
      "INFO:tensorflow:Finished evaluation at 2022-07-05-16:38:43\n",
      "INFO:tensorflow:Saving dict for global step 2800: global_step = 2800, loss = 24.836575, mean_absolute_error = 3.2432635, mean_squared_error = 24.811958\n",
      "INFO:tensorflow:Saving 'checkpoint_path' summary for global step 2800: /tmp/tmpmw2c8cv4/model.ckpt-2800\n"
     ]
    }
   ],
   "source": [
    "train_input_fn = make_input_fn(train, y_train, num_epochs=1400)\n",
    "test_input_fn = make_input_fn(test, y_test, num_epochs=1, shuffle=False)\n",
    "estimator.train(train_input_fn)\n",
    "result = estimator.evaluate(test_input_fn)"
   ]
  },
  {
   "cell_type": "code",
   "execution_count": 29,
   "metadata": {
    "collapsed": false,
    "pycharm": {
     "name": "#%%\n"
    }
   },
   "outputs": [
    {
     "name": "stdout",
     "output_type": "stream",
     "text": [
      "{'loss': 24.836575, 'mean_absolute_error': 3.2432635, 'mean_squared_error': 24.811958, 'global_step': 2800}\n"
     ]
    }
   ],
   "source": [
    "print(result)"
   ]
  },
  {
   "cell_type": "code",
   "execution_count": 30,
   "metadata": {
    "collapsed": false,
    "pycharm": {
     "name": "#%%\n"
    }
   },
   "outputs": [],
   "source": [
    "def create_elasticnet_linreg(feature_columns, feature_layer_inputs, optimizer, loss='mean_squared_error', metrics=['mean_absolute_error'], l1=0.001, l2=0.01):\n",
    "    regularizer = keras.regularizers.l1_l2(l1=l1, l2=l2)\n",
    "\n",
    "    feature_layer = keras.layers.DenseFeatures(feature_columns)\n",
    "    feature_layer_outputs = feature_layer(feature_layer_inputs)\n",
    "    norm = keras.layers.BatchNormalization()(feature_layer_outputs)\n",
    "    outputs = keras.layers.Dense(1, kernel_initializer='normal', kernel_regularizer=regularizer,\n",
    "                                 activation='linear')(norm)\n",
    "    model = keras.Model(inputs=[v for v in feature_layer_inputs.values()], outputs=outputs)\n",
    "    model.compile(optimizer=optimizer, loss=loss, metrics=metrics)\n",
    "    return model"
   ]
  },
  {
   "cell_type": "code",
   "execution_count": 32,
   "metadata": {
    "collapsed": false,
    "pycharm": {
     "name": "#%%\n"
    }
   },
   "outputs": [
    {
     "name": "stdout",
     "output_type": "stream",
     "text": [
      "INFO:tensorflow:Using default config.\n",
      "INFO:tensorflow:Using the Keras model provided.\n",
      "INFO:tensorflow:Using config: {'_model_dir': '/tmp/tmpo7yeysim', '_tf_random_seed': None, '_save_summary_steps': 100, '_save_checkpoints_steps': None, '_save_checkpoints_secs': 600, '_session_config': allow_soft_placement: true\n",
      "graph_options {\n",
      "  rewrite_options {\n",
      "    meta_optimizer_iterations: ONE\n",
      "  }\n",
      "}\n",
      ", '_keep_checkpoint_max': 5, '_keep_checkpoint_every_n_hours': 10000, '_log_step_count_steps': 100, '_train_distribute': None, '_device_fn': None, '_protocol': None, '_eval_distribute': None, '_experimental_distribute': None, '_experimental_max_worker_delay_secs': None, '_session_creation_timeout_secs': 7200, '_service': None, '_cluster_spec': ClusterSpec({}), '_task_type': 'worker', '_task_id': 0, '_global_id_in_cluster': 0, '_master': '', '_evaluation_master': '', '_is_chief': True, '_num_ps_replicas': 0, '_num_worker_replicas': 1}\n"
     ]
    }
   ],
   "source": [
    "optimizer = keras.optimizers.Ftrl(learning_rate=0.02)\n",
    "model = create_elasticnet_linreg(feature_columns, feature_layer_inputs, optimizer, loss='mean_squared_error', metrics=['mean_absolute_error', 'mean_squared_error'], l1=0.001, l2=0.01)\n",
    "estimator = canned_keras(model)"
   ]
  },
  {
   "cell_type": "code",
   "execution_count": 33,
   "metadata": {
    "collapsed": false,
    "pycharm": {
     "name": "#%%\n"
    }
   },
   "outputs": [
    {
     "name": "stdout",
     "output_type": "stream",
     "text": [
      "INFO:tensorflow:Calling model_fn.\n",
      "INFO:tensorflow:Done calling model_fn.\n",
      "INFO:tensorflow:Warm-starting with WarmStartSettings: WarmStartSettings(ckpt_to_initialize_from='/tmp/tmpo7yeysim/keras/keras_model.ckpt', vars_to_warm_start='.*', var_name_to_vocab_info={}, var_name_to_prev_var_name={})\n",
      "INFO:tensorflow:Warm-starting from: /tmp/tmpo7yeysim/keras/keras_model.ckpt\n",
      "INFO:tensorflow:Warm-starting variables only in TRAINABLE_VARIABLES.\n",
      "INFO:tensorflow:Warm-started 4 variables.\n",
      "INFO:tensorflow:Create CheckpointSaverHook.\n",
      "INFO:tensorflow:Graph was finalized.\n",
      "INFO:tensorflow:Running local_init_op.\n",
      "INFO:tensorflow:Done running local_init_op.\n",
      "INFO:tensorflow:Calling checkpoint listeners before saving checkpoint 0...\n",
      "INFO:tensorflow:Saving checkpoints for 0 into /tmp/tmpo7yeysim/model.ckpt.\n",
      "INFO:tensorflow:Calling checkpoint listeners after saving checkpoint 0...\n",
      "INFO:tensorflow:loss = 567.3682, step = 0\n",
      "INFO:tensorflow:global_step/sec: 141.67\n",
      "INFO:tensorflow:loss = 316.2329, step = 100 (0.708 sec)\n",
      "INFO:tensorflow:global_step/sec: 154.778\n",
      "INFO:tensorflow:loss = 140.37112, step = 200 (0.646 sec)\n",
      "INFO:tensorflow:global_step/sec: 159.497\n",
      "INFO:tensorflow:loss = 66.43734, step = 300 (0.627 sec)\n",
      "INFO:tensorflow:global_step/sec: 148.475\n",
      "INFO:tensorflow:loss = 42.741768, step = 400 (0.673 sec)\n",
      "INFO:tensorflow:global_step/sec: 160.119\n",
      "INFO:tensorflow:loss = 30.198679, step = 500 (0.624 sec)\n",
      "INFO:tensorflow:global_step/sec: 163.894\n",
      "INFO:tensorflow:loss = 29.488813, step = 600 (0.610 sec)\n",
      "INFO:tensorflow:global_step/sec: 159.088\n",
      "INFO:tensorflow:loss = 27.464243, step = 700 (0.629 sec)\n",
      "INFO:tensorflow:global_step/sec: 194.689\n",
      "INFO:tensorflow:loss = 32.018997, step = 800 (0.512 sec)\n",
      "INFO:tensorflow:global_step/sec: 180.808\n",
      "INFO:tensorflow:loss = 31.776958, step = 900 (0.554 sec)\n",
      "INFO:tensorflow:global_step/sec: 153.284\n",
      "INFO:tensorflow:loss = 33.68638, step = 1000 (0.652 sec)\n",
      "INFO:tensorflow:global_step/sec: 149.314\n",
      "INFO:tensorflow:loss = 25.723206, step = 1100 (0.670 sec)\n",
      "INFO:tensorflow:global_step/sec: 147.865\n",
      "INFO:tensorflow:loss = 22.08157, step = 1200 (0.677 sec)\n",
      "INFO:tensorflow:global_step/sec: 147.299\n",
      "INFO:tensorflow:loss = 21.181446, step = 1300 (0.679 sec)\n",
      "INFO:tensorflow:global_step/sec: 161.032\n",
      "INFO:tensorflow:loss = 22.791016, step = 1400 (0.620 sec)\n",
      "INFO:tensorflow:global_step/sec: 171.39\n",
      "INFO:tensorflow:loss = 24.80465, step = 1500 (0.584 sec)\n",
      "INFO:tensorflow:global_step/sec: 147.314\n",
      "INFO:tensorflow:loss = 27.267773, step = 1600 (0.679 sec)\n",
      "INFO:tensorflow:global_step/sec: 144.1\n",
      "INFO:tensorflow:loss = 29.906355, step = 1700 (0.694 sec)\n",
      "INFO:tensorflow:global_step/sec: 147.089\n",
      "INFO:tensorflow:loss = 27.280418, step = 1800 (0.680 sec)\n",
      "INFO:tensorflow:global_step/sec: 148.471\n",
      "INFO:tensorflow:loss = 20.575277, step = 1900 (0.673 sec)\n",
      "INFO:tensorflow:global_step/sec: 153.562\n",
      "INFO:tensorflow:loss = 27.320763, step = 2000 (0.651 sec)\n",
      "INFO:tensorflow:global_step/sec: 149.82\n",
      "INFO:tensorflow:loss = 24.951727, step = 2100 (0.668 sec)\n",
      "INFO:tensorflow:global_step/sec: 150.6\n",
      "INFO:tensorflow:loss = 20.94263, step = 2200 (0.664 sec)\n",
      "INFO:tensorflow:global_step/sec: 167.228\n",
      "INFO:tensorflow:loss = 23.35431, step = 2300 (0.598 sec)\n",
      "INFO:tensorflow:global_step/sec: 157.9\n",
      "INFO:tensorflow:loss = 24.284136, step = 2400 (0.633 sec)\n",
      "INFO:tensorflow:global_step/sec: 168.606\n",
      "INFO:tensorflow:loss = 21.450102, step = 2500 (0.593 sec)\n",
      "INFO:tensorflow:global_step/sec: 149.425\n",
      "INFO:tensorflow:loss = 20.083033, step = 2600 (0.669 sec)\n",
      "INFO:tensorflow:global_step/sec: 147.704\n",
      "INFO:tensorflow:loss = 20.924238, step = 2700 (0.677 sec)\n",
      "INFO:tensorflow:Calling checkpoint listeners before saving checkpoint 2800...\n",
      "INFO:tensorflow:Saving checkpoints for 2800 into /tmp/tmpo7yeysim/model.ckpt.\n",
      "INFO:tensorflow:Calling checkpoint listeners after saving checkpoint 2800...\n",
      "INFO:tensorflow:Loss for final step: 19.668795.\n",
      "INFO:tensorflow:Calling model_fn.\n",
      "INFO:tensorflow:Done calling model_fn.\n",
      "INFO:tensorflow:Starting evaluation at 2022-07-05T16:47:58Z\n",
      "INFO:tensorflow:Graph was finalized.\n",
      "INFO:tensorflow:Restoring parameters from /tmp/tmpo7yeysim/model.ckpt-2800\n",
      "INFO:tensorflow:Running local_init_op.\n",
      "INFO:tensorflow:Done running local_init_op.\n",
      "INFO:tensorflow:Inference Time : 0.18511s\n",
      "INFO:tensorflow:Finished evaluation at 2022-07-05-16:47:59\n",
      "INFO:tensorflow:Saving dict for global step 2800: global_step = 2800, loss = 24.993603, mean_absolute_error = 3.2132103, mean_squared_error = 24.736013\n",
      "INFO:tensorflow:Saving 'checkpoint_path' summary for global step 2800: /tmp/tmpo7yeysim/model.ckpt-2800\n"
     ]
    }
   ],
   "source": [
    "train_input_fn = make_input_fn(train, y_train, num_epochs=1400)\n",
    "test_input_fn = make_input_fn(test, y_test, num_epochs=1, shuffle=False)\n",
    "estimator.train(train_input_fn)\n",
    "result = estimator.evaluate(test_input_fn)"
   ]
  },
  {
   "cell_type": "code",
   "execution_count": 34,
   "metadata": {
    "collapsed": false,
    "pycharm": {
     "name": "#%%\n"
    }
   },
   "outputs": [
    {
     "name": "stdout",
     "output_type": "stream",
     "text": [
      "{'loss': 24.993603, 'mean_absolute_error': 3.2132103, 'mean_squared_error': 24.736013, 'global_step': 2800}\n"
     ]
    }
   ],
   "source": [
    "print(result)"
   ]
  },
  {
   "cell_type": "code",
   "execution_count": null,
   "metadata": {
    "collapsed": false,
    "pycharm": {
     "name": "#%%\n"
    }
   },
   "outputs": [],
   "source": []
  }
 ],
 "metadata": {
  "kernelspec": {
   "display_name": "Python 3",
   "language": "python",
   "name": "python3"
  },
  "language_info": {
   "codemirror_mode": {
    "name": "ipython",
    "version": 3
   },
   "file_extension": ".py",
   "mimetype": "text/x-python",
   "name": "python",
   "nbconvert_exporter": "python",
   "pygments_lexer": "ipython3",
   "version": "3.6.9"
  }
 },
 "nbformat": 4,
 "nbformat_minor": 2
}
