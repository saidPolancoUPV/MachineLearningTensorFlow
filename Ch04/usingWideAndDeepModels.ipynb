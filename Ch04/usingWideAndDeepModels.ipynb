{
 "cells": [
  {
   "cell_type": "code",
   "execution_count": 1,
   "metadata": {
    "collapsed": false,
    "pycharm": {
     "name": "#%%\n"
    }
   },
   "outputs": [],
   "source": [
    "import tensorflow as tf\n",
    "import tensorflow.keras as keras"
   ]
  },
  {
   "cell_type": "code",
   "execution_count": 2,
   "metadata": {
    "collapsed": false,
    "pycharm": {
     "name": "#%%\n"
    }
   },
   "outputs": [],
   "source": [
    "census_dir = 'https://archive.ics.uci.edu/ml/machine-learning-databases/adult/'\n",
    "train_path = keras.utils.get_file('adult.data', census_dir + 'adult.data')\n",
    "test_path = keras.utils.get_file('adult.test', census_dir + 'adult.test')"
   ]
  },
  {
   "cell_type": "code",
   "execution_count": 3,
   "metadata": {
    "collapsed": false,
    "pycharm": {
     "name": "#%%\n"
    }
   },
   "outputs": [],
   "source": [
    "import pandas as pd\n",
    "\n",
    "columns = ['age', 'workclass', 'fnlwgt', 'education', 'education_num', 'marital_status', 'occupation', 'relationship', 'race',\n",
    "           'gender', 'capital_gain', 'capital_loss', 'hours_per_week', 'native_country', 'income_bracket']\n",
    "\n",
    "train_data = pd.read_csv(train_path, header=None, names=columns)\n",
    "test_data = pd.read_csv(test_path, header=None, names=columns, skiprows=1)"
   ]
  },
  {
   "cell_type": "code",
   "execution_count": 4,
   "metadata": {
    "collapsed": false,
    "pycharm": {
     "name": "#%%\n"
    }
   },
   "outputs": [],
   "source": [
    "predictors = ['age', 'workclass', 'education', 'education_num', 'marital_status', 'occupation', 'relationship', 'gender']\n",
    "\n",
    "y_train = (train_data.income_bracket==' >50K').astype(int)\n",
    "y_test = (test_data.income_bracket==' >50K.').astype(int)"
   ]
  },
  {
   "cell_type": "code",
   "execution_count": 5,
   "metadata": {
    "collapsed": false,
    "pycharm": {
     "name": "#%%\n"
    }
   },
   "outputs": [],
   "source": [
    "train_data = train_data[predictors]\n",
    "test_data = test_data[predictors]"
   ]
  },
  {
   "cell_type": "code",
   "execution_count": 6,
   "metadata": {
    "collapsed": false,
    "pycharm": {
     "name": "#%%\n"
    }
   },
   "outputs": [],
   "source": [
    "train_data[['age', 'education_num']] = train_data[['age', 'education_num']].fillna(train_data[['age', 'education_num']].mean())\n",
    "test_data[['age', 'education_num']] = test_data[['age', 'education_num']].fillna(train_data[['age', 'education_num']].mean())"
   ]
  },
  {
   "cell_type": "code",
   "execution_count": 7,
   "metadata": {
    "collapsed": false,
    "pycharm": {
     "name": "#%%\n"
    }
   },
   "outputs": [],
   "source": [
    "def define_feature_columns(data_df, numeric_cols, categorical_cols, categorical_embeds, dimension=30):\n",
    "    numeric_columns = []\n",
    "    categorical_columns = []\n",
    "    embeddings = []\n",
    "\n",
    "    for feature_name in numeric_cols:\n",
    "        numeric_columns.append(tf.feature_column.numeric_column(feature_name, dtype=tf.float32))\n",
    "\n",
    "    for feature_name in categorical_cols:\n",
    "        vocabolary = data_df[feature_name].unique()\n",
    "        categorical_columns.append(tf.feature_column.categorical_column_with_vocabulary_list(feature_name, vocabolary))\n",
    "\n",
    "    for feature_name in categorical_embeds:\n",
    "        vocabolary = data_df[feature_name].unique()\n",
    "        to_categorical = tf.feature_column.categorical_column_with_vocabulary_list(feature_name, vocabolary)\n",
    "\n",
    "    embeddings.append(tf.feature_column.embedding_column(to_categorical, dimension=dimension))\n",
    "\n",
    "    return numeric_columns, categorical_columns, embeddings"
   ]
  },
  {
   "cell_type": "code",
   "execution_count": 8,
   "metadata": {
    "collapsed": false,
    "pycharm": {
     "name": "#%%\n"
    }
   },
   "outputs": [],
   "source": [
    "def create_interactions(interactions_list, buckets=10):\n",
    "    feature_columns = []\n",
    "\n",
    "    for (a, b) in interactions_list:\n",
    "        crossed_feature = tf.feature_column.crossed_column([a, b], hash_bucket_size=buckets)\n",
    "        crossed_feature_one_hot = tf.feature_column.indicator_column(crossed_feature)\n",
    "        feature_columns.append(crossed_feature_one_hot)\n",
    "\n",
    "    return feature_columns"
   ]
  },
  {
   "cell_type": "code",
   "execution_count": 9,
   "metadata": {
    "collapsed": false,
    "pycharm": {
     "name": "#%%\n"
    }
   },
   "outputs": [],
   "source": [
    "numeric_columns, categorical_columns, embeddings = define_feature_columns(train_data,\n",
    "                                                                          numeric_cols=['age', 'education_num'],\n",
    "                                                                          categorical_cols=['gender'],\n",
    "                                                                          categorical_embeds=['workclass', 'education', 'marital_status', 'occupation', 'relationship'],\n",
    "                                                                          dimension=32)\n",
    "interactions = create_interactions([['education', 'occupation']], buckets=10)"
   ]
  },
  {
   "cell_type": "code",
   "execution_count": 10,
   "metadata": {
    "collapsed": false,
    "pycharm": {
     "name": "#%%\n"
    }
   },
   "outputs": [
    {
     "name": "stdout",
     "output_type": "stream",
     "text": [
      "INFO:tensorflow:Using default config.\n",
      "WARNING:tensorflow:Using temporary folder as model directory: /tmp/tmpv0fdmd_q\n",
      "INFO:tensorflow:Using config: {'_model_dir': '/tmp/tmpv0fdmd_q', '_tf_random_seed': None, '_save_summary_steps': 100, '_save_checkpoints_steps': None, '_save_checkpoints_secs': 600, '_session_config': allow_soft_placement: true\n",
      "graph_options {\n",
      "  rewrite_options {\n",
      "    meta_optimizer_iterations: ONE\n",
      "  }\n",
      "}\n",
      ", '_keep_checkpoint_max': 5, '_keep_checkpoint_every_n_hours': 10000, '_log_step_count_steps': 100, '_train_distribute': None, '_device_fn': None, '_protocol': None, '_eval_distribute': None, '_experimental_distribute': None, '_experimental_max_worker_delay_secs': None, '_session_creation_timeout_secs': 7200, '_service': None, '_cluster_spec': ClusterSpec({}), '_task_type': 'worker', '_task_id': 0, '_global_id_in_cluster': 0, '_master': '', '_evaluation_master': '', '_is_chief': True, '_num_ps_replicas': 0, '_num_worker_replicas': 1}\n"
     ]
    }
   ],
   "source": [
    "estimator = tf.estimator.DNNLinearCombinedClassifier(linear_feature_columns=numeric_columns+categorical_columns+interactions,\n",
    "                                                     linear_optimizer=keras.optimizers.Ftrl(learning_rate=0.0002),\n",
    "                                                     dnn_feature_columns=embeddings,\n",
    "                                                     dnn_hidden_units=[1024, 256, 128, 64],\n",
    "                                                     dnn_optimizer=keras.optimizers.Adam(learning_rate=0.0001))"
   ]
  },
  {
   "cell_type": "code",
   "execution_count": 11,
   "metadata": {
    "collapsed": false,
    "pycharm": {
     "name": "#%%\n"
    }
   },
   "outputs": [],
   "source": [
    "def make_input_fn(data_df, label_df, num_epochs=10, shuffle=True, batch_size=256):\n",
    "    def input_function():\n",
    "        ds = tf.data.Dataset.from_tensor_slices((dict(data_df), label_df))\n",
    "        if shuffle:\n",
    "            ds = ds.shuffle(1000)\n",
    "        ds = ds.batch(batch_size).repeat(num_epochs)\n",
    "        return ds\n",
    "    return input_function"
   ]
  },
  {
   "cell_type": "code",
   "execution_count": 12,
   "metadata": {
    "collapsed": false,
    "pycharm": {
     "name": "#%%\n"
    }
   },
   "outputs": [],
   "source": [
    "train_input_fn = make_input_fn(train_data, y_train, num_epochs=100, batch_size=256)\n",
    "test_input_fn = make_input_fn(test_data, y_test, num_epochs=1, shuffle=False)"
   ]
  },
  {
   "cell_type": "code",
   "execution_count": 13,
   "metadata": {
    "collapsed": false,
    "pycharm": {
     "name": "#%%\n"
    }
   },
   "outputs": [
    {
     "name": "stdout",
     "output_type": "stream",
     "text": [
      "WARNING:tensorflow:From /usr/local/lib/python3.6/dist-packages/tensorflow/python/ops/resource_variable_ops.py:1666: calling BaseResourceVariable.__init__ (from tensorflow.python.ops.resource_variable_ops) with constraint is deprecated and will be removed in a future version.\n",
      "Instructions for updating:\n",
      "If using Keras pass *_constraint arguments to layers.\n",
      "WARNING:tensorflow:From /usr/local/lib/python3.6/dist-packages/tensorflow/python/training/training_util.py:236: Variable.initialized_value (from tensorflow.python.ops.variables) is deprecated and will be removed in a future version.\n",
      "Instructions for updating:\n",
      "Use Variable.read_value. Variables in 2.X are initialized automatically both in eager and graph (inside tf.defun) contexts.\n",
      "INFO:tensorflow:Calling model_fn.\n",
      "WARNING:tensorflow:From /usr/local/lib/python3.6/dist-packages/tensorflow/python/feature_column/feature_column_v2.py:540: Layer.add_variable (from tensorflow.python.keras.engine.base_layer_v1) is deprecated and will be removed in a future version.\n",
      "Instructions for updating:\n",
      "Please use `layer.add_weight` method instead.\n",
      "WARNING:tensorflow:From /usr/local/lib/python3.6/dist-packages/tensorflow/python/keras/optimizer_v2/ftrl.py:144: calling Constant.__init__ (from tensorflow.python.ops.init_ops) with dtype is deprecated and will be removed in a future version.\n",
      "Instructions for updating:\n",
      "Call initializer instance with the dtype argument instead of passing it to the constructor\n",
      "INFO:tensorflow:Done calling model_fn.\n",
      "INFO:tensorflow:Create CheckpointSaverHook.\n",
      "INFO:tensorflow:Graph was finalized.\n",
      "INFO:tensorflow:Running local_init_op.\n",
      "INFO:tensorflow:Done running local_init_op.\n",
      "INFO:tensorflow:Calling checkpoint listeners before saving checkpoint 0...\n",
      "INFO:tensorflow:Saving checkpoints for 0 into /tmp/tmpv0fdmd_q/model.ckpt.\n",
      "INFO:tensorflow:Calling checkpoint listeners after saving checkpoint 0...\n",
      "INFO:tensorflow:loss = 0.68948835, step = 0\n",
      "INFO:tensorflow:global_step/sec: 90.6044\n",
      "INFO:tensorflow:loss = 0.47076374, step = 100 (1.106 sec)\n",
      "INFO:tensorflow:global_step/sec: 101.157\n",
      "INFO:tensorflow:loss = 0.4026358, step = 200 (0.988 sec)\n",
      "INFO:tensorflow:global_step/sec: 103.76\n",
      "INFO:tensorflow:loss = 0.4169814, step = 300 (0.963 sec)\n",
      "INFO:tensorflow:global_step/sec: 108.801\n",
      "INFO:tensorflow:loss = 0.40666932, step = 400 (0.919 sec)\n",
      "INFO:tensorflow:global_step/sec: 103.061\n",
      "INFO:tensorflow:loss = 0.40612245, step = 500 (0.970 sec)\n",
      "INFO:tensorflow:global_step/sec: 103.678\n",
      "INFO:tensorflow:loss = 0.41728592, step = 600 (0.964 sec)\n",
      "INFO:tensorflow:global_step/sec: 104.2\n",
      "INFO:tensorflow:loss = 0.45544082, step = 700 (0.959 sec)\n",
      "INFO:tensorflow:global_step/sec: 106.439\n",
      "INFO:tensorflow:loss = 0.4511566, step = 800 (0.940 sec)\n",
      "INFO:tensorflow:global_step/sec: 106.618\n",
      "INFO:tensorflow:loss = 0.41982344, step = 900 (0.938 sec)\n",
      "INFO:tensorflow:global_step/sec: 101.127\n",
      "INFO:tensorflow:loss = 0.43475035, step = 1000 (0.989 sec)\n",
      "INFO:tensorflow:global_step/sec: 108.21\n",
      "INFO:tensorflow:loss = 0.47605008, step = 1100 (0.924 sec)\n",
      "INFO:tensorflow:global_step/sec: 102.199\n",
      "INFO:tensorflow:loss = 0.41704544, step = 1200 (0.978 sec)\n",
      "INFO:tensorflow:global_step/sec: 99.8319\n",
      "INFO:tensorflow:loss = 0.43288147, step = 1300 (1.002 sec)\n",
      "INFO:tensorflow:global_step/sec: 103.928\n",
      "INFO:tensorflow:loss = 0.45015335, step = 1400 (0.961 sec)\n",
      "INFO:tensorflow:Calling checkpoint listeners before saving checkpoint 1500...\n",
      "INFO:tensorflow:Saving checkpoints for 1500 into /tmp/tmpv0fdmd_q/model.ckpt.\n",
      "INFO:tensorflow:Calling checkpoint listeners after saving checkpoint 1500...\n",
      "INFO:tensorflow:Loss for final step: 0.47733873.\n",
      "INFO:tensorflow:Calling model_fn.\n",
      "INFO:tensorflow:Done calling model_fn.\n",
      "INFO:tensorflow:Starting evaluation at 2022-07-06T18:51:11Z\n",
      "INFO:tensorflow:Graph was finalized.\n",
      "INFO:tensorflow:Restoring parameters from /tmp/tmpv0fdmd_q/model.ckpt-1500\n",
      "INFO:tensorflow:Running local_init_op.\n",
      "INFO:tensorflow:Done running local_init_op.\n",
      "INFO:tensorflow:Inference Time : 1.50653s\n",
      "INFO:tensorflow:Finished evaluation at 2022-07-06-18:51:12\n",
      "INFO:tensorflow:Saving dict for global step 1500: accuracy = 0.76377374, accuracy_baseline = 0.76377374, auc = 0.8287723, auc_precision_recall = 0.53418684, average_loss = 0.4301044, global_step = 1500, label/mean = 0.23622628, loss = 0.43032768, precision = 0.0, prediction/mean = 0.23563127, recall = 0.0\n",
      "INFO:tensorflow:Saving 'checkpoint_path' summary for global step 1500: /tmp/tmpv0fdmd_q/model.ckpt-1500\n"
     ]
    }
   ],
   "source": [
    "estimator.train(input_fn=train_input_fn, steps=1500)\n",
    "result = estimator.evaluate(input_fn=test_input_fn)"
   ]
  },
  {
   "cell_type": "code",
   "execution_count": 14,
   "metadata": {
    "collapsed": false,
    "pycharm": {
     "name": "#%%\n"
    }
   },
   "outputs": [
    {
     "name": "stdout",
     "output_type": "stream",
     "text": [
      "{'accuracy': 0.76377374, 'accuracy_baseline': 0.76377374, 'auc': 0.8287723, 'auc_precision_recall': 0.53418684, 'average_loss': 0.4301044, 'label/mean': 0.23622628, 'loss': 0.43032768, 'precision': 0.0, 'prediction/mean': 0.23563127, 'recall': 0.0, 'global_step': 1500}\n"
     ]
    }
   ],
   "source": [
    "print(result)"
   ]
  },
  {
   "cell_type": "code",
   "execution_count": 15,
   "metadata": {
    "collapsed": false,
    "pycharm": {
     "name": "#%%\n"
    }
   },
   "outputs": [],
   "source": [
    "import numpy as np\n",
    "\n",
    "def predict_proba(predictor):\n",
    "    preds = list()\n",
    "    for pred in predictor:\n",
    "        preds.append(pred['probabilities'])\n",
    "    return np.array(preds)"
   ]
  },
  {
   "cell_type": "code",
   "execution_count": 16,
   "metadata": {
    "collapsed": false,
    "pycharm": {
     "name": "#%%\n"
    }
   },
   "outputs": [
    {
     "name": "stdout",
     "output_type": "stream",
     "text": [
      "INFO:tensorflow:Calling model_fn.\n",
      "INFO:tensorflow:Done calling model_fn.\n",
      "INFO:tensorflow:Graph was finalized.\n",
      "INFO:tensorflow:Restoring parameters from /tmp/tmpv0fdmd_q/model.ckpt-1500\n",
      "INFO:tensorflow:Running local_init_op.\n",
      "INFO:tensorflow:Done running local_init_op.\n"
     ]
    }
   ],
   "source": [
    "predictions = predict_proba(estimator.predict(input_fn=test_input_fn))"
   ]
  },
  {
   "cell_type": "code",
   "execution_count": 17,
   "metadata": {
    "collapsed": false,
    "pycharm": {
     "name": "#%%\n"
    }
   },
   "outputs": [
    {
     "data": {
      "text/plain": [
       "array([[0.9846005 , 0.01539955],\n",
       "       [0.5616371 , 0.43836293],\n",
       "       [0.5580712 , 0.4419288 ],\n",
       "       ...,\n",
       "       [0.55534965, 0.44465035],\n",
       "       [0.98383856, 0.01616144],\n",
       "       [0.5548155 , 0.44518456]], dtype=float32)"
      ]
     },
     "execution_count": 17,
     "metadata": {},
     "output_type": "execute_result"
    }
   ],
   "source": [
    "predictions"
   ]
  },
  {
   "cell_type": "code",
   "execution_count": null,
   "metadata": {
    "collapsed": false,
    "pycharm": {
     "name": "#%%\n"
    }
   },
   "outputs": [],
   "source": []
  }
 ],
 "metadata": {
  "kernelspec": {
   "display_name": "Python 3",
   "language": "python",
   "name": "python3"
  },
  "language_info": {
   "codemirror_mode": {
    "name": "ipython",
    "version": 2
   },
   "file_extension": ".py",
   "mimetype": "text/x-python",
   "name": "python",
   "nbconvert_exporter": "python",
   "pygments_lexer": "ipython2",
   "version": "2.7.6"
  }
 },
 "nbformat": 4,
 "nbformat_minor": 0
}
