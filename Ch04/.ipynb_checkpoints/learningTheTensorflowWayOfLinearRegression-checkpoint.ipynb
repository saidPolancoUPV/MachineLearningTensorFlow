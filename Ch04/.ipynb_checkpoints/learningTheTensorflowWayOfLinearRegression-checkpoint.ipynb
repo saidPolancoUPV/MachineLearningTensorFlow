{
 "cells": [
  {
   "cell_type": "code",
   "execution_count": 1,
   "metadata": {},
   "outputs": [
    {
     "name": "stdout",
     "output_type": "stream",
     "text": [
      "Collecting pandas\n",
      "  Downloading pandas-1.1.5-cp36-cp36m-manylinux1_x86_64.whl (9.5 MB)\n",
      "     |████████████████████████████████| 9.5 MB 1.5 MB/s            \n",
      "\u001b[?25hRequirement already satisfied: python-dateutil>=2.7.3 in /usr/local/lib/python3.6/dist-packages (from pandas) (2.8.1)\n",
      "Collecting pytz>=2017.2\n",
      "  Downloading pytz-2022.1-py2.py3-none-any.whl (503 kB)\n",
      "     |████████████████████████████████| 503 kB 13.0 MB/s            \n",
      "\u001b[?25hRequirement already satisfied: numpy>=1.15.4 in /usr/local/lib/python3.6/dist-packages (from pandas) (1.18.5)\n",
      "Requirement already satisfied: six>=1.5 in /usr/local/lib/python3.6/dist-packages (from python-dateutil>=2.7.3->pandas) (1.15.0)\n",
      "Installing collected packages: pytz, pandas\n",
      "Successfully installed pandas-1.1.5 pytz-2022.1\n",
      "\u001b[33mWARNING: Running pip as the 'root' user can result in broken permissions and conflicting behaviour with the system package manager. It is recommended to use a virtual environment instead: https://pip.pypa.io/warnings/venv\u001b[0m\n"
     ]
    }
   ],
   "source": [
    "!pip install pandas"
   ]
  },
  {
   "cell_type": "code",
   "execution_count": 2,
   "metadata": {},
   "outputs": [],
   "source": [
    "%load_ext tensorboard"
   ]
  },
  {
   "cell_type": "code",
   "execution_count": 3,
   "metadata": {},
   "outputs": [],
   "source": [
    "!rm -rf logs/*"
   ]
  },
  {
   "cell_type": "code",
   "execution_count": 4,
   "metadata": {},
   "outputs": [],
   "source": [
    "import tensorflow as tf\n",
    "import numpy as np\n",
    "import pandas as pd\n",
    "import tensorflow_datasets as tfds\n",
    "\n",
    "\n",
    "tfds.disable_progress_bar()"
   ]
  },
  {
   "cell_type": "code",
   "execution_count": 5,
   "metadata": {},
   "outputs": [
    {
     "name": "stdout",
     "output_type": "stream",
     "text": [
      "Downloading data from http://archive.ics.uci.edu/ml/machine-learning-databases/housing/housing.data\n",
      "49152/49082 [==============================] - 0s 2us/step\n"
     ]
    }
   ],
   "source": [
    "housing_url = 'http://archive.ics.uci.edu/ml/machine-learning-databases/housing/housing.data'\n",
    "path = tf.keras.utils.get_file(housing_url.split(\"/\")[-1], housing_url)\n",
    "\n",
    "columns = ['CRIM', 'ZN', 'INDUS', 'CHAS', 'NOX', 'RM', 'AGE',\n",
    "           'DIS', 'RAD', 'TAX', 'PTRATIO', 'B', 'LSTAT', 'MEDV']\n",
    "data = pd.read_table(path, delim_whitespace=True, header=None, names=columns)"
   ]
  },
  {
   "cell_type": "code",
   "execution_count": 6,
   "metadata": {},
   "outputs": [],
   "source": [
    "np.random.seed(1)\n",
    "train = data.sample(frac=0.8).copy()\n",
    "y_train = train['MEDV']\n",
    "train.drop('MEDV', axis=1, inplace=True)\n",
    "\n",
    "test= data.loc[~data.index.isin(train.index)].copy()\n",
    "y_test = test['MEDV']\n",
    "test.drop('MEDV', axis=1, inplace=True)"
   ]
  },
  {
   "cell_type": "code",
   "execution_count": 7,
   "metadata": {},
   "outputs": [],
   "source": [
    "learning_rate = 0.5\n",
    "def make_input_fn(data_df, label_df, num_epochs=10, shuffle=True, batch_size=256):\n",
    "    def input_function():\n",
    "        ds = tf.data.Dataset.from_tensor_slices((dict(data_df), label_df))\n",
    "        if shuffle:\n",
    "            ds = ds.shuffle(1000)\n",
    "        ds = ds.batch(batch_size).repeat(num_epochs)\n",
    "        return ds\n",
    "    return input_function\n",
    "\n",
    "def define_feature_columns(data_df, categorical_cols, numeric_cols):\n",
    "    feature_columns = []\n",
    "    \n",
    "    for feature_name in numeric_cols:\n",
    "        feature_columns.append(tf.feature_column.numeric_column(feature_name, dtype=tf.float32))\n",
    "        \n",
    "    for feature_name in categorical_cols:\n",
    "        vocabulary = data_df[feature_name].unique()\n",
    "        feature_columns.append(tf.feature_column.categorical_column_with_vocabulary_list(feature_name, vocabulary))\n",
    "        \n",
    "    return feature_columns"
   ]
  },
  {
   "cell_type": "code",
   "execution_count": 8,
   "metadata": {},
   "outputs": [],
   "source": [
    "categorical_cols = ['CHAS', 'RAD']\n",
    "numeric_cols = ['CRIM', 'ZN', 'INDUS', 'NOX', 'RM', 'AGE', 'DIS', 'TAX', 'PTRATIO', 'B', 'LSTAT']\n",
    "\n",
    "feature_columns = define_feature_columns(data, categorical_cols, numeric_cols)\n",
    "\n",
    "train_input_fn = make_input_fn(train, y_train, num_epochs=1400)\n",
    "test_input_fn = make_input_fn(test, y_test, num_epochs=1, shuffle=False)"
   ]
  },
  {
   "cell_type": "code",
   "execution_count": 9,
   "metadata": {},
   "outputs": [
    {
     "name": "stdout",
     "output_type": "stream",
     "text": [
      "INFO:tensorflow:Using config: {'_model_dir': 'logs/20220629-183542', '_tf_random_seed': None, '_save_summary_steps': 100, '_save_checkpoints_steps': None, '_save_checkpoints_secs': 600, '_session_config': allow_soft_placement: true\n",
      "graph_options {\n",
      "  rewrite_options {\n",
      "    meta_optimizer_iterations: ONE\n",
      "  }\n",
      "}\n",
      ", '_keep_checkpoint_max': 5, '_keep_checkpoint_every_n_hours': 10000, '_log_step_count_steps': 100, '_train_distribute': None, '_device_fn': None, '_protocol': None, '_eval_distribute': None, '_experimental_distribute': None, '_experimental_max_worker_delay_secs': None, '_session_creation_timeout_secs': 7200, '_service': None, '_cluster_spec': ClusterSpec({}), '_task_type': 'worker', '_task_id': 0, '_global_id_in_cluster': 0, '_master': '', '_evaluation_master': '', '_is_chief': True, '_num_ps_replicas': 0, '_num_worker_replicas': 1}\n"
     ]
    }
   ],
   "source": [
    "import os\n",
    "import datetime\n",
    "\n",
    "logdir = os.path.join(\"logs\", datetime.datetime.now().strftime(\"%Y%m%d-%H%M%S\"))\n",
    "tensorboard_callback = tf.keras.callbacks.TensorBoard(logdir, histogram_freq=1)\n",
    "\n",
    "linear_est = tf.estimator.LinearRegressor(feature_columns=feature_columns,\n",
    "                                         model_dir=logdir,\n",
    "                                         config=tf.estimator.RunConfig().replace(save_summary_steps=100))"
   ]
  },
  {
   "cell_type": "code",
   "execution_count": 10,
   "metadata": {},
   "outputs": [
    {
     "name": "stdout",
     "output_type": "stream",
     "text": [
      "WARNING:tensorflow:From /usr/local/lib/python3.6/dist-packages/tensorflow/python/ops/resource_variable_ops.py:1666: calling BaseResourceVariable.__init__ (from tensorflow.python.ops.resource_variable_ops) with constraint is deprecated and will be removed in a future version.\n",
      "Instructions for updating:\n",
      "If using Keras pass *_constraint arguments to layers.\n",
      "WARNING:tensorflow:From /usr/local/lib/python3.6/dist-packages/tensorflow/python/training/training_util.py:236: Variable.initialized_value (from tensorflow.python.ops.variables) is deprecated and will be removed in a future version.\n",
      "Instructions for updating:\n",
      "Use Variable.read_value. Variables in 2.X are initialized automatically both in eager and graph (inside tf.defun) contexts.\n",
      "INFO:tensorflow:Calling model_fn.\n",
      "WARNING:tensorflow:Layer linear/linear_model is casting an input tensor from dtype float64 to the layer's dtype of float32, which is new behavior in TensorFlow 2.  The layer has dtype float32 because it's dtype defaults to floatx.\n",
      "\n",
      "If you intended to run this layer in float32, you can safely ignore this warning. If in doubt, this warning is likely only an issue if you are porting a TensorFlow 1.X model to TensorFlow 2.\n",
      "\n",
      "To change all layers to have dtype float64 by default, call `tf.keras.backend.set_floatx('float64')`. To change just this layer, pass dtype='float64' to the layer constructor. If you are the author of this layer, you can disable autocasting by passing autocast=False to the base Layer constructor.\n",
      "\n",
      "WARNING:tensorflow:From /usr/local/lib/python3.6/dist-packages/tensorflow/python/feature_column/feature_column_v2.py:540: Layer.add_variable (from tensorflow.python.keras.engine.base_layer_v1) is deprecated and will be removed in a future version.\n",
      "Instructions for updating:\n",
      "Please use `layer.add_weight` method instead.\n",
      "WARNING:tensorflow:From /usr/local/lib/python3.6/dist-packages/tensorflow/python/keras/optimizer_v2/ftrl.py:144: calling Constant.__init__ (from tensorflow.python.ops.init_ops) with dtype is deprecated and will be removed in a future version.\n",
      "Instructions for updating:\n",
      "Call initializer instance with the dtype argument instead of passing it to the constructor\n",
      "INFO:tensorflow:Done calling model_fn.\n",
      "INFO:tensorflow:Create CheckpointSaverHook.\n",
      "INFO:tensorflow:Graph was finalized.\n",
      "INFO:tensorflow:Running local_init_op.\n",
      "INFO:tensorflow:Done running local_init_op.\n",
      "INFO:tensorflow:Calling checkpoint listeners before saving checkpoint 0...\n",
      "INFO:tensorflow:Saving checkpoints for 0 into logs/20220629-183542/model.ckpt.\n",
      "INFO:tensorflow:Calling checkpoint listeners after saving checkpoint 0...\n",
      "INFO:tensorflow:loss = 582.3167, step = 0\n",
      "INFO:tensorflow:global_step/sec: 98.3803\n",
      "INFO:tensorflow:loss = 56.423004, step = 100 (1.019 sec)\n",
      "INFO:tensorflow:global_step/sec: 112.086\n",
      "INFO:tensorflow:loss = 47.484814, step = 200 (0.892 sec)\n",
      "INFO:tensorflow:global_step/sec: 113.641\n",
      "INFO:tensorflow:loss = 48.538322, step = 300 (0.880 sec)\n",
      "INFO:tensorflow:global_step/sec: 112.149\n",
      "INFO:tensorflow:loss = 48.63542, step = 400 (0.892 sec)\n",
      "INFO:tensorflow:global_step/sec: 113.892\n",
      "INFO:tensorflow:loss = 46.82919, step = 500 (0.880 sec)\n",
      "INFO:tensorflow:global_step/sec: 113.619\n",
      "INFO:tensorflow:loss = 44.809635, step = 600 (0.878 sec)\n",
      "INFO:tensorflow:global_step/sec: 113.666\n",
      "INFO:tensorflow:loss = 45.784065, step = 700 (0.880 sec)\n",
      "INFO:tensorflow:global_step/sec: 113.413\n",
      "INFO:tensorflow:loss = 42.419212, step = 800 (0.882 sec)\n",
      "INFO:tensorflow:global_step/sec: 112.987\n",
      "INFO:tensorflow:loss = 40.6469, step = 900 (0.885 sec)\n",
      "INFO:tensorflow:global_step/sec: 113.404\n",
      "INFO:tensorflow:loss = 34.192017, step = 1000 (0.882 sec)\n",
      "INFO:tensorflow:global_step/sec: 113.759\n",
      "INFO:tensorflow:loss = 36.47396, step = 1100 (0.879 sec)\n",
      "INFO:tensorflow:global_step/sec: 113.536\n",
      "INFO:tensorflow:loss = 35.348133, step = 1200 (0.881 sec)\n",
      "INFO:tensorflow:global_step/sec: 113.167\n",
      "INFO:tensorflow:loss = 32.799305, step = 1300 (0.884 sec)\n",
      "INFO:tensorflow:global_step/sec: 113.445\n",
      "INFO:tensorflow:loss = 36.44928, step = 1400 (0.883 sec)\n",
      "INFO:tensorflow:global_step/sec: 113.554\n",
      "INFO:tensorflow:loss = 37.247547, step = 1500 (0.879 sec)\n",
      "INFO:tensorflow:global_step/sec: 113.916\n",
      "INFO:tensorflow:loss = 36.623253, step = 1600 (0.878 sec)\n",
      "INFO:tensorflow:global_step/sec: 112.886\n",
      "INFO:tensorflow:loss = 32.050858, step = 1700 (0.886 sec)\n",
      "INFO:tensorflow:global_step/sec: 113.136\n",
      "INFO:tensorflow:loss = 35.494644, step = 1800 (0.884 sec)\n",
      "INFO:tensorflow:global_step/sec: 113.508\n",
      "INFO:tensorflow:loss = 32.404312, step = 1900 (0.881 sec)\n",
      "INFO:tensorflow:global_step/sec: 113.17\n",
      "INFO:tensorflow:loss = 33.39926, step = 2000 (0.884 sec)\n",
      "INFO:tensorflow:global_step/sec: 113.872\n",
      "INFO:tensorflow:loss = 30.240868, step = 2100 (0.878 sec)\n",
      "INFO:tensorflow:global_step/sec: 113.51\n",
      "INFO:tensorflow:loss = 28.319454, step = 2200 (0.881 sec)\n",
      "INFO:tensorflow:global_step/sec: 114.027\n",
      "INFO:tensorflow:loss = 30.006054, step = 2300 (0.877 sec)\n",
      "INFO:tensorflow:global_step/sec: 113.801\n",
      "INFO:tensorflow:loss = 28.342173, step = 2400 (0.879 sec)\n",
      "INFO:tensorflow:global_step/sec: 113.088\n",
      "INFO:tensorflow:loss = 30.617527, step = 2500 (0.884 sec)\n",
      "INFO:tensorflow:global_step/sec: 113.665\n",
      "INFO:tensorflow:loss = 28.149603, step = 2600 (0.880 sec)\n",
      "INFO:tensorflow:global_step/sec: 114.469\n",
      "INFO:tensorflow:loss = 25.345982, step = 2700 (0.873 sec)\n",
      "INFO:tensorflow:Calling checkpoint listeners before saving checkpoint 2800...\n",
      "INFO:tensorflow:Saving checkpoints for 2800 into logs/20220629-183542/model.ckpt.\n",
      "INFO:tensorflow:Calling checkpoint listeners after saving checkpoint 2800...\n",
      "INFO:tensorflow:Loss for final step: 32.469673.\n",
      "INFO:tensorflow:Calling model_fn.\n",
      "WARNING:tensorflow:Layer linear/linear_model is casting an input tensor from dtype float64 to the layer's dtype of float32, which is new behavior in TensorFlow 2.  The layer has dtype float32 because it's dtype defaults to floatx.\n",
      "\n",
      "If you intended to run this layer in float32, you can safely ignore this warning. If in doubt, this warning is likely only an issue if you are porting a TensorFlow 1.X model to TensorFlow 2.\n",
      "\n",
      "To change all layers to have dtype float64 by default, call `tf.keras.backend.set_floatx('float64')`. To change just this layer, pass dtype='float64' to the layer constructor. If you are the author of this layer, you can disable autocasting by passing autocast=False to the base Layer constructor.\n",
      "\n",
      "INFO:tensorflow:Done calling model_fn.\n",
      "INFO:tensorflow:Starting evaluation at 2022-06-29T18:36:10Z\n",
      "INFO:tensorflow:Graph was finalized.\n",
      "INFO:tensorflow:Restoring parameters from logs/20220629-183542/model.ckpt-2800\n",
      "INFO:tensorflow:Running local_init_op.\n",
      "INFO:tensorflow:Done running local_init_op.\n",
      "INFO:tensorflow:Inference Time : 0.38289s\n",
      "INFO:tensorflow:Finished evaluation at 2022-06-29-18:36:10\n",
      "INFO:tensorflow:Saving dict for global step 2800: average_loss = 33.205025, global_step = 2800, label/mean = 22.048513, loss = 33.205025, prediction/mean = 20.894424\n",
      "INFO:tensorflow:Saving 'checkpoint_path' summary for global step 2800: logs/20220629-183542/model.ckpt-2800\n",
      "{'average_loss': 33.205025, 'label/mean': 22.048513, 'loss': 33.205025, 'prediction/mean': 20.894424, 'global_step': 2800}\n"
     ]
    }
   ],
   "source": [
    "linear_est.train(train_input_fn)\n",
    "result = linear_est.evaluate(test_input_fn)\n",
    "\n",
    "print(result)"
   ]
  },
  {
   "cell_type": "code",
   "execution_count": 11,
   "metadata": {},
   "outputs": [
    {
     "data": {
      "text/html": [
       "\n",
       "      <iframe id=\"tensorboard-frame-6a455815e1d1c1ee\" width=\"100%\" height=\"800\" frameborder=\"0\">\n",
       "      </iframe>\n",
       "      <script>\n",
       "        (function() {\n",
       "          const frame = document.getElementById(\"tensorboard-frame-6a455815e1d1c1ee\");\n",
       "          const url = new URL(\"/\", window.location);\n",
       "          url.port = 6006;\n",
       "          frame.src = url;\n",
       "        })();\n",
       "      </script>\n",
       "  "
      ],
      "text/plain": [
       "<IPython.core.display.HTML object>"
      ]
     },
     "metadata": {},
     "output_type": "display_data"
    }
   ],
   "source": []
  }
 ],
 "metadata": {
  "kernelspec": {
   "display_name": "Python 3",
   "language": "python",
   "name": "python3"
  },
  "language_info": {
   "codemirror_mode": {
    "name": "ipython",
    "version": 3
   },
   "file_extension": ".py",
   "mimetype": "text/x-python",
   "name": "python",
   "nbconvert_exporter": "python",
   "pygments_lexer": "ipython3",
   "version": "3.6.9"
  }
 },
 "nbformat": 4,
 "nbformat_minor": 2
}
