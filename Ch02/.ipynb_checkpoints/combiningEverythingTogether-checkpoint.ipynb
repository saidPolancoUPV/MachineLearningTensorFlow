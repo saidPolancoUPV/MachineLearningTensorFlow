{
 "cells": [
  {
   "cell_type": "code",
   "execution_count": 5,
   "metadata": {},
   "outputs": [],
   "source": [
    "import matplotlib.pyplot as plt\n",
    "import numpy as np\n",
    "import tensorflow as tf\n",
    "import tensorflow_datasets as tfds"
   ]
  },
  {
   "cell_type": "code",
   "execution_count": 6,
   "metadata": {},
   "outputs": [],
   "source": [
    "batch_size = 20"
   ]
  },
  {
   "cell_type": "code",
   "execution_count": 7,
   "metadata": {},
   "outputs": [],
   "source": [
    "iris = tfds.load('iris', split='train[:90%]', as_supervised=True)\n",
    "iris_test = tfds.load('iris', split='train[90%:]', as_supervised=True)\n",
    "\n",
    "def iris2d(features, label):\n",
    "    return features[2:], tf.cast((label == 0), dtype=tf.float32)\n",
    "\n",
    "train_generator = (iris.map(iris2d).shuffle(buffer_size=100).batch(batch_size))\n",
    "\n",
    "test_generator = iris_test.map(iris2d).batch(1)"
   ]
  },
  {
   "cell_type": "code",
   "execution_count": 8,
   "metadata": {},
   "outputs": [],
   "source": [
    "def linear_model(X, A, b):\n",
    "    my_output = tf.add(tf.matmul(X, A), b)\n",
    "    return tf.squeeze(my_output)"
   ]
  },
  {
   "cell_type": "code",
   "execution_count": 9,
   "metadata": {},
   "outputs": [],
   "source": [
    "def xentropy(y_true, y_pred):\n",
    "    return tf.reduce_mean(tf.nn.sigmoid_cross_entropy_with_logits(labels=y_true,\n",
    "                                                                 logits=y_pred))"
   ]
  },
  {
   "cell_type": "code",
   "execution_count": 10,
   "metadata": {},
   "outputs": [],
   "source": [
    "my_opt = tf.optimizers.SGD(learning_rate=0.02)"
   ]
  },
  {
   "cell_type": "code",
   "execution_count": 17,
   "metadata": {},
   "outputs": [
    {
     "name": "stdout",
     "output_type": "stream",
     "text": [
      "Step # 30 Wights: [[-1.1203105  1.2989808]] Biases: [1.0133277]\n",
      "Loss = 0.47591432929039\n",
      "Step # 60 Wights: [[-1.1845239  1.0780678]] Biases: [1.5133436]\n",
      "Loss = 0.28893178701400757\n",
      "Step # 90 Wights: [[-1.245542    0.89171493]] Biases: [1.9331523]\n",
      "Loss = 0.3090238571166992\n",
      "Step # 120 Wights: [[-1.3021222  0.7330702]] Biases: [2.2904475]\n",
      "Loss = 0.1613316684961319\n",
      "Step # 150 Wights: [[-1.3546755  0.5964348]] Biases: [2.5980713]\n",
      "Loss = 0.1737409085035324\n",
      "Step # 180 Wights: [[-1.4020619  0.4769537]] Biases: [2.8674524]\n",
      "Loss = 0.17169609665870667\n",
      "Step # 210 Wights: [[-1.4440237  0.3713711]] Biases: [3.1076746]\n",
      "Loss = 0.15404179692268372\n",
      "Step # 240 Wights: [[-1.4868718  0.2757481]] Biases: [3.3211915]\n",
      "Loss = 0.13931506872177124\n",
      "Step # 270 Wights: [[-1.5255989   0.18974496]] Biases: [3.5146933]\n",
      "Loss = 0.11944149434566498\n",
      "Step # 300 Wights: [[-1.5586897   0.11186857]] Biases: [3.6925933]\n",
      "Loss = 0.11575387418270111\n"
     ]
    }
   ],
   "source": [
    "tf.random.set_seed(1)\n",
    "\n",
    "np.random.seed(0)\n",
    "\n",
    "A = tf.Variable(tf.random.normal(shape=[2, 1]))\n",
    "b = tf.Variable(tf.random.normal(shape=[1]))\n",
    "history = list()\n",
    "\n",
    "for i in range(300):\n",
    "    iterations_loss = list()\n",
    "    for features, label in train_generator:\n",
    "        with tf.GradientTape() as tape:\n",
    "            predictions = linear_model(features, A, b)\n",
    "            loss = xentropy(label, predictions)\n",
    "        iterations_loss.append(loss.numpy())\n",
    "        gradients = tape.gradient(loss, [A, b])\n",
    "        my_opt.apply_gradients(zip(gradients, [A, b]))\n",
    "    history.append(np.mean(iterations_loss))\n",
    "    \n",
    "    if (i + 1) % 30 == 0:\n",
    "        print(f'Step # {i+1} Wights: {A.numpy().T} Biases: {b.numpy()}')\n",
    "        print(f'Loss = {loss.numpy()}')"
   ]
  },
  {
   "cell_type": "code",
   "execution_count": 18,
   "metadata": {},
   "outputs": [
    {
     "data": {
      "image/png": "[encoded data removed]",
      "text/plain": [
       "<Figure size 432x288 with 1 Axes>"
      ]
     },
     "metadata": {
      "needs_background": "light"
     },
     "output_type": "display_data"
    }
   ],
   "source": [
    "plt.plot(history)\n",
    "plt.xlabel('iterations')\n",
    "plt.ylabel('loss')\n",
    "plt.show()"
   ]
  },
  {
   "cell_type": "code",
   "execution_count": 19,
   "metadata": {},
   "outputs": [
    {
     "name": "stdout",
     "output_type": "stream",
     "text": [
      "Test cross-entropy is 0.10245539247989655\n"
     ]
    }
   ],
   "source": [
    "predictions = list()\n",
    "labels = list()\n",
    "for features, label in test_generator:\n",
    "    predictions.append(linear_model(features, A, b).numpy())\n",
    "    labels.append(label.numpy()[0])\n",
    "    \n",
    "test_loss = xentropy(np.array(labels), np.array(predictions)).numpy()\n",
    "print(f'Test cross-entropy is {test_loss}')"
   ]
  },
  {
   "cell_type": "code",
   "execution_count": 21,
   "metadata": {},
   "outputs": [
    {
     "data": {
      "image/png": "[encoded data removed]",
      "text/plain": [
       "<Figure size 432x288 with 1 Axes>"
      ]
     },
     "metadata": {
      "needs_background": "light"
     },
     "output_type": "display_data"
    }
   ],
   "source": [
    "coefficients = np.ravel(A.numpy())\n",
    "intercept = b.numpy()\n",
    "\n",
    "for j, (features, label) in enumerate(train_generator):\n",
    "    setosa_mask = label.numpy() == 1\n",
    "    setosa = features.numpy()[setosa_mask]\n",
    "    non_setosa = features.numpy()[~setosa_mask]\n",
    "    plt.scatter(setosa[:, 0], setosa[:, 1], c='red', label='setosa')\n",
    "    plt.scatter(non_setosa[:, 0], non_setosa[:, 1], c='blue', label='Non-setosa')\n",
    "    \n",
    "    if j == 0:\n",
    "        plt.legend(loc='lower right')\n",
    "        \n",
    "# computing and plotting the decision function\n",
    "a = -coefficients[0] / coefficients[1]\n",
    "xx = np.linspace(plt.xlim()[0], plt.xlim()[1], num=10000)\n",
    "yy = a * xx - intercept / coefficients[1]\n",
    "on_the_plot = (yy > plt.ylim()[0]) & (yy < plt.ylim()[1])\n",
    "plt.plot(xx[on_the_plot], yy[on_the_plot], 'k--')\n",
    "\n",
    "plt.xlabel('Petal Lenght')\n",
    "plt.xlabel('Petal Width')\n",
    "plt.show()"
   ]
  },
  {
   "cell_type": "code",
   "execution_count": null,
   "metadata": {},
   "outputs": [],
   "source": []
  }
 ],
 "metadata": {
  "kernelspec": {
   "display_name": "Python 3",
   "language": "python",
   "name": "python3"
  },
  "language_info": {
   "codemirror_mode": {
    "name": "ipython",
    "version": 3
   },
   "file_extension": ".py",
   "mimetype": "text/x-python",
   "name": "python",
   "nbconvert_exporter": "python",
   "pygments_lexer": "ipython3",
   "version": "3.6.9"
  }
 },
 "nbformat": 4,
 "nbformat_minor": 2
}
