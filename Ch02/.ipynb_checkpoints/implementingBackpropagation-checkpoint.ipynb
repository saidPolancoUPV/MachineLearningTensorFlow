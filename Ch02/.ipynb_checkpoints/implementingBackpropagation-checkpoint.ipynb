{
 "cells": [
  {
   "cell_type": "code",
   "execution_count": 3,
   "metadata": {},
   "outputs": [],
   "source": [
    "import numpy as np\n",
    "import tensorflow as tf\n",
    "import matplotlib.pyplot as plt"
   ]
  },
  {
   "cell_type": "code",
   "execution_count": 5,
   "metadata": {},
   "outputs": [
    {
     "data": {
      "image/png": "[encoded data removed]",
      "text/plain": [
       "<Figure size 432x288 with 1 Axes>"
      ]
     },
     "metadata": {
      "needs_background": "light"
     },
     "output_type": "display_data"
    }
   ],
   "source": [
    "np.random.seed(0)\n",
    "\n",
    "x_vals = np.random.normal(1, 0.1, 100).astype(np.float32)\n",
    "y_vals = (x_vals * (np.random.normal(1, 0.05, 100) - 0.5)).astype(np.float32)\n",
    "\n",
    "plt.scatter(x_vals, y_vals)\n",
    "plt.show()"
   ]
  },
  {
   "cell_type": "code",
   "execution_count": 13,
   "metadata": {},
   "outputs": [],
   "source": [
    "def my_output(X, weights, biases):\n",
    "    return tf.add(tf.multiply(X, weights), biases)"
   ]
  },
  {
   "cell_type": "code",
   "execution_count": 7,
   "metadata": {},
   "outputs": [],
   "source": [
    "def loss_func(y_true, y_pred):\n",
    "    return tf.reduce_mean(tf.square(y_pred - y_true))"
   ]
  },
  {
   "cell_type": "code",
   "execution_count": 8,
   "metadata": {},
   "outputs": [],
   "source": [
    "my_opt = tf.optimizers.SGD(learning_rate=0.02)"
   ]
  },
  {
   "cell_type": "code",
   "execution_count": 9,
   "metadata": {},
   "outputs": [],
   "source": [
    "tf.random.set_seed(1)\n",
    "np.random.seed(0)\n",
    "\n",
    "weights = tf.Variable(tf.random.normal(shape=[1]))\n",
    "biases = tf.Variable(tf.random.normal(shape=[1]))\n",
    "history = list()"
   ]
  },
  {
   "cell_type": "code",
   "execution_count": 16,
   "metadata": {},
   "outputs": [
    {
     "name": "stdout",
     "output_type": "stream",
     "text": [
      "Step # 25 Weights: [-0.50642693] Biases: [0.9811575]\n",
      "Loss = 0.0013587357243523002\n",
      "Step # 50 Weights: [-0.46770212] Biases: [1.005025]\n",
      "Loss = 8.333080040756613e-05\n",
      "Step # 75 Weights: [-0.47932613] Biases: [0.9803503]\n",
      "Loss = 0.00047265953617170453\n",
      "Step # 100 Weights: [-0.4588736] Biases: [0.98604697]\n",
      "Loss = 1.1310258742014412e-05\n"
     ]
    }
   ],
   "source": [
    "for i in range(100):\n",
    "    rand_index = np.random.choice(100)\n",
    "    rand_x = [x_vals[rand_index]]\n",
    "    rand_y = [y_vals[rand_index]]\n",
    "    with tf.GradientTape() as tape:\n",
    "        predictions = my_output(rand_x, weights, biases)\n",
    "        loss = loss_func(rand_y, predictions)\n",
    "        \n",
    "    history.append(loss.numpy())\n",
    "    gradients = tape.gradient(loss, [weights, biases])\n",
    "    my_opt.apply_gradients(zip(gradients, [weights, biases]))\n",
    "    \n",
    "    if (i + 1) % 25 == 0:\n",
    "        print(f'Step # {i+1} Weights: {weights.numpy()} Biases: {biases.numpy()}')\n",
    "        print(f'Loss = {loss.numpy()}')"
   ]
  },
  {
   "cell_type": "code",
   "execution_count": 17,
   "metadata": {},
   "outputs": [
    {
     "data": {
      "image/png": "[encoded data removed]",
      "text/plain": [
       "<Figure size 432x288 with 1 Axes>"
      ]
     },
     "metadata": {
      "needs_background": "light"
     },
     "output_type": "display_data"
    }
   ],
   "source": [
    "plt.plot(history)\n",
    "plt.xlabel('iterations')\n",
    "plt.ylabel('loss')\n",
    "plt.show()"
   ]
  },
  {
   "cell_type": "code",
   "execution_count": 18,
   "metadata": {},
   "outputs": [
    {
     "data": {
      "image/png": "[encoded data removed]",
      "text/plain": [
       "<Figure size 432x288 with 1 Axes>"
      ]
     },
     "metadata": {
      "needs_background": "light"
     },
     "output_type": "display_data"
    }
   ],
   "source": [
    "np.random.seed(0)\n",
    "\n",
    "x_vals = np.concatenate((np.random.normal(-3,  1, 50),\n",
    "                        np.random.normal(3, 1, 50))\n",
    "                       ).astype(np.float32)\n",
    "y_vals = np.concatenate((np.repeat(0., 50), np.repeat(1., 50))).astype(np.float32)\n",
    "\n",
    "plt.hist(x_vals[y_vals==1], color='b')\n",
    "plt.hist(x_vals[y_vals==0], color='r')\n",
    "plt.show()"
   ]
  },
  {
   "cell_type": "code",
   "execution_count": 19,
   "metadata": {},
   "outputs": [],
   "source": [
    "def loss_fuct(y_true, y_pred):\n",
    "    return tf.reduce.mean(tf.nn.sigmoid_cross_entropy_with_logits(labels=y_true, logits=y_pred))"
   ]
  },
  {
   "cell_type": "code",
   "execution_count": 21,
   "metadata": {},
   "outputs": [],
   "source": [
    "tf.random.set_seed(1)\n",
    "np.random.seed(0)\n",
    "weights = tf.Variable(tf.random.normal(shape=[1]))\n",
    "biases = tf.Variable(tf.random.normal(shape=[1]))\n",
    "history = list()"
   ]
  },
  {
   "cell_type": "code",
   "execution_count": 24,
   "metadata": {},
   "outputs": [
    {
     "name": "stdout",
     "output_type": "stream",
     "text": [
      "Step # 25 Weights: [0.096991] Biases: [0.5949427]\n",
      "Loss = 0.042475976049900055\n",
      "Step # 50 Weights: [0.15178035] Biases: [0.54626006]\n",
      "Loss = 0.01849176362156868\n",
      "Step # 75 Weights: [0.15344135] Biases: [0.49713552]\n",
      "Loss = 0.02255217358469963\n",
      "Step # 100 Weights: [0.14231898] Biases: [0.52130735]\n",
      "Loss = 0.005698272027075291\n"
     ]
    }
   ],
   "source": [
    "for i in range(100):\n",
    "    rand_index = np.random.choice(100)\n",
    "    rand_x = [x_vals[rand_index]]\n",
    "    rand_y = [y_vals[rand_index]]\n",
    "    \n",
    "    with tf.GradientTape() as tape:\n",
    "        predictions = my_output(rand_x, weights, biases)\n",
    "        loss = loss_func(rand_y, predictions)\n",
    "        \n",
    "    history.append(loss.numpy())\n",
    "    gradients = tape.gradient(loss, [weights, biases])\n",
    "    my_opt.apply_gradients(zip(gradients, [weights, biases]))\n",
    "    \n",
    "    if (i + 1) % 25 == 0:\n",
    "        print(f'Step # {i+1} Weights: {weights.numpy()} Biases: {biases.numpy()}')\n",
    "        print(f'Loss = {loss.numpy()}')"
   ]
  },
  {
   "cell_type": "code",
   "execution_count": 25,
   "metadata": {},
   "outputs": [
    {
     "data": {
      "image/png": "[encoded data removed]",
      "text/plain": [
       "<Figure size 432x288 with 1 Axes>"
      ]
     },
     "metadata": {
      "needs_background": "light"
     },
     "output_type": "display_data"
    }
   ],
   "source": [
    "plt.plot(history)\n",
    "plt.xlabel('iterations')\n",
    "plt.ylabel('loss')\n",
    "plt.show()"
   ]
  },
  {
   "cell_type": "code",
   "execution_count": null,
   "metadata": {},
   "outputs": [],
   "source": []
  }
 ],
 "metadata": {
  "kernelspec": {
   "display_name": "Python 3",
   "language": "python",
   "name": "python3"
  },
  "language_info": {
   "codemirror_mode": {
    "name": "ipython",
    "version": 3
   },
   "file_extension": ".py",
   "mimetype": "text/x-python",
   "name": "python",
   "nbconvert_exporter": "python",
   "pygments_lexer": "ipython3",
   "version": "3.6.9"
  }
 },
 "nbformat": 4,
 "nbformat_minor": 2
}
