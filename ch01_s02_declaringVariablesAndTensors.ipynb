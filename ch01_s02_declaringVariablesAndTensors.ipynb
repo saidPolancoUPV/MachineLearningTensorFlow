{
 "cells": [
  {
   "cell_type": "code",
   "execution_count": 1,
   "metadata": {},
   "outputs": [],
   "source": [
    "import tensorflow as tf"
   ]
  },
  {
   "cell_type": "code",
   "execution_count": 2,
   "metadata": {},
   "outputs": [],
   "source": [
    "row_dim, col_dim = 3, 3"
   ]
  },
  {
   "cell_type": "code",
   "execution_count": 3,
   "metadata": {},
   "outputs": [],
   "source": [
    "zero_tsr = tf.zeros(shape=[row_dim, col_dim], dtype=tf.float32)"
   ]
  },
  {
   "cell_type": "code",
   "execution_count": 4,
   "metadata": {},
   "outputs": [],
   "source": [
    "ones_tsr = tf.ones([row_dim, col_dim])"
   ]
  },
  {
   "cell_type": "code",
   "execution_count": 5,
   "metadata": {},
   "outputs": [],
   "source": [
    "filled_tsr = tf.fill([row_dim, col_dim], 42)"
   ]
  },
  {
   "cell_type": "code",
   "execution_count": 6,
   "metadata": {},
   "outputs": [],
   "source": [
    "constant_tsr = tf.constant([1, 2, 3])"
   ]
  },
  {
   "cell_type": "code",
   "execution_count": 7,
   "metadata": {},
   "outputs": [],
   "source": [
    "zeros_similar = tf.zeros_like(constant_tsr)\n",
    "ones_similar = tf.ones_like(constant_tsr)"
   ]
  },
  {
   "cell_type": "code",
   "execution_count": 8,
   "metadata": {},
   "outputs": [],
   "source": [
    "linear_tsr = tf.linspace(start=0.0, stop=1.0, num=3)"
   ]
  },
  {
   "cell_type": "code",
   "execution_count": 9,
   "metadata": {},
   "outputs": [
    {
     "data": {
      "text/plain": [
       "<tf.Tensor: shape=(3,), dtype=float32, numpy=array([0. , 0.5, 1. ], dtype=float32)>"
      ]
     },
     "execution_count": 9,
     "metadata": {},
     "output_type": "execute_result"
    }
   ],
   "source": [
    "linear_tsr"
   ]
  },
  {
   "cell_type": "code",
   "execution_count": 10,
   "metadata": {},
   "outputs": [
    {
     "data": {
      "text/plain": [
       "<tf.Tensor: shape=(3,), dtype=int32, numpy=array([ 6,  9, 12], dtype=int32)>"
      ]
     },
     "execution_count": 10,
     "metadata": {},
     "output_type": "execute_result"
    }
   ],
   "source": [
    "integer_seq_tsr = tf.range(start=6, limit=15, delta=3)\n",
    "integer_seq_tsr"
   ]
  },
  {
   "cell_type": "code",
   "execution_count": 11,
   "metadata": {},
   "outputs": [
    {
     "data": {
      "text/plain": [
       "<tf.Tensor: shape=(3, 3), dtype=float32, numpy=\n",
       "array([[0.78308296, 0.23537588, 0.9923427 ],\n",
       "       [0.5779834 , 0.8842201 , 0.78100276],\n",
       "       [0.32250106, 0.73805845, 0.14699161]], dtype=float32)>"
      ]
     },
     "execution_count": 11,
     "metadata": {},
     "output_type": "execute_result"
    }
   ],
   "source": [
    "randunif_tsr = tf.random.uniform([row_dim, col_dim], minval=0, maxval=1)\n",
    "randunif_tsr"
   ]
  },
  {
   "cell_type": "code",
   "execution_count": 13,
   "metadata": {},
   "outputs": [
    {
     "data": {
      "text/plain": [
       "<tf.Tensor: shape=(3, 3), dtype=float32, numpy=\n",
       "array([[-0.925636  ,  0.18255778, -0.7912087 ],\n",
       "       [ 1.4206249 , -1.449163  ,  0.6263274 ],\n",
       "       [-0.0823482 ,  0.6680618 ,  1.8149191 ]], dtype=float32)>"
      ]
     },
     "execution_count": 13,
     "metadata": {},
     "output_type": "execute_result"
    }
   ],
   "source": [
    "randnorm_tsr = tf.random.normal([row_dim, col_dim], mean=0.0, stddev=1.0)\n",
    "randnorm_tsr"
   ]
  },
  {
   "cell_type": "code",
   "execution_count": null,
   "metadata": {},
   "outputs": [],
   "source": [
    "# suffled_output = tf.random.shuffle(input_tensor)"
   ]
  },
  {
   "cell_type": "code",
   "execution_count": 15,
   "metadata": {},
   "outputs": [
    {
     "name": "stdout",
     "output_type": "stream",
     "text": [
      "tf.Tensor(\n",
      "[[[ 70 125  23]\n",
      "  [ 60 144  58]\n",
      "  [ 78   1  23]\n",
      "  ...\n",
      "  [ 57 111  21]\n",
      "  [ 22  76  17]\n",
      "  [ 34 124  86]]\n",
      "\n",
      " [[152  55 132]\n",
      "  [151  27 117]\n",
      "  [148  46  87]\n",
      "  ...\n",
      "  [128  58  59]\n",
      "  [104  77   0]\n",
      "  [ 74  26  54]]\n",
      "\n",
      " [[103 133   2]\n",
      "  [  4  24 122]\n",
      "  [ 22  31 135]\n",
      "  ...\n",
      "  [ 11 134  80]\n",
      "  [ 79  59 110]\n",
      "  [152  94  27]]\n",
      "\n",
      " ...\n",
      "\n",
      " [[103  12 130]\n",
      "  [ 44  62  93]\n",
      "  [ 69  31  33]\n",
      "  ...\n",
      "  [125  63 144]\n",
      "  [141  88 110]\n",
      "  [149  51  33]]\n",
      "\n",
      " [[ 28 105  93]\n",
      "  [ 23 122  30]\n",
      "  [ 40 154  69]\n",
      "  ...\n",
      "  [ 96  88  85]\n",
      "  [120   9 107]\n",
      "  [ 97  96  96]]\n",
      "\n",
      " [[ 77 146 130]\n",
      "  [114 149 126]\n",
      "  [ 22 114 112]\n",
      "  ...\n",
      "  [ 95  42  14]\n",
      "  [123  47 117]\n",
      "  [ 42  85 142]]], shape=(64, 64, 3), dtype=int32)\n",
      "tf.Tensor(\n",
      "[[[144  58  78]\n",
      "  [154  15 135]\n",
      "  [132 141   0]\n",
      "  ...\n",
      "  [ 42  96  61]\n",
      "  [ 51 120  72]\n",
      "  [ 76  46  67]]\n",
      "\n",
      " [[140  98  95]\n",
      "  [  4  74  57]\n",
      "  [133 132 114]\n",
      "  ...\n",
      "  [  8 103 129]\n",
      "  [  5 129 100]\n",
      "  [ 58 145  92]]\n",
      "\n",
      " [[ 98  27 108]\n",
      "  [153 125 129]\n",
      "  [ 10  88 154]\n",
      "  ...\n",
      "  [102  13 104]\n",
      "  [104 112   4]\n",
      "  [ 23  64  75]]\n",
      "\n",
      " ...\n",
      "\n",
      " [[128  90  63]\n",
      "  [ 91  86  93]\n",
      "  [ 74 127   7]\n",
      "  ...\n",
      "  [134  46 143]\n",
      "  [ 48   7  94]\n",
      "  [ 77  36 151]]\n",
      "\n",
      " [[ 86  18 138]\n",
      "  [ 35  11  87]\n",
      "  [129  82 140]\n",
      "  ...\n",
      "  [149  34 125]\n",
      "  [  4 142 107]\n",
      "  [144  23  81]]\n",
      "\n",
      " [[119 148 139]\n",
      "  [ 56   2 123]\n",
      "  [146 146  40]\n",
      "  ...\n",
      "  [143 129   8]\n",
      "  [148 148  93]\n",
      "  [  2  61  62]]], shape=(32, 32, 3), dtype=int32)\n"
     ]
    }
   ],
   "source": [
    "height, width = (64, 64)\n",
    "\n",
    "my_image = tf.random.uniform([height, width, 3], minval=0, maxval=155, dtype=tf.int32)\n",
    "\n",
    "cropped_image = tf.image.random_crop(my_image, [height//2, width//2, 3])\n",
    "\n",
    "print(my_image)\n",
    "print(cropped_image)"
   ]
  },
  {
   "cell_type": "code",
   "execution_count": null,
   "metadata": {},
   "outputs": [],
   "source": []
  },
  {
   "cell_type": "code",
   "execution_count": null,
   "metadata": {},
   "outputs": [],
   "source": []
  }
 ],
 "metadata": {
  "kernelspec": {
   "display_name": "Python 3",
   "language": "python",
   "name": "python3"
  },
  "language_info": {
   "codemirror_mode": {
    "name": "ipython",
    "version": 3
   },
   "file_extension": ".py",
   "mimetype": "text/x-python",
   "name": "python",
   "nbconvert_exporter": "python",
   "pygments_lexer": "ipython3",
   "version": "3.6.9"
  }
 },
 "nbformat": 4,
 "nbformat_minor": 2
}
